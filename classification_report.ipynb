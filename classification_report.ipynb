{
 "cells": [
  {
   "attachments": {
    "TelcoCo.png": {
     "image/png": "[encoded data removed]"
    }
   },
   "cell_type": "markdown",
   "id": "7837505a",
   "metadata": {},
   "source": [
    "![TelcoCo.png](attachment:TelcoCo.png)"
   ]
  },
  {
   "cell_type": "markdown",
   "id": "a3816c0f",
   "metadata": {},
   "source": [
    "   # Classification Project Part 1 - Report"
   ]
  },
  {
   "cell_type": "markdown",
   "id": "84c7b64c",
   "metadata": {},
   "source": [
    "Caroline Miller\n",
    "\n",
    "March 21, 2023\n",
    "\n",
    "O'Neil Data Science Cohort"
   ]
  },
  {
   "cell_type": "markdown",
   "id": "28b7f4ba",
   "metadata": {},
   "source": [
    "Goal: Complete the Data Science Pipeline using the telco_churn dataframe, the classification methodology, and Jupyter Notebook to provide effective vizualizations and insights as to why the customers of Telco are leaving the company, and identify key features which may be indicative of churn."
   ]
  },
  {
   "cell_type": "markdown",
   "id": "728b40a4",
   "metadata": {},
   "source": [
    "### Imports"
   ]
  },
  {
   "cell_type": "code",
   "execution_count": 1,
   "id": "e7cd8df5",
   "metadata": {},
   "outputs": [],
   "source": [
    "import matplotlib.pyplot as plt\n",
    "import seaborn as sns\n",
    "import pandas as pd\n",
    "import numpy as np\n",
    "import env\n",
    "import scipy.stats as stats\n",
    "\n",
    "from pydataset import data\n",
    "from datetime import datetime\n",
    "\n",
    "from sklearn.model_selection import train_test_split\n",
    "from sklearn.linear_model import LogisticRegression\n",
    "from sklearn.metrics import classification_report\n",
    "from sklearn.metrics import confusion_matrix\n",
    "from sklearn.metrics import accuracy_score\n",
    "\n",
    "from sklearn.tree import DecisionTreeClassifier, plot_tree, export_text\n",
    "from sklearn.metrics import precision_recall_fscore_support\n",
    "\n",
    "from sklearn.ensemble import RandomForestClassifier\n",
    "\n",
    "\n",
    "import evaluation\n",
    "import acquire\n",
    "import prepare"
   ]
  },
  {
   "cell_type": "markdown",
   "id": "03e17afa",
   "metadata": {},
   "source": [
    "### Acquire"
   ]
  },
  {
   "cell_type": "code",
   "execution_count": 2,
   "id": "1e11655d",
   "metadata": {},
   "outputs": [],
   "source": [
    "unclean_telco = ut = acquire.get_telco_data()"
   ]
  },
  {
   "cell_type": "markdown",
   "id": "eddde6f0",
   "metadata": {},
   "source": [
    "This dataframe is acquired using a function which imports the dataframe from MySQL. \n",
    "\n",
    "It joins five additional tables to the customers which results in a dataframe of 7,043 rows and 26 columns. \n",
    "\n",
    "Each row represents a telco customer/account, and each column represents a feature pretaining to that account/account holder. "
   ]
  },
  {
   "cell_type": "markdown",
   "id": "8905cd8a",
   "metadata": {},
   "source": [
    "### Prepare"
   ]
  },
  {
   "cell_type": "code",
   "execution_count": 3,
   "id": "d70c1126",
   "metadata": {},
   "outputs": [],
   "source": [
    "clean_telco = ct = prepare.prep_telco()"
   ]
  },
  {
   "cell_type": "markdown",
   "id": "7282cc87",
   "metadata": {},
   "source": [
    "The prepare telco dataframe is wrangled using a function which calls the aqcuire function. The function then cleans and transforms the dataframe. \n",
    "\n",
    "The following changes were made to the dataframe:\n",
    "    \n",
    "       1. Colummns were dropped: payment_type_id, internet_service_type_id, contract_type_id, customer_id\n",
    "       2. Boolean values were applied to all possible string values\n",
    "       3. String values which contained numeric values were changed to int or float\n",
    "       4. Columns which contained values 3 or less were transformed using pd.get_dummies()\n",
    "       5. All columns which contained dates were transformed into datetime datatypes\n",
    "       6. A column was added which contained the difference in date for customers who had churned \n",
    "       7. Null values in the churn_month and signup_date columns were filled with 00-00-0000 to represent that these accounts were still active. Note:  the majority of the accounts are still active, so removing them would only provide a dataset of solely customers who have churned."
   ]
  },
  {
   "cell_type": "markdown",
   "id": "56cefa97",
   "metadata": {},
   "source": [
    "### Explore"
   ]
  },
  {
   "cell_type": "code",
   "execution_count": 5,
   "id": "4583655a",
   "metadata": {},
   "outputs": [
    {
     "name": "stdout",
     "output_type": "stream",
     "text": [
      "<class 'pandas.core.frame.DataFrame'>\n",
      "Int64Index: 7043 entries, 0 to 7042\n",
      "Data columns (total 32 columns):\n",
      " #   Column                                Non-Null Count  Dtype          \n",
      "---  ------                                --------------  -----          \n",
      " 0   customer_id                           7043 non-null   object         \n",
      " 1   gender                                7043 non-null   object         \n",
      " 2   senior_citizen                        7043 non-null   int64          \n",
      " 3   partner                               7043 non-null   int64          \n",
      " 4   dependents                            7043 non-null   int64          \n",
      " 5   tenure                                7043 non-null   int64          \n",
      " 6   phone_service                         7043 non-null   int64          \n",
      " 7   multiple_lines                        7043 non-null   int64          \n",
      " 8   online_security                       7043 non-null   int64          \n",
      " 9   online_backup                         7043 non-null   int64          \n",
      " 10  device_protection                     7043 non-null   int64          \n",
      " 11  tech_support                          7043 non-null   int64          \n",
      " 12  streaming_tv                          7043 non-null   int64          \n",
      " 13  streaming_movies                      7043 non-null   int64          \n",
      " 14  paperless_billing                     7043 non-null   int64          \n",
      " 15  monthly_charges                       7043 non-null   float64        \n",
      " 16  total_charges                         7043 non-null   float64        \n",
      " 17  churn                                 7043 non-null   int64          \n",
      " 18  contract_type                         7043 non-null   object         \n",
      " 19  internet_service_type                 7043 non-null   object         \n",
      " 20  payment_type                          7043 non-null   object         \n",
      " 21  churn_month                           7043 non-null   object         \n",
      " 22  signup_date                           7043 non-null   datetime64[ns] \n",
      " 23  gender_Male                           7043 non-null   uint8          \n",
      " 24  contract_type_One year                7043 non-null   uint8          \n",
      " 25  contract_type_Two year                7043 non-null   uint8          \n",
      " 26  internet_service_type_Fiber optic     7043 non-null   uint8          \n",
      " 27  internet_service_type_None            7043 non-null   uint8          \n",
      " 28  payment_type_Credit card (automatic)  7043 non-null   uint8          \n",
      " 29  payment_type_Electronic check         7043 non-null   uint8          \n",
      " 30  payment_type_Mailed check             7043 non-null   uint8          \n",
      " 31  time_with_telco                       1869 non-null   timedelta64[ns]\n",
      "dtypes: datetime64[ns](1), float64(2), int64(14), object(6), timedelta64[ns](1), uint8(8)\n",
      "memory usage: 1.4+ MB\n"
     ]
    }
   ],
   "source": [
    "ct.info()"
   ]
  },
  {
   "cell_type": "code",
   "execution_count": null,
   "id": "b6ed163d",
   "metadata": {},
   "outputs": [],
   "source": []
  },
  {
   "cell_type": "code",
   "execution_count": null,
   "id": "545f8ff2",
   "metadata": {},
   "outputs": [],
   "source": []
  },
  {
   "cell_type": "code",
   "execution_count": null,
   "id": "b8a32381",
   "metadata": {},
   "outputs": [],
   "source": []
  },
  {
   "cell_type": "code",
   "execution_count": null,
   "id": "a7e55549",
   "metadata": {},
   "outputs": [],
   "source": []
  },
  {
   "cell_type": "code",
   "execution_count": null,
   "id": "727d2fca",
   "metadata": {},
   "outputs": [],
   "source": []
  },
  {
   "cell_type": "code",
   "execution_count": null,
   "id": "d57d7ccb",
   "metadata": {},
   "outputs": [],
   "source": []
  },
  {
   "cell_type": "code",
   "execution_count": null,
   "id": "e97c072e",
   "metadata": {},
   "outputs": [],
   "source": []
  },
  {
   "cell_type": "code",
   "execution_count": null,
   "id": "019a5f3c",
   "metadata": {},
   "outputs": [],
   "source": []
  },
  {
   "cell_type": "code",
   "execution_count": null,
   "id": "99d9318f",
   "metadata": {},
   "outputs": [],
   "source": []
  },
  {
   "cell_type": "code",
   "execution_count": null,
   "id": "e15f3253",
   "metadata": {},
   "outputs": [],
   "source": []
  },
  {
   "cell_type": "code",
   "execution_count": null,
   "id": "a9f10434",
   "metadata": {},
   "outputs": [],
   "source": []
  },
  {
   "cell_type": "code",
   "execution_count": null,
   "id": "47ecdd95",
   "metadata": {},
   "outputs": [],
   "source": []
  }
 ],
 "metadata": {
  "kernelspec": {
   "display_name": "Python 3 (ipykernel)",
   "language": "python",
   "name": "python3"
  },
  "language_info": {
   "codemirror_mode": {
    "name": "ipython",
    "version": 3
   },
   "file_extension": ".py",
   "mimetype": "text/x-python",
   "name": "python",
   "nbconvert_exporter": "python",
   "pygments_lexer": "ipython3",
   "version": "3.9.13"
  }
 },
 "nbformat": 4,
 "nbformat_minor": 5
}
