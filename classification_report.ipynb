{
 "cells": [
  {
   "attachments": {
    "TelcoCo.png": {
     "image/png": "[encoded data removed]"
    }
   },
   "cell_type": "markdown",
   "id": "33ad5536",
   "metadata": {},
   "source": [
    "![TelcoCo.png](attachment:TelcoCo.png)"
   ]
  },
  {
   "cell_type": "markdown",
   "id": "8603a638",
   "metadata": {},
   "source": [
    "   # Classification Project Part 1 - Report"
   ]
  },
  {
   "cell_type": "markdown",
   "id": "9568afed",
   "metadata": {},
   "source": [
    "Caroline Miller\n",
    "\n",
    "March 21, 2023\n",
    "\n",
    "O'Neil Data Science Cohort"
   ]
  },
  {
   "cell_type": "markdown",
   "id": "e05c6f2d",
   "metadata": {},
   "source": [
    "Goal: The purpose of this project ultimately is to provide insight, indictators, and a model which will help Telco understand why some customers are churning and what specfic features about the customer experience with the company may be contributing to their desicion to churn. The Data Science methodology used in this project is Classification."
   ]
  },
  {
   "cell_type": "markdown",
   "id": "a212aa53",
   "metadata": {},
   "source": [
    "Project Description: This project encompasses the steps of the Data Science pipeline using the Classification methodology in order to provide some explanation as to why some customers churn from using Telco services and to develop a model which can be used to predict which accounts will churn. This is important because the climate for telecommunications companies is competitive, and the rate of churn at Teclo has raised concern. This is important for any company which provides a service in an industry which is saturated with providers. Finding the aspects by which a company is failing to satisfy its customers is good for both the copmany and its customers."
   ]
  },
  {
   "cell_type": "markdown",
   "id": "f9b0754a",
   "metadata": {},
   "source": [
    "### Imports"
   ]
  },
  {
   "cell_type": "code",
   "execution_count": 87,
   "id": "7f567a26",
   "metadata": {},
   "outputs": [],
   "source": [
    "import matplotlib.pyplot as plt\n",
    "import seaborn as sns\n",
    "import pandas as pd\n",
    "import numpy as np\n",
    "import env\n",
    "import scipy.stats as stats\n",
    "\n",
    "from pydataset import data\n",
    "from datetime import datetime\n",
    "\n",
    "from sklearn.model_selection import train_test_split\n",
    "from sklearn.linear_model import LogisticRegression\n",
    "from sklearn.metrics import classification_report\n",
    "from sklearn.metrics import confusion_matrix\n",
    "from sklearn.metrics import accuracy_score\n",
    "from sklearn.tree import plot_tree\n",
    "from sklearn.tree import DecisionTreeClassifier, plot_tree, export_text\n",
    "from sklearn.metrics import precision_recall_fscore_support\n",
    "from sklearn.ensemble import RandomForestClassifier\n",
    "\n",
    "import warnings\n",
    "warnings.filterwarnings(\"ignore\")\n",
    "\n",
    "import evaluation\n",
    "import acquire\n",
    "import prepare"
   ]
  },
  {
   "cell_type": "markdown",
   "id": "b401dd68",
   "metadata": {},
   "source": [
    "### Acquire"
   ]
  },
  {
   "cell_type": "code",
   "execution_count": 2,
   "id": "4555a287",
   "metadata": {},
   "outputs": [],
   "source": [
    "unclean_telco = ut = acquire.get_telco_data()"
   ]
  },
  {
   "cell_type": "markdown",
   "id": "5d8ac29f",
   "metadata": {},
   "source": [
    "This dataframe is acquired using a function which imports the dataframe from MySQL. \n",
    "\n",
    "It joins five additional tables to the customers which results in a dataframe of 7,043 rows and 26 columns. \n",
    "\n",
    "Each row represents a telco customer/account, and each column represents a feature pretaining to that account/account holder. "
   ]
  },
  {
   "cell_type": "markdown",
   "id": "d06bf4df",
   "metadata": {},
   "source": [
    "### Prepare"
   ]
  },
  {
   "cell_type": "code",
   "execution_count": 3,
   "id": "791b7de1",
   "metadata": {},
   "outputs": [],
   "source": [
    "clean_telco = ct = prepare.prep_telco()"
   ]
  },
  {
   "cell_type": "markdown",
   "id": "7aa659f6",
   "metadata": {},
   "source": [
    "The prepare telco dataframe is wrangled using a function which calls the aqcuire function. The function then cleans and transforms the dataframe. \n",
    "\n",
    "The following changes were made to the dataframe:\n",
    "    \n",
    "       1. Colummns were dropped: payment_type_id, internet_service_type_id, contract_type_id, customer_id\n",
    "       2. Boolean values were applied to all possible string values\n",
    "       3. String values which contained numeric values were changed to int or float\n",
    "       4. Columns which contained values 3 or less were transformed using pd.get_dummies()\n",
    "       5. All columns which contained dates were transformed into datetime datatypes\n",
    "       6. A column was added which contained the difference in date for customers who had churned \n",
    "       7. Null values in the churn_month and signup_date columns were filled with 00-00-0000 to represent that these accounts were still active. Note:  the majority of the accounts are still active, so removing them would only provide a dataset of solely customers who have churned."
   ]
  },
  {
   "cell_type": "markdown",
   "id": "0a96b614",
   "metadata": {},
   "source": [
    "### Explore"
   ]
  },
  {
   "cell_type": "markdown",
   "id": "effe4567",
   "metadata": {},
   "source": [
    "#### Initial Questions:\n",
    "\n",
    "According to Reviews.org (https://www.reviews.org/internet-service/cost-of-internet-streaming-and-cell-phone-bills/): \n",
    "\n",
    "Average American monthly telecommunications costs:\n",
    "\n",
    "    - Internet services: $57.25 per month\n",
    "    - Cell phone plans: $50.17 per month\n",
    "    - Streaming services: $39.96 per month\n",
    "    - Total: $147.38 per month"
   ]
  },
  {
   "cell_type": "code",
   "execution_count": null,
   "id": "9f550afd",
   "metadata": {},
   "outputs": [],
   "source": [
    "from IPython import display\n",
    "display.Image(\"/Users/carolinesmac/codeup-data-science/telco_classification_report/\")"
   ]
  },
  {
   "cell_type": "code",
   "execution_count": 8,
   "id": "e2bff4c0",
   "metadata": {},
   "outputs": [
    {
     "data": {
      "text/plain": [
       "64.76"
      ]
     },
     "execution_count": 8,
     "metadata": {},
     "output_type": "execute_result"
    }
   ],
   "source": [
    "round(ct.monthly_charges.mean(), 2)"
   ]
  },
  {
   "cell_type": "markdown",
   "id": "2a350b3e",
   "metadata": {},
   "source": [
    "There are 1740 customers who pay for internet services (DSL or Fober Optic), phone service, tv streamiong, and movie streaming. The average these customers pay per month is $64.76, compared to the monthly average of Americans ($147.38). \n",
    "\n",
    "Conclusion:  Perhaps the cost fo these services is not a contributing factor to churn."
   ]
  },
  {
   "cell_type": "markdown",
   "id": "c94d51ed",
   "metadata": {},
   "source": [
    "Findings from a univariate and bivariate analysis of vizualizations:\n",
    "    \n",
    "    1. Of customers who are senior citizens, significatnly more churn\n",
    "    2. Of customers who pay for tv streaming, significantly more churn\n",
    "    3. Of customers who pay for movie streaming, significantly more churn\n",
    "\n",
    "All other inbalances in uniform distributions mirroe the ratio of the population."
   ]
  },
  {
   "cell_type": "markdown",
   "id": "b74ebd24",
   "metadata": {},
   "source": [
    "Planning: My planning, question development, and exploratory analysis comes from a few realizations developed upon first glance to the dataset. Please refer to 'Dashboard 1' =, which can be found in this repository for the report to which I am refering. Upon initial exploration, I wanted to know if those who were paying for movie and tv streaming were customers who had dependents. My assumption was that these customers had families, perhaps with small children. I also assumed that these customers who had dependenst would make up the majority of the customers who paid for multiple lines. Both of these assumptions in mind, I then hypothesized that the customers with dependents would have the larger monthly and total costs and that this demographic would be less likely to churn.\n",
    "\n",
    "The questions that are then formally expored include:\n",
    "\n",
    "    1. What is the the relationship between having dependents and the rate of churn?\n",
    "\n",
    "    2. If those with dependents do not make up the majority of churn, is there a group of people where the churn is greater than the those who stayed with the company? The answer to this was that senior citizens churn more than not. So the question then became is there a relationship between being a senior citizen and churn?\n",
    "\n",
    "    3. Is the mean total charges of those who pay for internet, phone, and streaming services more than those who do not?\n",
    "\n",
    "    4. Do those who pay for internet, phone, and streaming services have greater tenures than those who do not?"
   ]
  },
  {
   "cell_type": "markdown",
   "id": "a2022d29",
   "metadata": {},
   "source": [
    "Questions 1: What is the relationship between having dependents and churn?"
   ]
  },
  {
   "cell_type": "code",
   "execution_count": 11,
   "id": "c84ae1ed",
   "metadata": {},
   "outputs": [
    {
     "data": {
      "text/plain": [
       "Text(0, 0.5, 'Rate of Churn')"
      ]
     },
     "execution_count": 11,
     "metadata": {},
     "output_type": "execute_result"
    },
    {
     "data": {
      "image/png": "[encoded data removed]",
      "text/plain": [
       "<Figure size 640x480 with 1 Axes>"
      ]
     },
     "metadata": {},
     "output_type": "display_data"
    }
   ],
   "source": [
    "sns.barplot(data = ct, x = 'dependents', y = 'churn', )\n",
    "plt.title('Bivariate Feature Analysis of Dependents and Churn')\n",
    "plt.xlabel('Dependents (1 = Yes, 0 = No)')\n",
    "plt.ylabel('Rate of Churn')"
   ]
  },
  {
   "cell_type": "code",
   "execution_count": 15,
   "id": "d27b13dd",
   "metadata": {},
   "outputs": [
    {
     "data": {
      "text/plain": [
       "Text(0, 0.5, 'TV Streaming')"
      ]
     },
     "execution_count": 15,
     "metadata": {},
     "output_type": "execute_result"
    },
    {
     "data": {
      "image/png": "[encoded data removed]",
      "text/plain": [
       "<Figure size 640x480 with 1 Axes>"
      ]
     },
     "metadata": {},
     "output_type": "display_data"
    }
   ],
   "source": [
    "sns.barplot(data = ct, x = 'dependents', y = 'streaming_tv', )\n",
    "plt.title('Bivariate Feature Analysis of Dependents and TV Streaming')\n",
    "plt.xlabel('Dependents (1 = Yes, 0 = No)')\n",
    "plt.ylabel('TV Streaming')"
   ]
  },
  {
   "cell_type": "code",
   "execution_count": 14,
   "id": "ac5cd4d4",
   "metadata": {},
   "outputs": [
    {
     "data": {
      "text/plain": [
       "Text(0, 0.5, 'Movie Streaming')"
      ]
     },
     "execution_count": 14,
     "metadata": {},
     "output_type": "execute_result"
    },
    {
     "data": {
      "image/png": "[encoded data removed]",
      "text/plain": [
       "<Figure size 640x480 with 1 Axes>"
      ]
     },
     "metadata": {},
     "output_type": "display_data"
    }
   ],
   "source": [
    "sns.barplot(data = ct, x = 'dependents', y = 'streaming_movies', )\n",
    "plt.title('Bivariate Feature Analysis of Dependents and Movie Streaming')\n",
    "plt.xlabel('Dependents (1 = Yes, 0 = No)')\n",
    "plt.ylabel('Movie Streaming')"
   ]
  },
  {
   "cell_type": "markdown",
   "id": "787b26a7",
   "metadata": {},
   "source": [
    "Findings:  Those with dependents and those presumably being those who would pay for these services and then churn actually did not make up the majority of those who churned nor the majority of those paying for streaming services. \n",
    "\n",
    "Those without dependents were the ones paying for these services and those who were churning the most."
   ]
  },
  {
   "cell_type": "markdown",
   "id": "f59ab7d2",
   "metadata": {},
   "source": [
    "Statistical testing to conclude if there is a relationship between having dependents and churn:"
   ]
  },
  {
   "cell_type": "code",
   "execution_count": 16,
   "id": "c09104b1",
   "metadata": {},
   "outputs": [
    {
     "data": {
      "text/html": [
       "<div>\n",
       "<style scoped>\n",
       "    .dataframe tbody tr th:only-of-type {\n",
       "        vertical-align: middle;\n",
       "    }\n",
       "\n",
       "    .dataframe tbody tr th {\n",
       "        vertical-align: top;\n",
       "    }\n",
       "\n",
       "    .dataframe thead th {\n",
       "        text-align: right;\n",
       "    }\n",
       "</style>\n",
       "<table border=\"1\" class=\"dataframe\">\n",
       "  <thead>\n",
       "    <tr style=\"text-align: right;\">\n",
       "      <th>churn</th>\n",
       "      <th>0</th>\n",
       "      <th>1</th>\n",
       "    </tr>\n",
       "    <tr>\n",
       "      <th>dependents</th>\n",
       "      <th></th>\n",
       "      <th></th>\n",
       "    </tr>\n",
       "  </thead>\n",
       "  <tbody>\n",
       "    <tr>\n",
       "      <th>0</th>\n",
       "      <td>3390</td>\n",
       "      <td>1543</td>\n",
       "    </tr>\n",
       "    <tr>\n",
       "      <th>1</th>\n",
       "      <td>1784</td>\n",
       "      <td>326</td>\n",
       "    </tr>\n",
       "  </tbody>\n",
       "</table>\n",
       "</div>"
      ],
      "text/plain": [
       "churn          0     1\n",
       "dependents            \n",
       "0           3390  1543\n",
       "1           1784   326"
      ]
     },
     "execution_count": 16,
     "metadata": {},
     "output_type": "execute_result"
    }
   ],
   "source": [
    "observed = pd.crosstab(ct.dependents, ct.churn)\n",
    "observed"
   ]
  },
  {
   "cell_type": "markdown",
   "id": "643ec63d",
   "metadata": {},
   "source": [
    "$H_O$: The variables with dependents and churn are independent of each other. \n",
    "\n",
    "$H_A$: The variables with dependents and churn are dependent upon each other. "
   ]
  },
  {
   "cell_type": "code",
   "execution_count": 17,
   "id": "904aacfd",
   "metadata": {},
   "outputs": [],
   "source": [
    "chi2, p, _, expected = stats.chi2_contingency(observed)"
   ]
  },
  {
   "cell_type": "markdown",
   "id": "4ad1336d",
   "metadata": {},
   "source": [
    "Setting the Confidence Level to 95%, therefore the alpha will be 5%."
   ]
  },
  {
   "cell_type": "code",
   "execution_count": 18,
   "id": "acf095fa",
   "metadata": {},
   "outputs": [],
   "source": [
    "α = 0.05"
   ]
  },
  {
   "cell_type": "code",
   "execution_count": 19,
   "id": "673c4400",
   "metadata": {},
   "outputs": [
    {
     "name": "stdout",
     "output_type": "stream",
     "text": [
      "The p value (4.9249216612154196e-43) is less than our alpha so we reject the null hypothesis, and we cannot with confidence conclude that churn and having dependents are independent of eachother.\n"
     ]
    }
   ],
   "source": [
    "if p < α:\n",
    "    print(f'The p value ({p}) is less than our alpha so we reject the null hypothesis, and we cannot with confidence conclude that churn and having dependents are independent of eachother.')\n",
    "else:\n",
    "    print(f'The p value ({p} is greater than or equal to the alpha, and therefore we fail to reject the null hypothesis and can say with confident that churn and having dependents are independent variables.')"
   ]
  },
  {
   "cell_type": "markdown",
   "id": "4cedd659",
   "metadata": {},
   "source": [
    "Conclusion: So we can presume that having dependents is indicative whether or not a customer will churn. It seems like if a customer has dependents, they are more likely to NOT churn. "
   ]
  },
  {
   "cell_type": "code",
   "execution_count": 24,
   "id": "950bc0c1",
   "metadata": {},
   "outputs": [
    {
     "data": {
      "text/plain": [
       "Text(0, 0.5, 'Rate of Churn')"
      ]
     },
     "execution_count": 24,
     "metadata": {},
     "output_type": "execute_result"
    },
    {
     "data": {
      "image/png": "[encoded data removed]",
      "text/plain": [
       "<Figure size 640x480 with 1 Axes>"
      ]
     },
     "metadata": {},
     "output_type": "display_data"
    }
   ],
   "source": [
    "sns.barplot(data = ct, x = 'senior_citizen', y = 'churn', )\n",
    "plt.title('Bivariate Feature Analysis of Senior Citizenship and Churn')\n",
    "plt.xlabel('Senior Citizens (1=churn, 0=no churn)')\n",
    "plt.ylabel('Rate of Churn')"
   ]
  },
  {
   "cell_type": "markdown",
   "id": "084b1d55",
   "metadata": {},
   "source": [
    "Question 2: Is there a relationship between being a senior citizen and churning?"
   ]
  },
  {
   "cell_type": "code",
   "execution_count": 20,
   "id": "c26e7998",
   "metadata": {},
   "outputs": [
    {
     "data": {
      "text/html": [
       "<div>\n",
       "<style scoped>\n",
       "    .dataframe tbody tr th:only-of-type {\n",
       "        vertical-align: middle;\n",
       "    }\n",
       "\n",
       "    .dataframe tbody tr th {\n",
       "        vertical-align: top;\n",
       "    }\n",
       "\n",
       "    .dataframe thead th {\n",
       "        text-align: right;\n",
       "    }\n",
       "</style>\n",
       "<table border=\"1\" class=\"dataframe\">\n",
       "  <thead>\n",
       "    <tr style=\"text-align: right;\">\n",
       "      <th>churn</th>\n",
       "      <th>0</th>\n",
       "      <th>1</th>\n",
       "    </tr>\n",
       "    <tr>\n",
       "      <th>senior_citizen</th>\n",
       "      <th></th>\n",
       "      <th></th>\n",
       "    </tr>\n",
       "  </thead>\n",
       "  <tbody>\n",
       "    <tr>\n",
       "      <th>0</th>\n",
       "      <td>4508</td>\n",
       "      <td>1393</td>\n",
       "    </tr>\n",
       "    <tr>\n",
       "      <th>1</th>\n",
       "      <td>666</td>\n",
       "      <td>476</td>\n",
       "    </tr>\n",
       "  </tbody>\n",
       "</table>\n",
       "</div>"
      ],
      "text/plain": [
       "churn              0     1\n",
       "senior_citizen            \n",
       "0               4508  1393\n",
       "1                666   476"
      ]
     },
     "execution_count": 20,
     "metadata": {},
     "output_type": "execute_result"
    }
   ],
   "source": [
    "observed = pd.crosstab(ct['senior_citizen'], ct['churn'])\n",
    "observed"
   ]
  },
  {
   "cell_type": "markdown",
   "id": "2b33a270",
   "metadata": {},
   "source": [
    "$H_0$: Churn and being a senior citizen are independent of each other.\n",
    "\n",
    "$H_A$: Churn and being a senior citizen are dependent pn each other."
   ]
  },
  {
   "cell_type": "code",
   "execution_count": 21,
   "id": "43b43100",
   "metadata": {},
   "outputs": [],
   "source": [
    "chi2, p, _, expected = stats.chi2_contingency(observed)"
   ]
  },
  {
   "cell_type": "code",
   "execution_count": 22,
   "id": "145882fc",
   "metadata": {},
   "outputs": [
    {
     "name": "stdout",
     "output_type": "stream",
     "text": [
      "The p value (1.510066805092378e-36) is less than our alpha so we reject the null hypothesis, and we cannot with confidence conclude that churn and being a senior citizen are independent of eachother.\n"
     ]
    }
   ],
   "source": [
    "if p < α:\n",
    "    print(f'The p value ({p}) is less than our alpha so we reject the null hypothesis, and we cannot with confidence conclude that churn and being a senior citizen are independent of eachother.')\n",
    "else:\n",
    "    print(f'The p value ({p} is greater than or equal to the alpha, and therefore we fail to reject the null hypothesis and can say with confident that churn and being a senior citizen are independent variables.')"
   ]
  },
  {
   "cell_type": "markdown",
   "id": "385b0dc9",
   "metadata": {},
   "source": [
    "Question 3: Is the mean total charges of those who pay for internet, phone, and streaming services more than those who do not?\n",
    "\n",
    "Statistical test of a mean comparison of the total charges between two sample groups. We are looking to see if the mean for with services is greater than those without.\n",
    "\n",
    "Two samples, one tailed"
   ]
  },
  {
   "cell_type": "code",
   "execution_count": 30,
   "id": "6cfb4bba",
   "metadata": {},
   "outputs": [],
   "source": [
    "# Mask of necessary columns for analysis\n",
    "filtered_ct = ct[['internet_service_type', 'phone_service', 'streaming_tv', 'streaming_movies', 'churn', 'monthly_charges', 'tenure', 'total_charges']]\n",
    "\n",
    "# Mask that isolates the accounts that pay for internet, phone, and both streaming\n",
    "# services\n",
    "all_services = filtered_ct[(filtered_ct['phone_service'] == 1) & ((filtered_ct['internet_service_type'] == 'DSL') | (filtered_ct['internet_service_type'] == 'Fiber optic')) & (filtered_ct['streaming_tv'] == 1) & (filtered_ct['streaming_movies'] == 1)]\n",
    "\n",
    "# Mask of the customers not included in the above sample\n",
    "not_all_services = filtered_ct[~((filtered_ct['phone_service'] == 1) & ((filtered_ct['internet_service_type'] == 'DSL') | (filtered_ct['internet_service_type'] == 'Fiber optic')) & (filtered_ct['streaming_tv'] == 1) & (filtered_ct['streaming_movies'] == 1))]\n",
    "\n",
    "not_all_charges = not_all_services.total_charges \n",
    "all_charges = all_services.total_charges"
   ]
  },
  {
   "cell_type": "markdown",
   "id": "88b52eda",
   "metadata": {},
   "source": [
    "$H_O$: The mean of total charges of those who pay for all services is less or equal to the mean of total charges of those who do not. \n",
    "\n",
    "$H_A$: The mean of total charges of those who pay for all services is greater than the mean of total charges of those who do not. "
   ]
  },
  {
   "cell_type": "code",
   "execution_count": 31,
   "id": "2d56cf92",
   "metadata": {},
   "outputs": [
    {
     "data": {
      "image/png": "[encoded data removed]",
      "text/plain": [
       "<Figure size 640x480 with 1 Axes>"
      ]
     },
     "metadata": {},
     "output_type": "display_data"
    }
   ],
   "source": [
    "plt.hist(all_charges)\n",
    "plt.title('Histogram of Total Charges for Customers with Phone, Internet, and Streaming Services')\n",
    "plt.xlabel('Bins of Total Charges')\n",
    "plt.ylabel('Count of Customers')\n",
    "plt.show()"
   ]
  },
  {
   "cell_type": "code",
   "execution_count": 32,
   "id": "db43e1da",
   "metadata": {},
   "outputs": [
    {
     "data": {
      "image/png": "[encoded data removed]",
      "text/plain": [
       "<Figure size 640x480 with 1 Axes>"
      ]
     },
     "metadata": {},
     "output_type": "display_data"
    }
   ],
   "source": [
    "plt.hist(not_all_charges)\n",
    "plt.title('Histogram of Total Charges for Customers without one or more Services')\n",
    "plt.xlabel('Bins of Total Charges')\n",
    "plt.ylabel('Count of Customers')\n",
    "plt.show()"
   ]
  },
  {
   "cell_type": "markdown",
   "id": "24b3b828",
   "metadata": {},
   "source": [
    "$H_O$: Total charges for both samples have equal variance.\n",
    "\n",
    "$H_A$: Total charges for both samples do NOT have equal variance."
   ]
  },
  {
   "cell_type": "code",
   "execution_count": 33,
   "id": "6d17401e",
   "metadata": {},
   "outputs": [],
   "source": [
    "t_stat, p_val = stats.levene(not_all_charges, all_charges)"
   ]
  },
  {
   "cell_type": "code",
   "execution_count": 34,
   "id": "cc32a0b8",
   "metadata": {},
   "outputs": [
    {
     "name": "stdout",
     "output_type": "stream",
     "text": [
      "With a p value of 2.754935227098051e-124, we must reject the null hypothesis; we cannot presume that these samples have equal variance.\n"
     ]
    }
   ],
   "source": [
    "if p_val < α:\n",
    "    print(f'With a p value of {p_val}, we must reject the null hypothesis; we cannot presume that these samples have equal variance.')\n",
    "else:\n",
    "    print(f'With a p value of {p_val}, we fail to reject the null hypothesis; we can presume that these samples have equal variance.')"
   ]
  },
  {
   "cell_type": "markdown",
   "id": "c0459cd3",
   "metadata": {},
   "source": [
    "The two samples do not have equal variance, therefore the means of these groups cannor be compared to see if the chrages of those who pay for all services is greater than that of those who do not."
   ]
  },
  {
   "cell_type": "code",
   "execution_count": 36,
   "id": "2df8bbe4",
   "metadata": {},
   "outputs": [
    {
     "name": "stdout",
     "output_type": "stream",
     "text": [
      "1566.8348764850048\n"
     ]
    },
    {
     "data": {
      "text/plain": [
       "4452.438706896554"
      ]
     },
     "execution_count": 36,
     "metadata": {},
     "output_type": "execute_result"
    }
   ],
   "source": [
    "not_all_charges = not_all_services.total_charges \n",
    "all_charges = all_services.total_charges\n",
    "\n",
    "print(not_all_charges.mean())\n",
    "all_charges.mean()"
   ]
  },
  {
   "cell_type": "markdown",
   "id": "ddb171fa",
   "metadata": {},
   "source": [
    "We can observe though that the average total charges paid by customers who pay for all services is significantly higher than that of those who do not."
   ]
  },
  {
   "cell_type": "markdown",
   "id": "0605b32f",
   "metadata": {},
   "source": [
    "Question 4: Do those who pay for internet, phone, and streaming services have greater tenures than those who do not?\n",
    "\n",
    "Two independent samples, mean comparison testing, one tailed"
   ]
  },
  {
   "cell_type": "code",
   "execution_count": 53,
   "id": "1e48d4bd",
   "metadata": {},
   "outputs": [
    {
     "data": {
      "text/plain": [
       "Text(0, 0.5, 'Number of Accounts')"
      ]
     },
     "execution_count": 53,
     "metadata": {},
     "output_type": "execute_result"
    },
    {
     "data": {
      "image/png": "[encoded data removed]",
      "text/plain": [
       "<Figure size 640x480 with 1 Axes>"
      ]
     },
     "metadata": {},
     "output_type": "display_data"
    }
   ],
   "source": [
    "sns.histplot(data=ct, x='tenure', hue='churn')\n",
    "plt.title('Tenure Length and Churn')\n",
    "plt.xlabel('Bins of Tenure')\n",
    "plt.ylabel('Number of Accounts')"
   ]
  },
  {
   "cell_type": "code",
   "execution_count": 37,
   "id": "101b7af5",
   "metadata": {},
   "outputs": [],
   "source": [
    "not_all_tenure = not_all_services.tenure\n",
    "all_tenure = all_services.tenure"
   ]
  },
  {
   "cell_type": "markdown",
   "id": "dd04a01e",
   "metadata": {},
   "source": [
    "$H_O$: The mean of tenure of those who pay for all services is more than or equal to the mean of total charges of those who do not. \n",
    "\n",
    "$H_A$: The mean of tenure of those who pay for all services is less than the mean of total charges of those who do not. "
   ]
  },
  {
   "cell_type": "markdown",
   "id": "76cae5c2",
   "metadata": {},
   "source": [
    "Hypotheses for Levene testing:\n",
    "    \n",
    "    $H_O$: Tenure for both samples have equal variance.\n",
    "\n",
    "    $H_A$: Tenure for both samples do NOT have equal variance."
   ]
  },
  {
   "cell_type": "code",
   "execution_count": 38,
   "id": "bc1541ae",
   "metadata": {},
   "outputs": [],
   "source": [
    "t_stat, p_val = stats.levene(not_all_tenure, all_tenure)"
   ]
  },
  {
   "cell_type": "code",
   "execution_count": 39,
   "id": "2e5f4eed",
   "metadata": {},
   "outputs": [
    {
     "name": "stdout",
     "output_type": "stream",
     "text": [
      "With a p value of 0.20602411457054742, we fail to reject the null hypothesis; we can presume that these samples have equal variance.\n"
     ]
    }
   ],
   "source": [
    "if p_val < α:\n",
    "    print(f'With a p value of {p_val}, we must reject the null hypothesis; we cannot presume that these samples have equal variance.')\n",
    "else:\n",
    "    print(f'With a p value of {p_val}, we fail to reject the null hypothesis; we can presume that these samples have equal variance.')"
   ]
  },
  {
   "cell_type": "code",
   "execution_count": 40,
   "id": "12828a4e",
   "metadata": {},
   "outputs": [],
   "source": [
    "t_stat, p = stats.ttest_ind(not_all_tenure, all_tenure, equal_var=True)"
   ]
  },
  {
   "cell_type": "code",
   "execution_count": 41,
   "id": "81519d49",
   "metadata": {},
   "outputs": [
    {
     "name": "stdout",
     "output_type": "stream",
     "text": [
      "With a p value of 4.946213374299674e-137 and a t_statistic of -25.476763548310927 which is less than 0, we must reject the null hypothesis; we cannot presume that the tenure of those who pay for all services is greater than or equal the tenure of those who do not pay for all services.\n"
     ]
    }
   ],
   "source": [
    "if (p / 2 < α) and (t_stat < 0):\n",
    "    print(f'With a p value of {p} and a t_statistic of {t_stat} which is less than 0, we must reject the null hypothesis; we cannot presume that the tenure of those who pay for all services is greater than or equal the tenure of those who do not pay for all services.')\n",
    "else:\n",
    "    print(f'With a p value of {p_val}, we fail to reject the null hypothesis; we can presume that these samples have equal variance.')"
   ]
  },
  {
   "cell_type": "markdown",
   "id": "e54bcefe",
   "metadata": {},
   "source": [
    "Conclusion: Those who pay for all services do not stay with the company for longer than those who do not pay for all services. Paying for the streaming services as well as internet and phone could be a indicative feature for churn "
   ]
  },
  {
   "cell_type": "markdown",
   "id": "fa29fcbb",
   "metadata": {},
   "source": [
    "#### Exploration Summary:"
   ]
  },
  {
   "cell_type": "markdown",
   "id": "6df0e0a2",
   "metadata": {},
   "source": [
    "Contrary to my hypothesis, it can be said with some confidence that there is a relationship between having dependents and churn, though this relationship does not appear to be as indicative of senior citizenship to the probabilty of churn. \n",
    "\n",
    "My attempt to compare the mean total charges of those who pay for all four services (phone, internet, and both streaming services) to those who do not proved to be impossible due to unequal variance.\n",
    "\n",
    "What may have been a strong assumption can be supported by the rejection of the null hypothesis in regards to the tenure of those who pay for all four services listed above. Those who pay for these services tend to stay with the company for less time than those who do not pay for all four services.\n",
    "\n",
    "The four services, along with tenure, senior citizenship, and dependents will then be used as subset in the modeling stage, as these features have proven some relation to churn. Total charges will not be included as it is not a comparable feature."
   ]
  },
  {
   "cell_type": "markdown",
   "id": "54d90f7f",
   "metadata": {},
   "source": [
    "### Modeling"
   ]
  },
  {
   "cell_type": "markdown",
   "id": "c84f8dd8",
   "metadata": {},
   "source": [
    "#### Baseline Model:"
   ]
  },
  {
   "cell_type": "markdown",
   "id": "23008679",
   "metadata": {},
   "source": [
    "Churn:     1869\n",
    "\n",
    "No Churn:  5174"
   ]
  },
  {
   "cell_type": "code",
   "execution_count": 54,
   "id": "fbcbef33",
   "metadata": {},
   "outputs": [],
   "source": [
    "# Making a modeling dataframe which contains only int and float types for \n",
    "# algorithmic computing purposes.\n",
    "modeling_ct = ct.drop(columns=(['signup_date', 'time_with_telco', 'gender', 'contract_type', 'internet_service_type', 'payment_type', 'churn_month']))"
   ]
  },
  {
   "cell_type": "code",
   "execution_count": 55,
   "id": "8ce3c126",
   "metadata": {},
   "outputs": [],
   "source": [
    "# Creating the baseline model predictions with the more common 0 value of no churn\n",
    "modeling_ct['baseline'] = 0"
   ]
  },
  {
   "cell_type": "code",
   "execution_count": 57,
   "id": "6b16caab",
   "metadata": {},
   "outputs": [
    {
     "name": "stdout",
     "output_type": "stream",
     "text": [
      "(7043, 26)\n",
      "(5634, 26)\n",
      "(1409, 26)\n"
     ]
    }
   ],
   "source": [
    "# Splitting the dataframe into the train, test, and validate datasets using the \n",
    "# split data function from the prepare module.\n",
    "train, test, validate = prepare.split_data(modeling_ct, 'churn')"
   ]
  },
  {
   "cell_type": "code",
   "execution_count": 65,
   "id": "81afd95b",
   "metadata": {},
   "outputs": [],
   "source": [
    "X_cols = train.columns.to_list()\n",
    "y_cols = 'churn'\n",
    "\n",
    "# Then we will take the target column out of the features list\n",
    "X_cols.remove('churn')\n",
    "X_cols.remove('customer_id')\n",
    "\n",
    "# now lets sparse our datasets with the correct columns\n",
    "\n",
    "X_train = train[X_cols]\n",
    "y_train = train[y_cols]\n",
    "X_val = validate[X_cols]\n",
    "y_val = validate[y_cols]\n",
    "X_test = test[X_cols]\n",
    "y_test = test[y_cols]"
   ]
  },
  {
   "cell_type": "markdown",
   "id": "40303f70",
   "metadata": {},
   "source": [
    "#### Baseline Evaluation Metrics"
   ]
  },
  {
   "cell_type": "code",
   "execution_count": 66,
   "id": "421f11fa",
   "metadata": {},
   "outputs": [
    {
     "name": "stdout",
     "output_type": "stream",
     "text": [
      "\n",
      "    Accuracy: 0.7347197565305605\n",
      "    True Positive Rate: 0.7347197565305605\n",
      "    True Negative Rate: nan\n",
      "    False Positive Rate: nan\n",
      "    False Negative Rate: 0.2652802434694395\n",
      "    Precision : 1.0\n",
      "    f1 score: 0.8470760233918129\n",
      "    supports: 0: 2897 1: 1046\n",
      "    \n",
      "None\n",
      "                        pred_0             pred_1\n",
      "actual_0   True Positive: 2897  False Positive: 0\n",
      "actual_1  False Positive: 1046   True Negative: 0\n"
     ]
    },
    {
     "name": "stderr",
     "output_type": "stream",
     "text": [
      "/Users/carolinesmac/codeup-data-science/telco_classification_report/evaluation.py:23: RuntimeWarning: invalid value encountered in long_scalars\n",
      "  FPR = FP / (FP + TN)\n",
      "/Users/carolinesmac/codeup-data-science/telco_classification_report/evaluation.py:24: RuntimeWarning: invalid value encountered in long_scalars\n",
      "  TNR = TN / (FP + TN)\n",
      "/opt/homebrew/anaconda3/lib/python3.9/site-packages/sklearn/metrics/_classification.py:1327: UndefinedMetricWarning: Precision and F-score are ill-defined and being set to 0.0 in labels with no predicted samples. Use `zero_division` parameter to control this behavior.\n",
      "  _warn_prf(average, modifier, msg_start, len(result))\n",
      "/opt/homebrew/anaconda3/lib/python3.9/site-packages/sklearn/metrics/_classification.py:1327: UndefinedMetricWarning: Precision and F-score are ill-defined and being set to 0.0 in labels with no predicted samples. Use `zero_division` parameter to control this behavior.\n",
      "  _warn_prf(average, modifier, msg_start, len(result))\n",
      "/opt/homebrew/anaconda3/lib/python3.9/site-packages/sklearn/metrics/_classification.py:1327: UndefinedMetricWarning: Precision and F-score are ill-defined and being set to 0.0 in labels with no predicted samples. Use `zero_division` parameter to control this behavior.\n",
      "  _warn_prf(average, modifier, msg_start, len(result))\n"
     ]
    },
    {
     "data": {
      "text/html": [
       "<div>\n",
       "<style scoped>\n",
       "    .dataframe tbody tr th:only-of-type {\n",
       "        vertical-align: middle;\n",
       "    }\n",
       "\n",
       "    .dataframe tbody tr th {\n",
       "        vertical-align: top;\n",
       "    }\n",
       "\n",
       "    .dataframe thead th {\n",
       "        text-align: right;\n",
       "    }\n",
       "</style>\n",
       "<table border=\"1\" class=\"dataframe\">\n",
       "  <thead>\n",
       "    <tr style=\"text-align: right;\">\n",
       "      <th></th>\n",
       "      <th>0</th>\n",
       "      <th>1</th>\n",
       "      <th>accuracy</th>\n",
       "      <th>macro avg</th>\n",
       "      <th>weighted avg</th>\n",
       "    </tr>\n",
       "  </thead>\n",
       "  <tbody>\n",
       "    <tr>\n",
       "      <th>precision</th>\n",
       "      <td>0.734720</td>\n",
       "      <td>0.0</td>\n",
       "      <td>0.73472</td>\n",
       "      <td>0.367360</td>\n",
       "      <td>0.539813</td>\n",
       "    </tr>\n",
       "    <tr>\n",
       "      <th>recall</th>\n",
       "      <td>1.000000</td>\n",
       "      <td>0.0</td>\n",
       "      <td>0.73472</td>\n",
       "      <td>0.500000</td>\n",
       "      <td>0.734720</td>\n",
       "    </tr>\n",
       "    <tr>\n",
       "      <th>f1-score</th>\n",
       "      <td>0.847076</td>\n",
       "      <td>0.0</td>\n",
       "      <td>0.73472</td>\n",
       "      <td>0.423538</td>\n",
       "      <td>0.622363</td>\n",
       "    </tr>\n",
       "    <tr>\n",
       "      <th>support</th>\n",
       "      <td>2897.000000</td>\n",
       "      <td>1046.0</td>\n",
       "      <td>0.73472</td>\n",
       "      <td>3943.000000</td>\n",
       "      <td>3943.000000</td>\n",
       "    </tr>\n",
       "  </tbody>\n",
       "</table>\n",
       "</div>"
      ],
      "text/plain": [
       "                     0       1  accuracy    macro avg  weighted avg\n",
       "precision     0.734720     0.0   0.73472     0.367360      0.539813\n",
       "recall        1.000000     0.0   0.73472     0.500000      0.734720\n",
       "f1-score      0.847076     0.0   0.73472     0.423538      0.622363\n",
       "support    2897.000000  1046.0   0.73472  3943.000000   3943.000000"
      ]
     },
     "execution_count": 66,
     "metadata": {},
     "output_type": "execute_result"
    }
   ],
   "source": [
    "print(evaluation.get_metrics(y_train, train.baseline, train))\n",
    "print(evaluation.conf_matrix(y_train, train.baseline))\n",
    "evaluation.class_report(y_train, train.baseline)"
   ]
  },
  {
   "cell_type": "markdown",
   "id": "db707663",
   "metadata": {},
   "source": [
    "####  Models to be further evaluated:\n",
    "\n",
    "    From the Random Forest:\n",
    "    \n",
    "        - RandomForestClassifier(max_depth=8, min_samples_leaf=3)(3, 8)_model\n",
    "    \n",
    "    From the Decision Tree:\n",
    "        - DecisionTreeClassifier(max_depth=3)\t\n",
    "    \n",
    "    From Logistic Regression: \n",
    "        - lr1"
   ]
  },
  {
   "cell_type": "markdown",
   "id": "5b7c4565",
   "metadata": {},
   "source": [
    "Note:  Please see the inclusion of the subset in the Logistic Regression model testing portion of the 'telco_classification_pipeline' Jupyter Notebook. It is significant to state that the models using the features which I concluded were related to churn actually performed worse than the model which used all of the numeric features."
   ]
  },
  {
   "cell_type": "code",
   "execution_count": 73,
   "id": "e506cb28",
   "metadata": {},
   "outputs": [
    {
     "name": "stderr",
     "output_type": "stream",
     "text": [
      "/opt/homebrew/anaconda3/lib/python3.9/site-packages/sklearn/linear_model/_logistic.py:444: ConvergenceWarning: lbfgs failed to converge (status=1):\n",
      "STOP: TOTAL NO. of ITERATIONS REACHED LIMIT.\n",
      "\n",
      "Increase the number of iterations (max_iter) or scale the data as shown in:\n",
      "    https://scikit-learn.org/stable/modules/preprocessing.html\n",
      "Please also refer to the documentation for alternative solver options:\n",
      "    https://scikit-learn.org/stable/modules/linear_model.html#logistic-regression\n",
      "  n_iter_i = _check_optimize_result(\n"
     ]
    },
    {
     "data": {
      "text/html": [
       "<style>#sk-container-id-2 {color: black;background-color: white;}#sk-container-id-2 pre{padding: 0;}#sk-container-id-2 div.sk-toggleable {background-color: white;}#sk-container-id-2 label.sk-toggleable__label {cursor: pointer;display: block;width: 100%;margin-bottom: 0;padding: 0.3em;box-sizing: border-box;text-align: center;}#sk-container-id-2 label.sk-toggleable__label-arrow:before {content: \"▸\";float: left;margin-right: 0.25em;color: #696969;}#sk-container-id-2 label.sk-toggleable__label-arrow:hover:before {color: black;}#sk-container-id-2 div.sk-estimator:hover label.sk-toggleable__label-arrow:before {color: black;}#sk-container-id-2 div.sk-toggleable__content {max-height: 0;max-width: 0;overflow: hidden;text-align: left;background-color: #f0f8ff;}#sk-container-id-2 div.sk-toggleable__content pre {margin: 0.2em;color: black;border-radius: 0.25em;background-color: #f0f8ff;}#sk-container-id-2 input.sk-toggleable__control:checked~div.sk-toggleable__content {max-height: 200px;max-width: 100%;overflow: auto;}#sk-container-id-2 input.sk-toggleable__control:checked~label.sk-toggleable__label-arrow:before {content: \"▾\";}#sk-container-id-2 div.sk-estimator input.sk-toggleable__control:checked~label.sk-toggleable__label {background-color: #d4ebff;}#sk-container-id-2 div.sk-label input.sk-toggleable__control:checked~label.sk-toggleable__label {background-color: #d4ebff;}#sk-container-id-2 input.sk-hidden--visually {border: 0;clip: rect(1px 1px 1px 1px);clip: rect(1px, 1px, 1px, 1px);height: 1px;margin: -1px;overflow: hidden;padding: 0;position: absolute;width: 1px;}#sk-container-id-2 div.sk-estimator {font-family: monospace;background-color: #f0f8ff;border: 1px dotted black;border-radius: 0.25em;box-sizing: border-box;margin-bottom: 0.5em;}#sk-container-id-2 div.sk-estimator:hover {background-color: #d4ebff;}#sk-container-id-2 div.sk-parallel-item::after {content: \"\";width: 100%;border-bottom: 1px solid gray;flex-grow: 1;}#sk-container-id-2 div.sk-label:hover label.sk-toggleable__label {background-color: #d4ebff;}#sk-container-id-2 div.sk-serial::before {content: \"\";position: absolute;border-left: 1px solid gray;box-sizing: border-box;top: 0;bottom: 0;left: 50%;z-index: 0;}#sk-container-id-2 div.sk-serial {display: flex;flex-direction: column;align-items: center;background-color: white;padding-right: 0.2em;padding-left: 0.2em;position: relative;}#sk-container-id-2 div.sk-item {position: relative;z-index: 1;}#sk-container-id-2 div.sk-parallel {display: flex;align-items: stretch;justify-content: center;background-color: white;position: relative;}#sk-container-id-2 div.sk-item::before, #sk-container-id-2 div.sk-parallel-item::before {content: \"\";position: absolute;border-left: 1px solid gray;box-sizing: border-box;top: 0;bottom: 0;left: 50%;z-index: -1;}#sk-container-id-2 div.sk-parallel-item {display: flex;flex-direction: column;z-index: 1;position: relative;background-color: white;}#sk-container-id-2 div.sk-parallel-item:first-child::after {align-self: flex-end;width: 50%;}#sk-container-id-2 div.sk-parallel-item:last-child::after {align-self: flex-start;width: 50%;}#sk-container-id-2 div.sk-parallel-item:only-child::after {width: 0;}#sk-container-id-2 div.sk-dashed-wrapped {border: 1px dashed gray;margin: 0 0.4em 0.5em 0.4em;box-sizing: border-box;padding-bottom: 0.4em;background-color: white;}#sk-container-id-2 div.sk-label label {font-family: monospace;font-weight: bold;display: inline-block;line-height: 1.2em;}#sk-container-id-2 div.sk-label-container {text-align: center;}#sk-container-id-2 div.sk-container {/* jupyter's `normalize.less` sets `[hidden] { display: none; }` but bootstrap.min.css set `[hidden] { display: none !important; }` so we also need the `!important` here to be able to override the default hidden behavior on the sphinx rendered scikit-learn.org. See: https://github.com/scikit-learn/scikit-learn/issues/21755 */display: inline-block !important;position: relative;}#sk-container-id-2 div.sk-text-repr-fallback {display: none;}</style><div id=\"sk-container-id-2\" class=\"sk-top-container\"><div class=\"sk-text-repr-fallback\"><pre>LogisticRegression()</pre><b>In a Jupyter environment, please rerun this cell to show the HTML representation or trust the notebook. <br />On GitHub, the HTML representation is unable to render, please try loading this page with nbviewer.org.</b></div><div class=\"sk-container\" hidden><div class=\"sk-item\"><div class=\"sk-estimator sk-toggleable\"><input class=\"sk-toggleable__control sk-hidden--visually\" id=\"sk-estimator-id-2\" type=\"checkbox\" checked><label for=\"sk-estimator-id-2\" class=\"sk-toggleable__label sk-toggleable__label-arrow\">LogisticRegression</label><div class=\"sk-toggleable__content\"><pre>LogisticRegression()</pre></div></div></div></div></div>"
      ],
      "text/plain": [
       "LogisticRegression()"
      ]
     },
     "execution_count": 73,
     "metadata": {},
     "output_type": "execute_result"
    }
   ],
   "source": [
    "# Creating three models based off modeling evaluation (please see telco_classification_pipeline)\n",
    "rf3_8 = RandomForestClassifier()\n",
    "rf3_8.fit(X_train, y_train)\n",
    "\n",
    "dt3 = DecisionTreeClassifier()\n",
    "dt3.fit(X_train, y_train)\n",
    "\n",
    "lr1 = LogisticRegression()\n",
    "lr1.fit(X_train, y_train)"
   ]
  },
  {
   "cell_type": "markdown",
   "id": "730f0b58",
   "metadata": {},
   "source": [
    "Random Forest (max_depth=8, min_samples_leaf=3)"
   ]
  },
  {
   "cell_type": "code",
   "execution_count": 68,
   "id": "fbfbda70",
   "metadata": {},
   "outputs": [],
   "source": [
    "# Calculating y predictions based off of the train dataset\n",
    "rf3_8_train_preds = rf3_8.predict(X_train)\n",
    "\n",
    "# Calculating the y predictions off of the validate dataset\n",
    "rf3_8_val_preds = rf3_8.predict(X_val)"
   ]
  },
  {
   "cell_type": "markdown",
   "id": "2804efb9",
   "metadata": {},
   "source": [
    "Decision Tree (max_depth=3)"
   ]
  },
  {
   "cell_type": "code",
   "execution_count": 69,
   "id": "7ce86899",
   "metadata": {},
   "outputs": [],
   "source": [
    "# Calculating y predictions based off of the train dataset\n",
    "dt3_train_preds = dt3.predict(X_train)\n",
    "\n",
    "# Calculating the y predictions off of the validate dataset\n",
    "dt3_val_preds = dt3.predict(X_val)"
   ]
  },
  {
   "cell_type": "markdown",
   "id": "473a18e9",
   "metadata": {},
   "source": [
    "Logisitic Regression 1"
   ]
  },
  {
   "cell_type": "code",
   "execution_count": 70,
   "id": "19954e2e",
   "metadata": {},
   "outputs": [],
   "source": [
    "# Calculating y predictions based off of the train dataset\n",
    "lr1_train_preds = lr1.predict(X_train)\n",
    "\n",
    "# Calculating the y predictions off of the validate dataset\n",
    "lr1_val_preds = lr1.predict(X_val)"
   ]
  },
  {
   "cell_type": "code",
   "execution_count": 71,
   "id": "2544d3df",
   "metadata": {},
   "outputs": [
    {
     "name": "stdout",
     "output_type": "stream",
     "text": [
      "\n",
      "        Evaluation Metrics on the Train Dataset\n",
      "_____________________________________________________________\n",
      "\n",
      "    Random Forest Model, max_depth=8, min_samples_leaf=3:\n",
      "_____________________________________________________________\n",
      "\n",
      "    Accuracy: 0.9982247020035506\n",
      "    True Positive Rate: 0.9979324603721571\n",
      "    True Negative Rate: 0.9990393852065321\n",
      "    False Positive Rate: 0.0009606147934678194\n",
      "    False Negative Rate: 0.002067539627842867\n",
      "    Precision : 0.9996548153261995\n",
      "    f1 score: 0.9987928953267805\n",
      "    supports: 0: 2897 1: 1046\n",
      "    \n",
      "None\n",
      "_____________________________________________________________\n",
      "_____________________________________________________________\n",
      "\n",
      "                 Decision Tree , max_depth=3\n",
      "_____________________________________________________________\n",
      "\n",
      "    Accuracy: 0.9982247020035506\n",
      "    True Positive Rate: 0.9975895316804407\n",
      "    True Negative Rate: 1.0\n",
      "    False Positive Rate: 0.0\n",
      "    False Negative Rate: 0.0024104683195592287\n",
      "    Precision : 1.0\n",
      "    f1 score: 0.9987933114980176\n",
      "    supports: 0: 2897 1: 1046\n",
      "    \n",
      "None\n",
      "_____________________________________________________________\n",
      "_____________________________________________________________\n",
      "\n",
      "                  Logistic Regression Model\n",
      "_____________________________________________________________\n",
      "\n",
      "    Accuracy: 0.8201876743596247\n",
      "    True Positive Rate: 0.859395532194481\n",
      "    True Negative Rate: 0.6874304783092324\n",
      "    False Positive Rate: 0.3125695216907675\n",
      "    False Negative Rate: 0.14060446780551905\n",
      "    Precision : 0.9030031066620642\n",
      "    f1 score: 0.8806598215788588\n",
      "    supports: 0: 2897 1: 1046\n",
      "    \n",
      "None\n"
     ]
    }
   ],
   "source": [
    "print()\n",
    "print('        Evaluation Metrics on the Train Dataset')\n",
    "print('_____________________________________________________________')\n",
    "print()\n",
    "print('    Random Forest Model, max_depth=8, min_samples_leaf=3:')\n",
    "print('_____________________________________________________________')\n",
    "print(evaluation.get_metrics(y_train, rf3_8_train_preds, train))\n",
    "print('_____________________________________________________________')\n",
    "print('_____________________________________________________________')\n",
    "print()\n",
    "print('                 Decision Tree , max_depth=3')\n",
    "print('_____________________________________________________________')\n",
    "print(evaluation.get_metrics(y_train, dt3_train_preds, train))\n",
    "print('_____________________________________________________________')\n",
    "print('_____________________________________________________________')\n",
    "print()\n",
    "print('                  Logistic Regression Model')\n",
    "print('_____________________________________________________________')\n",
    "print(evaluation.get_metrics(y_train, lr1_train_preds, train))"
   ]
  },
  {
   "cell_type": "code",
   "execution_count": 72,
   "id": "a1b9712b",
   "metadata": {},
   "outputs": [
    {
     "name": "stdout",
     "output_type": "stream",
     "text": [
      "\n",
      "        Evaluation Metrics on the Validate Dataset\n",
      "_____________________________________________________________\n",
      "\n",
      "    Random Forest Model, max_depth=8, min_samples_leaf=3:\n",
      "_____________________________________________________________\n",
      "\n",
      "    Accuracy: 0.7823772915434654\n",
      "    True Positive Rate: 0.8256333830104322\n",
      "    True Negative Rate: 0.6160458452722063\n",
      "    False Positive Rate: 0.3839541547277937\n",
      "    False Negative Rate: 0.17436661698956782\n",
      "    Precision : 0.8921095008051529\n",
      "    f1 score: 0.8575851393188855\n",
      "    supports: 0: 1242 1: 449\n",
      "    \n",
      "None\n",
      "_____________________________________________________________\n",
      "_____________________________________________________________\n",
      "\n",
      "                 Decision Tree , max_depth=3\n",
      "_____________________________________________________________\n",
      "\n",
      "    Accuracy: 0.719692489651094\n",
      "    True Positive Rate: 0.8178807947019867\n",
      "    True Negative Rate: 0.474120082815735\n",
      "    False Positive Rate: 0.525879917184265\n",
      "    False Negative Rate: 0.18211920529801323\n",
      "    Precision : 0.7954911433172303\n",
      "    f1 score: 0.8065306122448981\n",
      "    supports: 0: 1242 1: 449\n",
      "    \n",
      "None\n",
      "_____________________________________________________________\n",
      "_____________________________________________________________\n",
      "\n",
      "                  Logistic Regression Model\n",
      "_____________________________________________________________\n",
      "\n",
      "    Accuracy: 0.7894736842105263\n",
      "    True Positive Rate: 0.8361153262518968\n",
      "    True Negative Rate: 0.6246648793565683\n",
      "    False Positive Rate: 0.3753351206434316\n",
      "    False Negative Rate: 0.1638846737481032\n",
      "    Precision : 0.8872785829307569\n",
      "    f1 score: 0.8609374999999999\n",
      "    supports: 0: 1242 1: 449\n",
      "    \n",
      "None\n"
     ]
    }
   ],
   "source": [
    "print()\n",
    "print('        Evaluation Metrics on the Validate Dataset')\n",
    "print('_____________________________________________________________')\n",
    "print()\n",
    "print('    Random Forest Model, max_depth=8, min_samples_leaf=3:')\n",
    "print('_____________________________________________________________')\n",
    "print(evaluation.get_metrics(y_val, rf3_8_val_preds, validate))\n",
    "print('_____________________________________________________________')\n",
    "print('_____________________________________________________________')\n",
    "print()\n",
    "print('                 Decision Tree , max_depth=3')\n",
    "print('_____________________________________________________________')\n",
    "print(evaluation.get_metrics(y_val, dt3_val_preds, validate))\n",
    "print('_____________________________________________________________')\n",
    "print('_____________________________________________________________')\n",
    "print()\n",
    "print('                  Logistic Regression Model')\n",
    "print('_____________________________________________________________')\n",
    "print(evaluation.get_metrics(y_val, lr1_val_preds, validate))"
   ]
  },
  {
   "cell_type": "markdown",
   "id": "0f771f47",
   "metadata": {},
   "source": [
    "#### Evaluation of Models:\n",
    "\n",
    "The positive value in these tests is 0, which is not the value in question. The question is that of churn which is the negative value and of the model's ability to predict churn. For this reason, I concluded to use precision as the evaluation metric for which to choose the best performing model. The best performing model by this standard is the Random Forest. "
   ]
  },
  {
   "cell_type": "code",
   "execution_count": 84,
   "id": "6040e863",
   "metadata": {},
   "outputs": [],
   "source": [
    "# Calculating the predictions on the test dataset\n",
    "rf3_8_test_preds = rf3_8.predict(X_test)"
   ]
  },
  {
   "cell_type": "code",
   "execution_count": 86,
   "id": "d7f7c8e5",
   "metadata": {},
   "outputs": [
    {
     "name": "stdout",
     "output_type": "stream",
     "text": [
      "\n",
      "    Accuracy: 0.7750177430801988\n",
      "    True Positive Rate: 0.8281535648994516\n",
      "    True Negative Rate: 0.5904761904761905\n",
      "    False Positive Rate: 0.4095238095238095\n",
      "    False Negative Rate: 0.17184643510054845\n",
      "    Precision : 0.8753623188405797\n",
      "    f1 score: 0.8511038046031\n",
      "    supports: 0: 1035 1: 374\n",
      "    \n",
      "None\n",
      "                       pred_0               pred_1\n",
      "actual_0   True Positive: 906  False Positive: 129\n",
      "actual_1  False Positive: 188   True Negative: 186\n"
     ]
    },
    {
     "data": {
      "text/html": [
       "<div>\n",
       "<style scoped>\n",
       "    .dataframe tbody tr th:only-of-type {\n",
       "        vertical-align: middle;\n",
       "    }\n",
       "\n",
       "    .dataframe tbody tr th {\n",
       "        vertical-align: top;\n",
       "    }\n",
       "\n",
       "    .dataframe thead th {\n",
       "        text-align: right;\n",
       "    }\n",
       "</style>\n",
       "<table border=\"1\" class=\"dataframe\">\n",
       "  <thead>\n",
       "    <tr style=\"text-align: right;\">\n",
       "      <th></th>\n",
       "      <th>0</th>\n",
       "      <th>1</th>\n",
       "      <th>accuracy</th>\n",
       "      <th>macro avg</th>\n",
       "      <th>weighted avg</th>\n",
       "    </tr>\n",
       "  </thead>\n",
       "  <tbody>\n",
       "    <tr>\n",
       "      <th>precision</th>\n",
       "      <td>0.828154</td>\n",
       "      <td>0.590476</td>\n",
       "      <td>0.775018</td>\n",
       "      <td>0.709315</td>\n",
       "      <td>0.765065</td>\n",
       "    </tr>\n",
       "    <tr>\n",
       "      <th>recall</th>\n",
       "      <td>0.875362</td>\n",
       "      <td>0.497326</td>\n",
       "      <td>0.775018</td>\n",
       "      <td>0.686344</td>\n",
       "      <td>0.775018</td>\n",
       "    </tr>\n",
       "    <tr>\n",
       "      <th>f1-score</th>\n",
       "      <td>0.851104</td>\n",
       "      <td>0.539913</td>\n",
       "      <td>0.775018</td>\n",
       "      <td>0.695508</td>\n",
       "      <td>0.768502</td>\n",
       "    </tr>\n",
       "    <tr>\n",
       "      <th>support</th>\n",
       "      <td>1035.000000</td>\n",
       "      <td>374.000000</td>\n",
       "      <td>0.775018</td>\n",
       "      <td>1409.000000</td>\n",
       "      <td>1409.000000</td>\n",
       "    </tr>\n",
       "  </tbody>\n",
       "</table>\n",
       "</div>"
      ],
      "text/plain": [
       "                     0           1  accuracy    macro avg  weighted avg\n",
       "precision     0.828154    0.590476  0.775018     0.709315      0.765065\n",
       "recall        0.875362    0.497326  0.775018     0.686344      0.775018\n",
       "f1-score      0.851104    0.539913  0.775018     0.695508      0.768502\n",
       "support    1035.000000  374.000000  0.775018  1409.000000   1409.000000"
      ]
     },
     "execution_count": 86,
     "metadata": {},
     "output_type": "execute_result"
    }
   ],
   "source": [
    "# Using the evaluation module to calculate and print the metrics.\n",
    "print(evaluation.get_metrics(y_test, rf3_8_test_preds, test))\n",
    "print(evaluation.conf_matrix(y_test, rf3_8_test_preds))\n",
    "evaluation.class_report(y_test, rf3_8_test_preds)"
   ]
  },
  {
   "cell_type": "markdown",
   "id": "d08ed57e",
   "metadata": {},
   "source": [
    "### Conclusions:"
   ]
  },
  {
   "cell_type": "markdown",
   "id": "45746bf4",
   "metadata": {},
   "source": [
    "The questions that were formally expored include:\n",
    "\n",
    "    1. What is the the relationship between having dependents and the rate of churn?\n",
    "    2. Is there a relationship between being a senior citizen and churn?\n",
    "    3. Is the mean total charges of those who pay for internet, phone, and streaming services more than those who do not?\n",
    "    4. Do those who pay for internet, phone, and streaming services have greater tenures than those who do not?\n",
    "    \n",
    "We did see a relationship between being a senior citizen and churn as well as having dependents and churn. I hypothesized that using these features in my subset would produce higher precision of churn predictions. I conclude that ,because the models using this subset performed worse than the models which used all the numeric features, I did not isolate the most indictaive feature or features in the exploratory phase.   "
   ]
  },
  {
   "cell_type": "markdown",
   "id": "5bb58406",
   "metadata": {},
   "source": [
    "### Recommendations:"
   ]
  },
  {
   "cell_type": "markdown",
   "id": "848d24f6",
   "metadata": {},
   "source": [
    "I would recommend targeting those customers without dependents to identify the possiible reasons that they churn. This group contains the majority of customers who pay for multiple lines, TV streaming, and movie streaming. It is possible that this group is dissatified with some of the services for which they pay extra (those without dependents who pay for these services on average pay $7.48 more). "
   ]
  },
  {
   "cell_type": "markdown",
   "id": "8b21da21",
   "metadata": {},
   "source": [
    "### Next Steps:"
   ]
  },
  {
   "cell_type": "markdown",
   "id": "1c32deda",
   "metadata": {},
   "source": [
    "I would still like to explore the initial questions I had about this dataset which include: \n",
    "\n",
    "    Why do those who no dependents have more multiple lines than those with dependents? Because we saw that those wihtout dependents churn more and that those with multiple lines churn more, is there a feature shared by both which is related to churn?\n",
    "    \n",
    "    Why do those who pay for TV and movie streaming churn more? \n",
    "    \n",
    "There are more demographics to be sparsed out and explored which may result in finding the group which shares a specific compilation of features which churns more than others. A greater multivariate analysis needs to be run on this dataset. \n",
    "\n",
    "An analysis on the datetime data is necessary to find if there is a specific month or season which customers churn, or if the difference between the signup date and the churn month has any significance. "
   ]
  }
 ],
 "metadata": {
  "kernelspec": {
   "display_name": "Python 3 (ipykernel)",
   "language": "python",
   "name": "python3"
  },
  "language_info": {
   "codemirror_mode": {
    "name": "ipython",
    "version": 3
   },
   "file_extension": ".py",
   "mimetype": "text/x-python",
   "name": "python",
   "nbconvert_exporter": "python",
   "pygments_lexer": "ipython3",
   "version": "3.9.13"
  }
 },
 "nbformat": 4,
 "nbformat_minor": 5
}
