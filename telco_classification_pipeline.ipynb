{
 "cells": [
  {
   "cell_type": "code",
   "execution_count": 1,
   "id": "143451c4",
   "metadata": {},
   "outputs": [],
   "source": [
    "import matplotlib.pyplot as plt\n",
    "import seaborn as sns\n",
    "import pandas as pd\n",
    "import acquire\n",
    "import prepare\n",
    "import numpy as np\n",
    "import env\n",
    "import scipy.stats as stats\n",
    "\n",
    "from pydataset import data\n",
    "from datetime import datetime\n",
    "\n",
    "from sklearn.model_selection import train_test_split\n",
    "from sklearn.linear_model import LogisticRegression\n",
    "from sklearn.metrics import classification_report\n",
    "from sklearn.metrics import confusion_matrix"
   ]
  },
  {
   "cell_type": "markdown",
   "id": "9edd5f65",
   "metadata": {},
   "source": [
    "First in my analysis, using the order in which we did in class, I want to do some hypothesis testing by looking for relationship between variables in the dataset.\n",
    "\n",
    "First I am going to aquire the dataset."
   ]
  },
  {
   "cell_type": "code",
   "execution_count": 2,
   "id": "21e12484",
   "metadata": {},
   "outputs": [],
   "source": [
    "clean_telco = ct = prepare.prep_telco()"
   ]
  },
  {
   "cell_type": "code",
   "execution_count": 3,
   "id": "4bf7d782",
   "metadata": {
    "scrolled": true
   },
   "outputs": [
    {
     "name": "stdout",
     "output_type": "stream",
     "text": [
      "<class 'pandas.core.frame.DataFrame'>\n",
      "Int64Index: 7043 entries, 0 to 7042\n",
      "Data columns (total 32 columns):\n",
      " #   Column                                Non-Null Count  Dtype          \n",
      "---  ------                                --------------  -----          \n",
      " 0   customer_id                           7043 non-null   object         \n",
      " 1   gender                                7043 non-null   object         \n",
      " 2   senior_citizen                        7043 non-null   int64          \n",
      " 3   partner                               7043 non-null   int64          \n",
      " 4   dependents                            7043 non-null   int64          \n",
      " 5   tenure                                7043 non-null   int64          \n",
      " 6   phone_service                         7043 non-null   int64          \n",
      " 7   multiple_lines                        7043 non-null   int64          \n",
      " 8   online_security                       7043 non-null   int64          \n",
      " 9   online_backup                         7043 non-null   int64          \n",
      " 10  device_protection                     7043 non-null   int64          \n",
      " 11  tech_support                          7043 non-null   int64          \n",
      " 12  streaming_tv                          7043 non-null   int64          \n",
      " 13  streaming_movies                      7043 non-null   int64          \n",
      " 14  paperless_billing                     7043 non-null   int64          \n",
      " 15  monthly_charges                       7043 non-null   float64        \n",
      " 16  total_charges                         7043 non-null   float64        \n",
      " 17  churn                                 7043 non-null   int64          \n",
      " 18  contract_type                         7043 non-null   object         \n",
      " 19  internet_service_type                 7043 non-null   object         \n",
      " 20  payment_type                          7043 non-null   object         \n",
      " 21  churn_month                           7043 non-null   object         \n",
      " 22  signup_date                           7043 non-null   datetime64[ns] \n",
      " 23  gender_Male                           7043 non-null   uint8          \n",
      " 24  contract_type_One year                7043 non-null   uint8          \n",
      " 25  contract_type_Two year                7043 non-null   uint8          \n",
      " 26  internet_service_type_Fiber optic     7043 non-null   uint8          \n",
      " 27  internet_service_type_None            7043 non-null   uint8          \n",
      " 28  payment_type_Credit card (automatic)  7043 non-null   uint8          \n",
      " 29  payment_type_Electronic check         7043 non-null   uint8          \n",
      " 30  payment_type_Mailed check             7043 non-null   uint8          \n",
      " 31  time_with_telco                       1869 non-null   timedelta64[ns]\n",
      "dtypes: datetime64[ns](1), float64(2), int64(14), object(6), timedelta64[ns](1), uint8(8)\n",
      "memory usage: 1.4+ MB\n"
     ]
    }
   ],
   "source": [
    "ct.info()"
   ]
  },
  {
   "cell_type": "code",
   "execution_count": 4,
   "id": "bf38e85c",
   "metadata": {},
   "outputs": [
    {
     "data": {
      "text/plain": [
       "['customer_id',\n",
       " 'gender',\n",
       " 'senior_citizen',\n",
       " 'partner',\n",
       " 'dependents',\n",
       " 'tenure',\n",
       " 'phone_service',\n",
       " 'multiple_lines',\n",
       " 'online_security',\n",
       " 'online_backup',\n",
       " 'device_protection',\n",
       " 'tech_support',\n",
       " 'streaming_tv',\n",
       " 'streaming_movies',\n",
       " 'paperless_billing',\n",
       " 'monthly_charges',\n",
       " 'total_charges',\n",
       " 'churn',\n",
       " 'contract_type',\n",
       " 'internet_service_type',\n",
       " 'payment_type',\n",
       " 'churn_month',\n",
       " 'signup_date',\n",
       " 'gender_Male',\n",
       " 'contract_type_One year',\n",
       " 'contract_type_Two year',\n",
       " 'internet_service_type_Fiber optic',\n",
       " 'internet_service_type_None',\n",
       " 'payment_type_Credit card (automatic)',\n",
       " 'payment_type_Electronic check',\n",
       " 'payment_type_Mailed check',\n",
       " 'time_with_telco']"
      ]
     },
     "execution_count": 4,
     "metadata": {},
     "output_type": "execute_result"
    }
   ],
   "source": [
    "ct.columns.to_list()"
   ]
  },
  {
   "cell_type": "code",
   "execution_count": 5,
   "id": "505d9303",
   "metadata": {},
   "outputs": [
    {
     "data": {
      "text/plain": [
       "0                      5174\n",
       "2022-01-31 00:00:00    1869\n",
       "Name: churn_month, dtype: int64"
      ]
     },
     "execution_count": 5,
     "metadata": {},
     "output_type": "execute_result"
    }
   ],
   "source": [
    "ct['churn_month'].value_counts()"
   ]
  },
  {
   "cell_type": "code",
   "execution_count": 6,
   "id": "40cac930",
   "metadata": {},
   "outputs": [],
   "source": [
    "unclean_telco = ut = acquire.get_telco_data()"
   ]
  },
  {
   "cell_type": "code",
   "execution_count": 7,
   "id": "7763a431",
   "metadata": {},
   "outputs": [
    {
     "data": {
      "text/plain": [
       "['customer_id',\n",
       " 'payment_type_id',\n",
       " 'internet_service_type_id',\n",
       " 'contract_type_id',\n",
       " 'gender',\n",
       " 'senior_citizen',\n",
       " 'partner',\n",
       " 'dependents',\n",
       " 'tenure',\n",
       " 'phone_service',\n",
       " 'multiple_lines',\n",
       " 'online_security',\n",
       " 'online_backup',\n",
       " 'device_protection',\n",
       " 'tech_support',\n",
       " 'streaming_tv',\n",
       " 'streaming_movies',\n",
       " 'paperless_billing',\n",
       " 'monthly_charges',\n",
       " 'total_charges',\n",
       " 'churn',\n",
       " 'contract_type',\n",
       " 'internet_service_type',\n",
       " 'payment_type',\n",
       " 'churn_month',\n",
       " 'signup_date']"
      ]
     },
     "execution_count": 7,
     "metadata": {},
     "output_type": "execute_result"
    }
   ],
   "source": [
    "ut.columns.to_list()"
   ]
  },
  {
   "cell_type": "code",
   "execution_count": 8,
   "id": "e937eb3f",
   "metadata": {},
   "outputs": [
    {
     "data": {
      "text/plain": [
       "customer_id                  object\n",
       "payment_type_id               int64\n",
       "internet_service_type_id      int64\n",
       "contract_type_id              int64\n",
       "gender                       object\n",
       "senior_citizen                int64\n",
       "partner                      object\n",
       "dependents                   object\n",
       "tenure                        int64\n",
       "phone_service                object\n",
       "multiple_lines               object\n",
       "online_security              object\n",
       "online_backup                object\n",
       "device_protection            object\n",
       "tech_support                 object\n",
       "streaming_tv                 object\n",
       "streaming_movies             object\n",
       "paperless_billing            object\n",
       "monthly_charges             float64\n",
       "total_charges                object\n",
       "churn                        object\n",
       "contract_type                object\n",
       "internet_service_type        object\n",
       "payment_type                 object\n",
       "churn_month                  object\n",
       "signup_date                  object\n",
       "dtype: object"
      ]
     },
     "execution_count": 8,
     "metadata": {},
     "output_type": "execute_result"
    }
   ],
   "source": [
    "# I am looking at the dtypes to see initally which features I can graph categorcially\n",
    "# and which I can graph continuously\n",
    "ut.dtypes"
   ]
  },
  {
   "cell_type": "code",
   "execution_count": 9,
   "id": "5d4d1bc9",
   "metadata": {},
   "outputs": [
    {
     "data": {
      "text/html": [
       "<div>\n",
       "<style scoped>\n",
       "    .dataframe tbody tr th:only-of-type {\n",
       "        vertical-align: middle;\n",
       "    }\n",
       "\n",
       "    .dataframe tbody tr th {\n",
       "        vertical-align: top;\n",
       "    }\n",
       "\n",
       "    .dataframe thead th {\n",
       "        text-align: right;\n",
       "    }\n",
       "</style>\n",
       "<table border=\"1\" class=\"dataframe\">\n",
       "  <thead>\n",
       "    <tr style=\"text-align: right;\">\n",
       "      <th></th>\n",
       "      <th>customer_id</th>\n",
       "      <th>payment_type_id</th>\n",
       "      <th>internet_service_type_id</th>\n",
       "      <th>contract_type_id</th>\n",
       "      <th>gender</th>\n",
       "      <th>senior_citizen</th>\n",
       "      <th>partner</th>\n",
       "      <th>dependents</th>\n",
       "      <th>tenure</th>\n",
       "      <th>phone_service</th>\n",
       "      <th>...</th>\n",
       "      <th>streaming_movies</th>\n",
       "      <th>paperless_billing</th>\n",
       "      <th>monthly_charges</th>\n",
       "      <th>total_charges</th>\n",
       "      <th>churn</th>\n",
       "      <th>contract_type</th>\n",
       "      <th>internet_service_type</th>\n",
       "      <th>payment_type</th>\n",
       "      <th>churn_month</th>\n",
       "      <th>signup_date</th>\n",
       "    </tr>\n",
       "  </thead>\n",
       "  <tbody>\n",
       "    <tr>\n",
       "      <th>0</th>\n",
       "      <td>0002-ORFBO</td>\n",
       "      <td>2</td>\n",
       "      <td>1</td>\n",
       "      <td>2</td>\n",
       "      <td>Female</td>\n",
       "      <td>0</td>\n",
       "      <td>Yes</td>\n",
       "      <td>Yes</td>\n",
       "      <td>9</td>\n",
       "      <td>Yes</td>\n",
       "      <td>...</td>\n",
       "      <td>No</td>\n",
       "      <td>Yes</td>\n",
       "      <td>65.60</td>\n",
       "      <td>593.3</td>\n",
       "      <td>No</td>\n",
       "      <td>One year</td>\n",
       "      <td>DSL</td>\n",
       "      <td>Mailed check</td>\n",
       "      <td>NaN</td>\n",
       "      <td>2021-04-21 18:07:34</td>\n",
       "    </tr>\n",
       "    <tr>\n",
       "      <th>1</th>\n",
       "      <td>0003-MKNFE</td>\n",
       "      <td>2</td>\n",
       "      <td>1</td>\n",
       "      <td>1</td>\n",
       "      <td>Male</td>\n",
       "      <td>0</td>\n",
       "      <td>No</td>\n",
       "      <td>No</td>\n",
       "      <td>9</td>\n",
       "      <td>Yes</td>\n",
       "      <td>...</td>\n",
       "      <td>Yes</td>\n",
       "      <td>No</td>\n",
       "      <td>59.90</td>\n",
       "      <td>542.4</td>\n",
       "      <td>No</td>\n",
       "      <td>Month-to-month</td>\n",
       "      <td>DSL</td>\n",
       "      <td>Mailed check</td>\n",
       "      <td>NaN</td>\n",
       "      <td>2021-04-21 18:07:34</td>\n",
       "    </tr>\n",
       "    <tr>\n",
       "      <th>2</th>\n",
       "      <td>0004-TLHLJ</td>\n",
       "      <td>1</td>\n",
       "      <td>2</td>\n",
       "      <td>1</td>\n",
       "      <td>Male</td>\n",
       "      <td>0</td>\n",
       "      <td>No</td>\n",
       "      <td>No</td>\n",
       "      <td>4</td>\n",
       "      <td>Yes</td>\n",
       "      <td>...</td>\n",
       "      <td>No</td>\n",
       "      <td>Yes</td>\n",
       "      <td>73.90</td>\n",
       "      <td>280.85</td>\n",
       "      <td>Yes</td>\n",
       "      <td>Month-to-month</td>\n",
       "      <td>Fiber optic</td>\n",
       "      <td>Electronic check</td>\n",
       "      <td>2022-01-31</td>\n",
       "      <td>2021-09-21 18:07:34</td>\n",
       "    </tr>\n",
       "    <tr>\n",
       "      <th>3</th>\n",
       "      <td>0011-IGKFF</td>\n",
       "      <td>1</td>\n",
       "      <td>2</td>\n",
       "      <td>1</td>\n",
       "      <td>Male</td>\n",
       "      <td>1</td>\n",
       "      <td>Yes</td>\n",
       "      <td>No</td>\n",
       "      <td>13</td>\n",
       "      <td>Yes</td>\n",
       "      <td>...</td>\n",
       "      <td>Yes</td>\n",
       "      <td>Yes</td>\n",
       "      <td>98.00</td>\n",
       "      <td>1237.85</td>\n",
       "      <td>Yes</td>\n",
       "      <td>Month-to-month</td>\n",
       "      <td>Fiber optic</td>\n",
       "      <td>Electronic check</td>\n",
       "      <td>2022-01-31</td>\n",
       "      <td>2020-12-21 18:07:34</td>\n",
       "    </tr>\n",
       "    <tr>\n",
       "      <th>4</th>\n",
       "      <td>0013-EXCHZ</td>\n",
       "      <td>2</td>\n",
       "      <td>2</td>\n",
       "      <td>1</td>\n",
       "      <td>Female</td>\n",
       "      <td>1</td>\n",
       "      <td>Yes</td>\n",
       "      <td>No</td>\n",
       "      <td>3</td>\n",
       "      <td>Yes</td>\n",
       "      <td>...</td>\n",
       "      <td>No</td>\n",
       "      <td>Yes</td>\n",
       "      <td>83.90</td>\n",
       "      <td>267.4</td>\n",
       "      <td>Yes</td>\n",
       "      <td>Month-to-month</td>\n",
       "      <td>Fiber optic</td>\n",
       "      <td>Mailed check</td>\n",
       "      <td>2022-01-31</td>\n",
       "      <td>2021-10-21 18:07:34</td>\n",
       "    </tr>\n",
       "    <tr>\n",
       "      <th>5</th>\n",
       "      <td>0013-MHZWF</td>\n",
       "      <td>4</td>\n",
       "      <td>1</td>\n",
       "      <td>1</td>\n",
       "      <td>Female</td>\n",
       "      <td>0</td>\n",
       "      <td>No</td>\n",
       "      <td>Yes</td>\n",
       "      <td>9</td>\n",
       "      <td>Yes</td>\n",
       "      <td>...</td>\n",
       "      <td>Yes</td>\n",
       "      <td>Yes</td>\n",
       "      <td>69.40</td>\n",
       "      <td>571.45</td>\n",
       "      <td>No</td>\n",
       "      <td>Month-to-month</td>\n",
       "      <td>DSL</td>\n",
       "      <td>Credit card (automatic)</td>\n",
       "      <td>NaN</td>\n",
       "      <td>2021-04-21 18:07:34</td>\n",
       "    </tr>\n",
       "    <tr>\n",
       "      <th>6</th>\n",
       "      <td>0013-SMEOE</td>\n",
       "      <td>3</td>\n",
       "      <td>2</td>\n",
       "      <td>3</td>\n",
       "      <td>Female</td>\n",
       "      <td>1</td>\n",
       "      <td>Yes</td>\n",
       "      <td>No</td>\n",
       "      <td>71</td>\n",
       "      <td>Yes</td>\n",
       "      <td>...</td>\n",
       "      <td>Yes</td>\n",
       "      <td>Yes</td>\n",
       "      <td>109.70</td>\n",
       "      <td>7904.25</td>\n",
       "      <td>No</td>\n",
       "      <td>Two year</td>\n",
       "      <td>Fiber optic</td>\n",
       "      <td>Bank transfer (automatic)</td>\n",
       "      <td>NaN</td>\n",
       "      <td>2016-02-21 18:07:34</td>\n",
       "    </tr>\n",
       "    <tr>\n",
       "      <th>7</th>\n",
       "      <td>0014-BMAQU</td>\n",
       "      <td>4</td>\n",
       "      <td>2</td>\n",
       "      <td>3</td>\n",
       "      <td>Male</td>\n",
       "      <td>0</td>\n",
       "      <td>Yes</td>\n",
       "      <td>No</td>\n",
       "      <td>63</td>\n",
       "      <td>Yes</td>\n",
       "      <td>...</td>\n",
       "      <td>No</td>\n",
       "      <td>Yes</td>\n",
       "      <td>84.65</td>\n",
       "      <td>5377.8</td>\n",
       "      <td>No</td>\n",
       "      <td>Two year</td>\n",
       "      <td>Fiber optic</td>\n",
       "      <td>Credit card (automatic)</td>\n",
       "      <td>NaN</td>\n",
       "      <td>2016-10-21 18:07:34</td>\n",
       "    </tr>\n",
       "    <tr>\n",
       "      <th>8</th>\n",
       "      <td>0015-UOCOJ</td>\n",
       "      <td>1</td>\n",
       "      <td>1</td>\n",
       "      <td>1</td>\n",
       "      <td>Female</td>\n",
       "      <td>1</td>\n",
       "      <td>No</td>\n",
       "      <td>No</td>\n",
       "      <td>7</td>\n",
       "      <td>Yes</td>\n",
       "      <td>...</td>\n",
       "      <td>No</td>\n",
       "      <td>Yes</td>\n",
       "      <td>48.20</td>\n",
       "      <td>340.35</td>\n",
       "      <td>No</td>\n",
       "      <td>Month-to-month</td>\n",
       "      <td>DSL</td>\n",
       "      <td>Electronic check</td>\n",
       "      <td>NaN</td>\n",
       "      <td>2021-06-21 18:07:34</td>\n",
       "    </tr>\n",
       "    <tr>\n",
       "      <th>9</th>\n",
       "      <td>0016-QLJIS</td>\n",
       "      <td>2</td>\n",
       "      <td>1</td>\n",
       "      <td>3</td>\n",
       "      <td>Female</td>\n",
       "      <td>0</td>\n",
       "      <td>Yes</td>\n",
       "      <td>Yes</td>\n",
       "      <td>65</td>\n",
       "      <td>Yes</td>\n",
       "      <td>...</td>\n",
       "      <td>Yes</td>\n",
       "      <td>Yes</td>\n",
       "      <td>90.45</td>\n",
       "      <td>5957.9</td>\n",
       "      <td>No</td>\n",
       "      <td>Two year</td>\n",
       "      <td>DSL</td>\n",
       "      <td>Mailed check</td>\n",
       "      <td>NaN</td>\n",
       "      <td>2016-08-21 18:07:34</td>\n",
       "    </tr>\n",
       "  </tbody>\n",
       "</table>\n",
       "<p>10 rows × 26 columns</p>\n",
       "</div>"
      ],
      "text/plain": [
       "  customer_id  payment_type_id  internet_service_type_id  contract_type_id  \\\n",
       "0  0002-ORFBO                2                         1                 2   \n",
       "1  0003-MKNFE                2                         1                 1   \n",
       "2  0004-TLHLJ                1                         2                 1   \n",
       "3  0011-IGKFF                1                         2                 1   \n",
       "4  0013-EXCHZ                2                         2                 1   \n",
       "5  0013-MHZWF                4                         1                 1   \n",
       "6  0013-SMEOE                3                         2                 3   \n",
       "7  0014-BMAQU                4                         2                 3   \n",
       "8  0015-UOCOJ                1                         1                 1   \n",
       "9  0016-QLJIS                2                         1                 3   \n",
       "\n",
       "   gender  senior_citizen partner dependents  tenure phone_service  ...  \\\n",
       "0  Female               0     Yes        Yes       9           Yes  ...   \n",
       "1    Male               0      No         No       9           Yes  ...   \n",
       "2    Male               0      No         No       4           Yes  ...   \n",
       "3    Male               1     Yes         No      13           Yes  ...   \n",
       "4  Female               1     Yes         No       3           Yes  ...   \n",
       "5  Female               0      No        Yes       9           Yes  ...   \n",
       "6  Female               1     Yes         No      71           Yes  ...   \n",
       "7    Male               0     Yes         No      63           Yes  ...   \n",
       "8  Female               1      No         No       7           Yes  ...   \n",
       "9  Female               0     Yes        Yes      65           Yes  ...   \n",
       "\n",
       "  streaming_movies paperless_billing monthly_charges total_charges churn  \\\n",
       "0               No               Yes           65.60         593.3    No   \n",
       "1              Yes                No           59.90         542.4    No   \n",
       "2               No               Yes           73.90        280.85   Yes   \n",
       "3              Yes               Yes           98.00       1237.85   Yes   \n",
       "4               No               Yes           83.90         267.4   Yes   \n",
       "5              Yes               Yes           69.40        571.45    No   \n",
       "6              Yes               Yes          109.70       7904.25    No   \n",
       "7               No               Yes           84.65        5377.8    No   \n",
       "8               No               Yes           48.20        340.35    No   \n",
       "9              Yes               Yes           90.45        5957.9    No   \n",
       "\n",
       "    contract_type internet_service_type               payment_type  \\\n",
       "0        One year                   DSL               Mailed check   \n",
       "1  Month-to-month                   DSL               Mailed check   \n",
       "2  Month-to-month           Fiber optic           Electronic check   \n",
       "3  Month-to-month           Fiber optic           Electronic check   \n",
       "4  Month-to-month           Fiber optic               Mailed check   \n",
       "5  Month-to-month                   DSL    Credit card (automatic)   \n",
       "6        Two year           Fiber optic  Bank transfer (automatic)   \n",
       "7        Two year           Fiber optic    Credit card (automatic)   \n",
       "8  Month-to-month                   DSL           Electronic check   \n",
       "9        Two year                   DSL               Mailed check   \n",
       "\n",
       "   churn_month          signup_date  \n",
       "0          NaN  2021-04-21 18:07:34  \n",
       "1          NaN  2021-04-21 18:07:34  \n",
       "2   2022-01-31  2021-09-21 18:07:34  \n",
       "3   2022-01-31  2020-12-21 18:07:34  \n",
       "4   2022-01-31  2021-10-21 18:07:34  \n",
       "5          NaN  2021-04-21 18:07:34  \n",
       "6          NaN  2016-02-21 18:07:34  \n",
       "7          NaN  2016-10-21 18:07:34  \n",
       "8          NaN  2021-06-21 18:07:34  \n",
       "9          NaN  2016-08-21 18:07:34  \n",
       "\n",
       "[10 rows x 26 columns]"
      ]
     },
     "execution_count": 9,
     "metadata": {},
     "output_type": "execute_result"
    }
   ],
   "source": [
    "ut.head(10)"
   ]
  },
  {
   "cell_type": "code",
   "execution_count": 10,
   "id": "1baabc4a",
   "metadata": {},
   "outputs": [],
   "source": [
    "# in order to make some initial visualizations, I will put my unclean data into \n",
    "# columns to then make some graphs\n",
    "cat_cols , num_cols = [], []\n",
    "for col in ut.columns:\n",
    "    if ut[col].dtype == \"o\":\n",
    "        cat_cols.append(col)\n",
    "    else:\n",
    "        if ut[col].nunique() < 10:\n",
    "            cat_cols.append(col)\n",
    "        else: num_cols.append(col)"
   ]
  },
  {
   "cell_type": "code",
   "execution_count": 11,
   "id": "17554100",
   "metadata": {},
   "outputs": [
    {
     "data": {
      "text/plain": [
       "['payment_type_id',\n",
       " 'internet_service_type_id',\n",
       " 'contract_type_id',\n",
       " 'gender',\n",
       " 'senior_citizen',\n",
       " 'partner',\n",
       " 'dependents',\n",
       " 'phone_service',\n",
       " 'multiple_lines',\n",
       " 'online_security',\n",
       " 'online_backup',\n",
       " 'device_protection',\n",
       " 'tech_support',\n",
       " 'streaming_tv',\n",
       " 'streaming_movies',\n",
       " 'paperless_billing',\n",
       " 'churn',\n",
       " 'contract_type',\n",
       " 'internet_service_type',\n",
       " 'payment_type',\n",
       " 'churn_month']"
      ]
     },
     "execution_count": 11,
     "metadata": {},
     "output_type": "execute_result"
    }
   ],
   "source": [
    "cat_cols"
   ]
  },
  {
   "cell_type": "code",
   "execution_count": 12,
   "id": "eb063b6d",
   "metadata": {},
   "outputs": [
    {
     "data": {
      "text/plain": [
       "['customer_id', 'tenure', 'monthly_charges', 'total_charges', 'signup_date']"
      ]
     },
     "execution_count": 12,
     "metadata": {},
     "output_type": "execute_result"
    }
   ],
   "source": [
    "num_cols"
   ]
  },
  {
   "cell_type": "code",
   "execution_count": 13,
   "id": "f6f4f5ad",
   "metadata": {},
   "outputs": [
    {
     "data": {
      "text/plain": [
       "['payment_type_id',\n",
       " 'internet_service_type_id',\n",
       " 'contract_type_id',\n",
       " 'gender',\n",
       " 'senior_citizen',\n",
       " 'partner',\n",
       " 'dependents',\n",
       " 'phone_service',\n",
       " 'multiple_lines',\n",
       " 'online_security',\n",
       " 'online_backup',\n",
       " 'device_protection',\n",
       " 'tech_support',\n",
       " 'streaming_tv',\n",
       " 'streaming_movies',\n",
       " 'paperless_billing',\n",
       " 'churn',\n",
       " 'contract_type',\n",
       " 'internet_service_type',\n",
       " 'payment_type',\n",
       " 'churn_month']"
      ]
     },
     "execution_count": 13,
     "metadata": {},
     "output_type": "execute_result"
    }
   ],
   "source": [
    "# Im going to take out some unnecessary columns from each of my new columns\n",
    "cat_cols"
   ]
  },
  {
   "cell_type": "code",
   "execution_count": 14,
   "id": "c46c2287",
   "metadata": {},
   "outputs": [],
   "source": [
    "cat_cols.remove('payment_type_id')\n",
    "cat_cols.remove('internet_service_type_id')\n",
    "cat_cols.remove('contract_type_id')\n",
    "num_cols.remove('customer_id')"
   ]
  },
  {
   "cell_type": "code",
   "execution_count": 15,
   "id": "044d82f7",
   "metadata": {
    "scrolled": true
   },
   "outputs": [
    {
     "data": {
      "text/plain": [
       "gender                   object\n",
       "senior_citizen            int64\n",
       "partner                  object\n",
       "dependents               object\n",
       "phone_service            object\n",
       "multiple_lines           object\n",
       "online_security          object\n",
       "online_backup            object\n",
       "device_protection        object\n",
       "tech_support             object\n",
       "streaming_tv             object\n",
       "streaming_movies         object\n",
       "paperless_billing        object\n",
       "churn                    object\n",
       "contract_type            object\n",
       "internet_service_type    object\n",
       "payment_type             object\n",
       "churn_month              object\n",
       "dtype: object"
      ]
     },
     "execution_count": 15,
     "metadata": {},
     "output_type": "execute_result"
    }
   ],
   "source": [
    "# I removed the redundant columns and now I have desctiptive string columns or numeric\n",
    "# columns \n",
    "ut[cat_cols].dtypes"
   ]
  },
  {
   "cell_type": "code",
   "execution_count": 16,
   "id": "129494c3",
   "metadata": {},
   "outputs": [
    {
     "data": {
      "text/plain": [
       "tenure               int64\n",
       "monthly_charges    float64\n",
       "total_charges       object\n",
       "signup_date         object\n",
       "dtype: object"
      ]
     },
     "execution_count": 16,
     "metadata": {},
     "output_type": "execute_result"
    }
   ],
   "source": [
    "ut[num_cols].dtypes"
   ]
  },
  {
   "cell_type": "code",
   "execution_count": 17,
   "id": "d6794830",
   "metadata": {},
   "outputs": [],
   "source": [
    "# Great! Now we will make some graphs"
   ]
  },
  {
   "cell_type": "code",
   "execution_count": 18,
   "id": "45e7cf48",
   "metadata": {},
   "outputs": [],
   "source": [
    "explore_cols = cat_cols + num_cols"
   ]
  },
  {
   "cell_type": "code",
   "execution_count": 19,
   "id": "7f018386",
   "metadata": {},
   "outputs": [
    {
     "data": {
      "text/html": [
       "<div>\n",
       "<style scoped>\n",
       "    .dataframe tbody tr th:only-of-type {\n",
       "        vertical-align: middle;\n",
       "    }\n",
       "\n",
       "    .dataframe tbody tr th {\n",
       "        vertical-align: top;\n",
       "    }\n",
       "\n",
       "    .dataframe thead th {\n",
       "        text-align: right;\n",
       "    }\n",
       "</style>\n",
       "<table border=\"1\" class=\"dataframe\">\n",
       "  <thead>\n",
       "    <tr style=\"text-align: right;\">\n",
       "      <th></th>\n",
       "      <th>customer_id</th>\n",
       "      <th>payment_type_id</th>\n",
       "      <th>internet_service_type_id</th>\n",
       "      <th>contract_type_id</th>\n",
       "      <th>gender</th>\n",
       "      <th>senior_citizen</th>\n",
       "      <th>partner</th>\n",
       "      <th>dependents</th>\n",
       "      <th>tenure</th>\n",
       "      <th>phone_service</th>\n",
       "      <th>...</th>\n",
       "      <th>streaming_movies</th>\n",
       "      <th>paperless_billing</th>\n",
       "      <th>monthly_charges</th>\n",
       "      <th>total_charges</th>\n",
       "      <th>churn</th>\n",
       "      <th>contract_type</th>\n",
       "      <th>internet_service_type</th>\n",
       "      <th>payment_type</th>\n",
       "      <th>churn_month</th>\n",
       "      <th>signup_date</th>\n",
       "    </tr>\n",
       "  </thead>\n",
       "  <tbody>\n",
       "    <tr>\n",
       "      <th>0</th>\n",
       "      <td>0002-ORFBO</td>\n",
       "      <td>2</td>\n",
       "      <td>1</td>\n",
       "      <td>2</td>\n",
       "      <td>Female</td>\n",
       "      <td>0</td>\n",
       "      <td>Yes</td>\n",
       "      <td>Yes</td>\n",
       "      <td>9</td>\n",
       "      <td>Yes</td>\n",
       "      <td>...</td>\n",
       "      <td>No</td>\n",
       "      <td>Yes</td>\n",
       "      <td>65.6</td>\n",
       "      <td>593.3</td>\n",
       "      <td>No</td>\n",
       "      <td>One year</td>\n",
       "      <td>DSL</td>\n",
       "      <td>Mailed check</td>\n",
       "      <td>NaN</td>\n",
       "      <td>2021-04-21 18:07:34</td>\n",
       "    </tr>\n",
       "    <tr>\n",
       "      <th>1</th>\n",
       "      <td>0003-MKNFE</td>\n",
       "      <td>2</td>\n",
       "      <td>1</td>\n",
       "      <td>1</td>\n",
       "      <td>Male</td>\n",
       "      <td>0</td>\n",
       "      <td>No</td>\n",
       "      <td>No</td>\n",
       "      <td>9</td>\n",
       "      <td>Yes</td>\n",
       "      <td>...</td>\n",
       "      <td>Yes</td>\n",
       "      <td>No</td>\n",
       "      <td>59.9</td>\n",
       "      <td>542.4</td>\n",
       "      <td>No</td>\n",
       "      <td>Month-to-month</td>\n",
       "      <td>DSL</td>\n",
       "      <td>Mailed check</td>\n",
       "      <td>NaN</td>\n",
       "      <td>2021-04-21 18:07:34</td>\n",
       "    </tr>\n",
       "    <tr>\n",
       "      <th>2</th>\n",
       "      <td>0004-TLHLJ</td>\n",
       "      <td>1</td>\n",
       "      <td>2</td>\n",
       "      <td>1</td>\n",
       "      <td>Male</td>\n",
       "      <td>0</td>\n",
       "      <td>No</td>\n",
       "      <td>No</td>\n",
       "      <td>4</td>\n",
       "      <td>Yes</td>\n",
       "      <td>...</td>\n",
       "      <td>No</td>\n",
       "      <td>Yes</td>\n",
       "      <td>73.9</td>\n",
       "      <td>280.85</td>\n",
       "      <td>Yes</td>\n",
       "      <td>Month-to-month</td>\n",
       "      <td>Fiber optic</td>\n",
       "      <td>Electronic check</td>\n",
       "      <td>2022-01-31</td>\n",
       "      <td>2021-09-21 18:07:34</td>\n",
       "    </tr>\n",
       "    <tr>\n",
       "      <th>3</th>\n",
       "      <td>0011-IGKFF</td>\n",
       "      <td>1</td>\n",
       "      <td>2</td>\n",
       "      <td>1</td>\n",
       "      <td>Male</td>\n",
       "      <td>1</td>\n",
       "      <td>Yes</td>\n",
       "      <td>No</td>\n",
       "      <td>13</td>\n",
       "      <td>Yes</td>\n",
       "      <td>...</td>\n",
       "      <td>Yes</td>\n",
       "      <td>Yes</td>\n",
       "      <td>98.0</td>\n",
       "      <td>1237.85</td>\n",
       "      <td>Yes</td>\n",
       "      <td>Month-to-month</td>\n",
       "      <td>Fiber optic</td>\n",
       "      <td>Electronic check</td>\n",
       "      <td>2022-01-31</td>\n",
       "      <td>2020-12-21 18:07:34</td>\n",
       "    </tr>\n",
       "    <tr>\n",
       "      <th>4</th>\n",
       "      <td>0013-EXCHZ</td>\n",
       "      <td>2</td>\n",
       "      <td>2</td>\n",
       "      <td>1</td>\n",
       "      <td>Female</td>\n",
       "      <td>1</td>\n",
       "      <td>Yes</td>\n",
       "      <td>No</td>\n",
       "      <td>3</td>\n",
       "      <td>Yes</td>\n",
       "      <td>...</td>\n",
       "      <td>No</td>\n",
       "      <td>Yes</td>\n",
       "      <td>83.9</td>\n",
       "      <td>267.4</td>\n",
       "      <td>Yes</td>\n",
       "      <td>Month-to-month</td>\n",
       "      <td>Fiber optic</td>\n",
       "      <td>Mailed check</td>\n",
       "      <td>2022-01-31</td>\n",
       "      <td>2021-10-21 18:07:34</td>\n",
       "    </tr>\n",
       "  </tbody>\n",
       "</table>\n",
       "<p>5 rows × 26 columns</p>\n",
       "</div>"
      ],
      "text/plain": [
       "  customer_id  payment_type_id  internet_service_type_id  contract_type_id  \\\n",
       "0  0002-ORFBO                2                         1                 2   \n",
       "1  0003-MKNFE                2                         1                 1   \n",
       "2  0004-TLHLJ                1                         2                 1   \n",
       "3  0011-IGKFF                1                         2                 1   \n",
       "4  0013-EXCHZ                2                         2                 1   \n",
       "\n",
       "   gender  senior_citizen partner dependents  tenure phone_service  ...  \\\n",
       "0  Female               0     Yes        Yes       9           Yes  ...   \n",
       "1    Male               0      No         No       9           Yes  ...   \n",
       "2    Male               0      No         No       4           Yes  ...   \n",
       "3    Male               1     Yes         No      13           Yes  ...   \n",
       "4  Female               1     Yes         No       3           Yes  ...   \n",
       "\n",
       "  streaming_movies paperless_billing monthly_charges total_charges churn  \\\n",
       "0               No               Yes            65.6         593.3    No   \n",
       "1              Yes                No            59.9         542.4    No   \n",
       "2               No               Yes            73.9        280.85   Yes   \n",
       "3              Yes               Yes            98.0       1237.85   Yes   \n",
       "4               No               Yes            83.9         267.4   Yes   \n",
       "\n",
       "    contract_type internet_service_type      payment_type  churn_month  \\\n",
       "0        One year                   DSL      Mailed check          NaN   \n",
       "1  Month-to-month                   DSL      Mailed check          NaN   \n",
       "2  Month-to-month           Fiber optic  Electronic check   2022-01-31   \n",
       "3  Month-to-month           Fiber optic  Electronic check   2022-01-31   \n",
       "4  Month-to-month           Fiber optic      Mailed check   2022-01-31   \n",
       "\n",
       "           signup_date  \n",
       "0  2021-04-21 18:07:34  \n",
       "1  2021-04-21 18:07:34  \n",
       "2  2021-09-21 18:07:34  \n",
       "3  2020-12-21 18:07:34  \n",
       "4  2021-10-21 18:07:34  \n",
       "\n",
       "[5 rows x 26 columns]"
      ]
     },
     "execution_count": 19,
     "metadata": {},
     "output_type": "execute_result"
    }
   ],
   "source": [
    "# we will make a for loop that will make our graphs\n",
    "ut.head()"
   ]
  },
  {
   "cell_type": "code",
   "execution_count": 20,
   "id": "ed209fb4",
   "metadata": {},
   "outputs": [],
   "source": [
    "# for col in explore_cols:\n",
    "#     if col in cat_cols:\n",
    "#         print(f'Univariate assessment of feature {col}:')\n",
    "#         sns.countplot(data=ut, x=col)\n",
    "#         plt.show()\n",
    "# #         print(\n",
    "# #             pd.concat(ut[col].value_counts(),\n",
    "# #                      ut[col].value_counts(normalize=True),\n",
    "# #                      axis=1))\n",
    "#     if col in num_cols:\n",
    "#         print(f'Univariate feature analysis of feature {col}: ')\n",
    "#         plt.hist(ut[col])\n",
    "#         plt.show()\n",
    "#         ut[col].describe()\n",
    "#     print('_____________________________________________________')\n",
    "#     print('_____________________________________________________')\n",
    "#     print()"
   ]
  },
  {
   "cell_type": "code",
   "execution_count": 21,
   "id": "b8af4ea1",
   "metadata": {},
   "outputs": [
    {
     "data": {
      "text/plain": [
       "['tenure', 'monthly_charges', 'total_charges', 'signup_date']"
      ]
     },
     "execution_count": 21,
     "metadata": {},
     "output_type": "execute_result"
    }
   ],
   "source": [
    "num_cols"
   ]
  },
  {
   "cell_type": "code",
   "execution_count": 22,
   "id": "b5c6230a",
   "metadata": {},
   "outputs": [
    {
     "data": {
      "text/plain": [
       "['gender',\n",
       " 'senior_citizen',\n",
       " 'partner',\n",
       " 'dependents',\n",
       " 'phone_service',\n",
       " 'multiple_lines',\n",
       " 'online_security',\n",
       " 'online_backup',\n",
       " 'device_protection',\n",
       " 'tech_support',\n",
       " 'streaming_tv',\n",
       " 'streaming_movies',\n",
       " 'paperless_billing',\n",
       " 'churn',\n",
       " 'contract_type',\n",
       " 'internet_service_type',\n",
       " 'payment_type',\n",
       " 'churn_month']"
      ]
     },
     "execution_count": 22,
     "metadata": {},
     "output_type": "execute_result"
    }
   ],
   "source": [
    "cat_cols"
   ]
  },
  {
   "cell_type": "markdown",
   "id": "c666c844",
   "metadata": {},
   "source": [
    "Now lets look at some univariate visulizations with our clean dataset"
   ]
  },
  {
   "cell_type": "code",
   "execution_count": 23,
   "id": "72fbb005",
   "metadata": {},
   "outputs": [],
   "source": [
    "# in order to make some initial visualizations, I will put my unclean data into \n",
    "# columns to then make some graphs\n",
    "cat_cols , num_cols = [], []\n",
    "for col in ct.columns:\n",
    "    if ct[col].dtype == \"o\":\n",
    "        cat_cols.append(col)\n",
    "    else:\n",
    "        if ct[col].nunique() < 10:\n",
    "            cat_cols.append(col)\n",
    "        else: num_cols.append(col)\n"
   ]
  },
  {
   "cell_type": "code",
   "execution_count": 24,
   "id": "6c6348ce",
   "metadata": {},
   "outputs": [
    {
     "data": {
      "text/plain": [
       "['gender',\n",
       " 'senior_citizen',\n",
       " 'partner',\n",
       " 'dependents',\n",
       " 'phone_service',\n",
       " 'multiple_lines',\n",
       " 'online_security',\n",
       " 'online_backup',\n",
       " 'device_protection',\n",
       " 'tech_support',\n",
       " 'streaming_tv',\n",
       " 'streaming_movies',\n",
       " 'paperless_billing',\n",
       " 'churn',\n",
       " 'contract_type',\n",
       " 'internet_service_type',\n",
       " 'payment_type',\n",
       " 'churn_month',\n",
       " 'gender_Male',\n",
       " 'contract_type_One year',\n",
       " 'contract_type_Two year',\n",
       " 'internet_service_type_Fiber optic',\n",
       " 'internet_service_type_None',\n",
       " 'payment_type_Credit card (automatic)',\n",
       " 'payment_type_Electronic check',\n",
       " 'payment_type_Mailed check']"
      ]
     },
     "execution_count": 24,
     "metadata": {},
     "output_type": "execute_result"
    }
   ],
   "source": [
    "# Lets look at our columns\n",
    "cat_cols"
   ]
  },
  {
   "cell_type": "code",
   "execution_count": 25,
   "id": "34771a62",
   "metadata": {},
   "outputs": [
    {
     "data": {
      "text/plain": [
       "['customer_id',\n",
       " 'tenure',\n",
       " 'monthly_charges',\n",
       " 'total_charges',\n",
       " 'signup_date',\n",
       " 'time_with_telco']"
      ]
     },
     "execution_count": 25,
     "metadata": {},
     "output_type": "execute_result"
    }
   ],
   "source": [
    "num_cols"
   ]
  },
  {
   "cell_type": "code",
   "execution_count": 26,
   "id": "8bee1d5d",
   "metadata": {},
   "outputs": [],
   "source": [
    "# for graphoing purposes, Im going to remove the one_hot encoded variables which will\n",
    "# cause breakage in my code as seen above\n",
    "cat_cols.remove('gender_Male')\n",
    "cat_cols.remove('contract_type_One year')\n",
    "cat_cols.remove('contract_type_Two year')\n",
    "cat_cols.remove('internet_service_type_Fiber optic')\n",
    "cat_cols.remove('internet_service_type_None')\n",
    "cat_cols.remove('payment_type_Credit card (automatic)')\n",
    "cat_cols.remove('payment_type_Electronic check')\n",
    "cat_cols.remove('payment_type_Mailed check')"
   ]
  },
  {
   "cell_type": "code",
   "execution_count": 27,
   "id": "09a6eca6",
   "metadata": {},
   "outputs": [],
   "source": [
    "explore_cols = cat_cols + num_cols"
   ]
  },
  {
   "cell_type": "code",
   "execution_count": 28,
   "id": "ba2ff31b",
   "metadata": {},
   "outputs": [
    {
     "data": {
      "text/plain": [
       "['gender',\n",
       " 'senior_citizen',\n",
       " 'partner',\n",
       " 'dependents',\n",
       " 'phone_service',\n",
       " 'multiple_lines',\n",
       " 'online_security',\n",
       " 'online_backup',\n",
       " 'device_protection',\n",
       " 'tech_support',\n",
       " 'streaming_tv',\n",
       " 'streaming_movies',\n",
       " 'paperless_billing',\n",
       " 'churn',\n",
       " 'contract_type',\n",
       " 'internet_service_type',\n",
       " 'payment_type',\n",
       " 'churn_month']"
      ]
     },
     "execution_count": 28,
     "metadata": {},
     "output_type": "execute_result"
    }
   ],
   "source": [
    "cat_cols"
   ]
  },
  {
   "cell_type": "code",
   "execution_count": 29,
   "id": "d5148f12",
   "metadata": {},
   "outputs": [],
   "source": [
    "# for col in explore_cols:\n",
    "#     if col in cat_cols:\n",
    "#         if col != 'churn_month':\n",
    "#             print(f'Univariate assessment of feature {col}:')\n",
    "#             sns.countplot(data=ct, x=col)\n",
    "#             plt.show()\n",
    "# #         \n",
    "#     if col in num_cols:\n",
    "#         if col != 'time_with_telco':\n",
    "#             print(f'Univariate feature analysis of feature {col}: ')\n",
    "#             plt.hist(ct[col])\n",
    "#             plt.show()\n",
    "#             ut[col].describe()\n",
    "#     print('_____________________________________________________')\n",
    "#     print('_____________________________________________________')\n",
    "#     print()"
   ]
  },
  {
   "cell_type": "markdown",
   "id": "788f2060",
   "metadata": {},
   "source": [
    "### Takeways from the univariate visualizations "
   ]
  },
  {
   "cell_type": "markdown",
   "id": "1fbc1892",
   "metadata": {},
   "source": [
    "- gender:\n",
    "    the ratio of male to female looks pretty even\n",
    "- senior citizen:\n",
    "    there are far more non-senior citizens than there are senior citizens\n",
    "- partner: there is no significant difference in the amount of customers who are partners vs not\n",
    "- dependents: there are about half the number of people with dependents vs those without \n",
    "- phone service: far more people pay for phone service than those who don't\n",
    "- multiple lines: there are a little bit more customers who do not have multiple lines than those who do\n",
    "- online security: there are less than half of people who do pay for online security vs those who do not\n",
    "- online backup: there are about 50% less of people who pay for online backup than those who do not\n",
    "- device protection: there are about 50% less of people who pay for device protection than those who do not\n",
    "- tech support: approximately 2/3 more people do not pay for tech support than those who do\n",
    "- streaming tv: more people do not have tv streaming than those who do\n",
    "- streaming movies: more people do not have movie streaming than those who do\n",
    "- paperless billing: more people have paperless billing than than those who have paper billing\n",
    "- ** churn: we have more customers who have not churned than those who have churned ( about a 1 to 3 ratio)\n",
    "- contract type:\n",
    "     - most people have a month to month contract (about 3:1 when compared to either one year or two year)\n",
    "- internet service type: \n",
    "    - most people have fiber optic, but a comparable amount of people have DSL.\n",
    "    - about half the people who have fiber optic do not have any internet service \n",
    "- payment type: \n",
    "    - most people use electronic checks\n",
    "    - there is a pretty uniform distribution of those who use auto, mailed check, and electronic checks\n",
    "- tenure:\n",
    "    - the spikes we see are those who are new customers/customers who only stayed with us for a short amount of time OR customers who have been with us for years\n",
    "    - its a pretty uniform distribution for the tenure time in between 5 and 65 months\n",
    "    - mean of about 30\n",
    "- monthly charges:\n",
    "    - there is a spike of people who pay the minimum, but the majority of people pay somewhere around the mean of ~70\n",
    "- total charges:\n",
    "    - the distribution is skewed to the right\n",
    "    - most people pay somewhere between $40 and $80/mo"
   ]
  },
  {
   "cell_type": "markdown",
   "id": "cdbe2992",
   "metadata": {},
   "source": [
    "According to Reviews.org (https://www.reviews.org/internet-service/cost-of-internet-streaming-and-cell-phone-bills/): \n",
    "\n",
    "Average American monthly telecommunications costs:\n",
    "\n",
    "    Internet services: $57.25 per month\n",
    "Cell phone plans: $50.17 per month\n",
    "    Streaming services: $39.96 per month\n",
    "Total: $147.38 per month"
   ]
  },
  {
   "cell_type": "code",
   "execution_count": 30,
   "id": "25d60dce",
   "metadata": {},
   "outputs": [
    {
     "data": {
      "text/plain": [
       "64.76"
      ]
     },
     "execution_count": 30,
     "metadata": {},
     "output_type": "execute_result"
    }
   ],
   "source": [
    "round(ct.monthly_charges.mean(), 2)\n",
    "# compared to the monthly average, telco is pretty affordable..."
   ]
  },
  {
   "cell_type": "markdown",
   "id": "e590f26b",
   "metadata": {},
   "source": [
    "So the metrics observed by Reviews.org are:\n",
    "\n",
    "    - streaming\n",
    "    - mobile plans\n",
    "    - internet\n",
    "\n",
    "So lets look at what people who pay for these services pay per month"
   ]
  },
  {
   "cell_type": "code",
   "execution_count": 31,
   "id": "99de6351",
   "metadata": {},
   "outputs": [],
   "source": [
    "filtered_ct = ct[['internet_service_type', 'phone_service', 'streaming_tv', 'streaming_movies', 'churn', 'monthly_charges', 'tenure', 'total_charges']]"
   ]
  },
  {
   "cell_type": "code",
   "execution_count": 32,
   "id": "c411f8a0",
   "metadata": {},
   "outputs": [],
   "source": [
    "# lets make some masks"
   ]
  },
  {
   "cell_type": "code",
   "execution_count": 33,
   "id": "a9373a97",
   "metadata": {},
   "outputs": [
    {
     "data": {
      "text/html": [
       "<div>\n",
       "<style scoped>\n",
       "    .dataframe tbody tr th:only-of-type {\n",
       "        vertical-align: middle;\n",
       "    }\n",
       "\n",
       "    .dataframe tbody tr th {\n",
       "        vertical-align: top;\n",
       "    }\n",
       "\n",
       "    .dataframe thead th {\n",
       "        text-align: right;\n",
       "    }\n",
       "</style>\n",
       "<table border=\"1\" class=\"dataframe\">\n",
       "  <thead>\n",
       "    <tr style=\"text-align: right;\">\n",
       "      <th></th>\n",
       "      <th>internet_service_type</th>\n",
       "      <th>phone_service</th>\n",
       "      <th>streaming_tv</th>\n",
       "      <th>streaming_movies</th>\n",
       "      <th>churn</th>\n",
       "      <th>monthly_charges</th>\n",
       "      <th>tenure</th>\n",
       "      <th>total_charges</th>\n",
       "    </tr>\n",
       "  </thead>\n",
       "  <tbody>\n",
       "    <tr>\n",
       "      <th>3</th>\n",
       "      <td>Fiber optic</td>\n",
       "      <td>1</td>\n",
       "      <td>1</td>\n",
       "      <td>1</td>\n",
       "      <td>1</td>\n",
       "      <td>98.00</td>\n",
       "      <td>13</td>\n",
       "      <td>1237.85</td>\n",
       "    </tr>\n",
       "    <tr>\n",
       "      <th>5</th>\n",
       "      <td>DSL</td>\n",
       "      <td>1</td>\n",
       "      <td>1</td>\n",
       "      <td>1</td>\n",
       "      <td>0</td>\n",
       "      <td>69.40</td>\n",
       "      <td>9</td>\n",
       "      <td>571.45</td>\n",
       "    </tr>\n",
       "    <tr>\n",
       "      <th>6</th>\n",
       "      <td>Fiber optic</td>\n",
       "      <td>1</td>\n",
       "      <td>1</td>\n",
       "      <td>1</td>\n",
       "      <td>0</td>\n",
       "      <td>109.70</td>\n",
       "      <td>71</td>\n",
       "      <td>7904.25</td>\n",
       "    </tr>\n",
       "    <tr>\n",
       "      <th>9</th>\n",
       "      <td>DSL</td>\n",
       "      <td>1</td>\n",
       "      <td>1</td>\n",
       "      <td>1</td>\n",
       "      <td>0</td>\n",
       "      <td>90.45</td>\n",
       "      <td>65</td>\n",
       "      <td>5957.90</td>\n",
       "    </tr>\n",
       "    <tr>\n",
       "      <th>11</th>\n",
       "      <td>Fiber optic</td>\n",
       "      <td>1</td>\n",
       "      <td>1</td>\n",
       "      <td>1</td>\n",
       "      <td>0</td>\n",
       "      <td>116.80</td>\n",
       "      <td>72</td>\n",
       "      <td>8456.75</td>\n",
       "    </tr>\n",
       "    <tr>\n",
       "      <th>...</th>\n",
       "      <td>...</td>\n",
       "      <td>...</td>\n",
       "      <td>...</td>\n",
       "      <td>...</td>\n",
       "      <td>...</td>\n",
       "      <td>...</td>\n",
       "      <td>...</td>\n",
       "      <td>...</td>\n",
       "    </tr>\n",
       "    <tr>\n",
       "      <th>7019</th>\n",
       "      <td>Fiber optic</td>\n",
       "      <td>1</td>\n",
       "      <td>1</td>\n",
       "      <td>1</td>\n",
       "      <td>0</td>\n",
       "      <td>106.70</td>\n",
       "      <td>71</td>\n",
       "      <td>7382.25</td>\n",
       "    </tr>\n",
       "    <tr>\n",
       "      <th>7020</th>\n",
       "      <td>Fiber optic</td>\n",
       "      <td>1</td>\n",
       "      <td>1</td>\n",
       "      <td>1</td>\n",
       "      <td>1</td>\n",
       "      <td>96.80</td>\n",
       "      <td>21</td>\n",
       "      <td>2030.30</td>\n",
       "    </tr>\n",
       "    <tr>\n",
       "      <th>7027</th>\n",
       "      <td>Fiber optic</td>\n",
       "      <td>1</td>\n",
       "      <td>1</td>\n",
       "      <td>1</td>\n",
       "      <td>0</td>\n",
       "      <td>108.90</td>\n",
       "      <td>34</td>\n",
       "      <td>3625.20</td>\n",
       "    </tr>\n",
       "    <tr>\n",
       "      <th>7031</th>\n",
       "      <td>Fiber optic</td>\n",
       "      <td>1</td>\n",
       "      <td>1</td>\n",
       "      <td>1</td>\n",
       "      <td>0</td>\n",
       "      <td>99.15</td>\n",
       "      <td>64</td>\n",
       "      <td>6171.20</td>\n",
       "    </tr>\n",
       "    <tr>\n",
       "      <th>7035</th>\n",
       "      <td>Fiber optic</td>\n",
       "      <td>1</td>\n",
       "      <td>1</td>\n",
       "      <td>1</td>\n",
       "      <td>0</td>\n",
       "      <td>94.05</td>\n",
       "      <td>7</td>\n",
       "      <td>633.45</td>\n",
       "    </tr>\n",
       "  </tbody>\n",
       "</table>\n",
       "<p>1740 rows × 8 columns</p>\n",
       "</div>"
      ],
      "text/plain": [
       "     internet_service_type  phone_service  streaming_tv  streaming_movies  \\\n",
       "3              Fiber optic              1             1                 1   \n",
       "5                      DSL              1             1                 1   \n",
       "6              Fiber optic              1             1                 1   \n",
       "9                      DSL              1             1                 1   \n",
       "11             Fiber optic              1             1                 1   \n",
       "...                    ...            ...           ...               ...   \n",
       "7019           Fiber optic              1             1                 1   \n",
       "7020           Fiber optic              1             1                 1   \n",
       "7027           Fiber optic              1             1                 1   \n",
       "7031           Fiber optic              1             1                 1   \n",
       "7035           Fiber optic              1             1                 1   \n",
       "\n",
       "      churn  monthly_charges  tenure  total_charges  \n",
       "3         1            98.00      13        1237.85  \n",
       "5         0            69.40       9         571.45  \n",
       "6         0           109.70      71        7904.25  \n",
       "9         0            90.45      65        5957.90  \n",
       "11        0           116.80      72        8456.75  \n",
       "...     ...              ...     ...            ...  \n",
       "7019      0           106.70      71        7382.25  \n",
       "7020      1            96.80      21        2030.30  \n",
       "7027      0           108.90      34        3625.20  \n",
       "7031      0            99.15      64        6171.20  \n",
       "7035      0            94.05       7         633.45  \n",
       "\n",
       "[1740 rows x 8 columns]"
      ]
     },
     "execution_count": 33,
     "metadata": {},
     "output_type": "execute_result"
    }
   ],
   "source": [
    "# Mask: lets see who does pay for phone_service, internet, streaming tv and movies\n",
    "all_services = filtered_ct[(filtered_ct['phone_service'] == 1) & ((filtered_ct['internet_service_type'] == 'DSL') | (filtered_ct['internet_service_type'] == 'Fiber optic')) & (filtered_ct['streaming_tv'] == 1) & (filtered_ct['streaming_movies'] == 1)]\n",
    "all_services"
   ]
  },
  {
   "cell_type": "code",
   "execution_count": 34,
   "id": "d31ab26b",
   "metadata": {},
   "outputs": [
    {
     "data": {
      "text/plain": [
       "7043"
      ]
     },
     "execution_count": 34,
     "metadata": {},
     "output_type": "execute_result"
    }
   ],
   "source": [
    "len(filtered_ct)"
   ]
  },
  {
   "cell_type": "markdown",
   "id": "521d29db",
   "metadata": {},
   "source": [
    "So out of 7043, only 1740 pay for internet, phone, movie streaming, and phone streaming"
   ]
  },
  {
   "cell_type": "code",
   "execution_count": 35,
   "id": "f9c73730",
   "metadata": {},
   "outputs": [
    {
     "data": {
      "text/plain": [
       "97.61183908045972"
      ]
     },
     "execution_count": 35,
     "metadata": {},
     "output_type": "execute_result"
    }
   ],
   "source": [
    "all_services.monthly_charges.mean()"
   ]
  },
  {
   "cell_type": "code",
   "execution_count": 36,
   "id": "b36854fe",
   "metadata": {},
   "outputs": [
    {
     "data": {
      "text/plain": [
       "49.76816091954028"
      ]
     },
     "execution_count": 36,
     "metadata": {},
     "output_type": "execute_result"
    }
   ],
   "source": [
    "147.38 - all_services.monthly_charges.mean()"
   ]
  },
  {
   "cell_type": "code",
   "execution_count": 37,
   "id": "947e6dd7",
   "metadata": {},
   "outputs": [
    {
     "name": "stdout",
     "output_type": "stream",
     "text": [
      "Of customers who pay for phone, internet, and streaming services, 1212 customers have stayed with the company, and 528 customers have left the company.\n"
     ]
    }
   ],
   "source": [
    "churned_all_services = all_services.churn.value_counts()[1]\n",
    "non_churned_all_services = all_services.churn.value_counts()[0]\n",
    "print(f'Of customers who pay for phone, internet, and streaming services, {non_churned_all_services} customers have stayed with the company, and {churned_all_services} customers have left the company.')"
   ]
  },
  {
   "cell_type": "markdown",
   "id": "ba89001e",
   "metadata": {},
   "source": [
    "Reminder: accoring to Reviews.org, the average American pays a total of $$147.38 per month so our customers who pay for internet, phone, and streaming services are paying $97.61 per month, $49.77 less for the same services. "
   ]
  },
  {
   "cell_type": "markdown",
   "id": "7fd665a5",
   "metadata": {},
   "source": [
    "This leads me to believe that what we are charging for these services is not a contributing factor to churn, but lets look at some bivariate and multivariate analysis."
   ]
  },
  {
   "cell_type": "code",
   "execution_count": 38,
   "id": "2d49c77e",
   "metadata": {},
   "outputs": [
    {
     "data": {
      "text/plain": [
       "['customer_id',\n",
       " 'tenure',\n",
       " 'monthly_charges',\n",
       " 'total_charges',\n",
       " 'signup_date',\n",
       " 'time_with_telco']"
      ]
     },
     "execution_count": 38,
     "metadata": {},
     "output_type": "execute_result"
    }
   ],
   "source": [
    "num_cols"
   ]
  },
  {
   "cell_type": "code",
   "execution_count": 39,
   "id": "005a0ac7",
   "metadata": {},
   "outputs": [],
   "source": [
    "# for col in explore_cols:\n",
    "#     if col in cat_cols:\n",
    "#         if col != 'churn_month':\n",
    "#             print(f'Bivariate assessment of feature {col}:')\n",
    "#             sns.barplot(data = ct, x = col, y = 'churn')\n",
    "#             plt.show()\n",
    "      \n",
    "#     else:\n",
    "#         print(f'Bivariate feature analysis of feature {col}: ')\n",
    "#         sns.boxplot(data = ct, x = col, y = 'churn')\n",
    "#         plt.show()\n",
    "#     print('_____________________________________________________')\n",
    "#     print('_____________________________________________________')\n",
    "#     print()"
   ]
  },
  {
   "cell_type": "markdown",
   "id": "b360dc9f",
   "metadata": {},
   "source": [
    "- gender:\n",
    "    no siginificant difference in the churn rate between men and women\n",
    "- senior citizen**:\n",
    "    of senior citizens, more churn than not by about half\n",
    "- partner: more people who not partners churn vs those who are\n",
    "- dependents: more people who have dependents stay with the company than those with without\n",
    "- phone service: no notable differnence in the churn rate between those who have phone service and those who do not\n",
    "- multiple lines: no notable differnence in the churn rate between those who have multiple lines and those who do not\n",
    "- online security: notably more people who do not have online security churn than those who do\n",
    "- online backup: a little more of those without online backup churn\n",
    "- device protection: a little more of those without device protection churn \n",
    "- tech support: more people who do not have tech support churn than those who do not\n",
    "- streaming tv: more people who pay for tv streaming churn than those who do not**\n",
    "- streaming movies: more people who who pay to stream movies churn than those who do not**\n",
    "- paperless billing: moer people who use paperless billing churn than those who do not\n",
    "- contract type:\n",
    "     - far more people who are month to month churn\n",
    "- internet service type: \n",
    "    - far more people who have fiber optic churn \n",
    "- payment type: \n",
    "    - most people who churn pay by electronic check, but the distribution mirrirs that of the actual distribution"
   ]
  },
  {
   "cell_type": "code",
   "execution_count": 40,
   "id": "9b4a518e",
   "metadata": {},
   "outputs": [
    {
     "data": {
      "text/plain": [
       "1869"
      ]
     },
     "execution_count": 40,
     "metadata": {},
     "output_type": "execute_result"
    }
   ],
   "source": [
    "(ct.churn_month.isna().sum()) + ((ct.churn == 1).sum())\n",
    "# so the total of those who have a churn month equals those who we are tracking have churned\n",
    "# so all of the NaN values in the churn_month series we can conclude are still with \n",
    "# the company"
   ]
  },
  {
   "cell_type": "markdown",
   "id": "c1c915b9",
   "metadata": {},
   "source": [
    "Now that we have plotted our variables, lets ask our four questions:\n",
    "1. Is there a relationship between customers who are senior citizens those who are not?\n",
    "2. Is the mean total charges of those who pay for internet, phone, and streaming services more than those who do not?\n",
    "3. Do those who pay for internet, phone, and streaming services have greater tenures than those who do not?\n",
    "4. Is there a relationship between customers who have dependents and churn?"
   ]
  },
  {
   "cell_type": "code",
   "execution_count": 41,
   "id": "9b415bed",
   "metadata": {},
   "outputs": [],
   "source": [
    "# Lets do some hypothesis testing!"
   ]
  },
  {
   "cell_type": "markdown",
   "id": "c0bc16ef",
   "metadata": {},
   "source": [
    "Questions 1: Is there a relationship between having dependents and churning?\n",
    "\n",
    "Having dependents and churning are two categorical variables so we will conduct a Chi Squared test. "
   ]
  },
  {
   "cell_type": "code",
   "execution_count": 42,
   "id": "4171eadc",
   "metadata": {},
   "outputs": [
    {
     "data": {
      "text/html": [
       "<div>\n",
       "<style scoped>\n",
       "    .dataframe tbody tr th:only-of-type {\n",
       "        vertical-align: middle;\n",
       "    }\n",
       "\n",
       "    .dataframe tbody tr th {\n",
       "        vertical-align: top;\n",
       "    }\n",
       "\n",
       "    .dataframe thead th {\n",
       "        text-align: right;\n",
       "    }\n",
       "</style>\n",
       "<table border=\"1\" class=\"dataframe\">\n",
       "  <thead>\n",
       "    <tr style=\"text-align: right;\">\n",
       "      <th>churn</th>\n",
       "      <th>0</th>\n",
       "      <th>1</th>\n",
       "    </tr>\n",
       "    <tr>\n",
       "      <th>senior_citizen</th>\n",
       "      <th></th>\n",
       "      <th></th>\n",
       "    </tr>\n",
       "  </thead>\n",
       "  <tbody>\n",
       "    <tr>\n",
       "      <th>0</th>\n",
       "      <td>4508</td>\n",
       "      <td>1393</td>\n",
       "    </tr>\n",
       "    <tr>\n",
       "      <th>1</th>\n",
       "      <td>666</td>\n",
       "      <td>476</td>\n",
       "    </tr>\n",
       "  </tbody>\n",
       "</table>\n",
       "</div>"
      ],
      "text/plain": [
       "churn              0     1\n",
       "senior_citizen            \n",
       "0               4508  1393\n",
       "1                666   476"
      ]
     },
     "execution_count": 42,
     "metadata": {},
     "output_type": "execute_result"
    }
   ],
   "source": [
    "observed = pd.crosstab(ct['senior_citizen'], ct['churn'])\n",
    "observed"
   ]
  },
  {
   "cell_type": "markdown",
   "id": "fdd541fa",
   "metadata": {},
   "source": [
    "$H_0$: Churn and being a senior citizen are independent of each other.\n",
    "\n",
    "$H_A$: Churn and being a senior citizen are dependent pn each other."
   ]
  },
  {
   "cell_type": "code",
   "execution_count": 43,
   "id": "e39d17c8",
   "metadata": {},
   "outputs": [],
   "source": [
    "chi2, p, _, expected = stats.chi2_contingency(observed)"
   ]
  },
  {
   "cell_type": "code",
   "execution_count": 44,
   "id": "cb82c8a0",
   "metadata": {},
   "outputs": [],
   "source": [
    "# We will set our CLI at 95% so our alpha will be set at 5%\n",
    "α = 0.05"
   ]
  },
  {
   "cell_type": "code",
   "execution_count": 45,
   "id": "3a69b5d1",
   "metadata": {},
   "outputs": [
    {
     "name": "stdout",
     "output_type": "stream",
     "text": [
      "The p value (1.510066805092378e-36) is less than our alpha so we reject the null hypothesis, and we cannot with confidence conclude that churn and being a senior citizen are independent of eachother.\n"
     ]
    }
   ],
   "source": [
    "if p < α:\n",
    "    print(f'The p value ({p}) is less than our alpha so we reject the null hypothesis, and we cannot with confidence conclude that churn and being a senior citizen are independent of eachother.')\n",
    "else:\n",
    "    print(f'The p value ({p} is greater than or equal to the alpha, and therefore we fail to reject the null hypothesis and can say with confident that churn and being a senior citizen are independent variables.')"
   ]
  },
  {
   "cell_type": "markdown",
   "id": "870c6d9e",
   "metadata": {},
   "source": [
    "The p value is quite small so there we can conclude with confidcent that being a senior citizen is a strong indicator a customer will churn."
   ]
  },
  {
   "cell_type": "markdown",
   "id": "4089f1bb",
   "metadata": {},
   "source": [
    "Question 2: Is the mean total charges of those who pay for internet, phone, and streaming services more than those who do not?\n",
    "\n",
    "Wel will do a mean comparison of the total charges between two sample groups. We are looking to see if the mean for with services is greater than those without.\n",
    "\n",
    "Two samples, one tailed"
   ]
  },
  {
   "cell_type": "code",
   "execution_count": 46,
   "id": "e4b0185f",
   "metadata": {},
   "outputs": [
    {
     "data": {
      "text/html": [
       "<div>\n",
       "<style scoped>\n",
       "    .dataframe tbody tr th:only-of-type {\n",
       "        vertical-align: middle;\n",
       "    }\n",
       "\n",
       "    .dataframe tbody tr th {\n",
       "        vertical-align: top;\n",
       "    }\n",
       "\n",
       "    .dataframe thead th {\n",
       "        text-align: right;\n",
       "    }\n",
       "</style>\n",
       "<table border=\"1\" class=\"dataframe\">\n",
       "  <thead>\n",
       "    <tr style=\"text-align: right;\">\n",
       "      <th></th>\n",
       "      <th>internet_service_type</th>\n",
       "      <th>phone_service</th>\n",
       "      <th>streaming_tv</th>\n",
       "      <th>streaming_movies</th>\n",
       "      <th>churn</th>\n",
       "      <th>monthly_charges</th>\n",
       "      <th>tenure</th>\n",
       "      <th>total_charges</th>\n",
       "    </tr>\n",
       "  </thead>\n",
       "  <tbody>\n",
       "    <tr>\n",
       "      <th>3</th>\n",
       "      <td>Fiber optic</td>\n",
       "      <td>1</td>\n",
       "      <td>1</td>\n",
       "      <td>1</td>\n",
       "      <td>1</td>\n",
       "      <td>98.00</td>\n",
       "      <td>13</td>\n",
       "      <td>1237.85</td>\n",
       "    </tr>\n",
       "    <tr>\n",
       "      <th>5</th>\n",
       "      <td>DSL</td>\n",
       "      <td>1</td>\n",
       "      <td>1</td>\n",
       "      <td>1</td>\n",
       "      <td>0</td>\n",
       "      <td>69.40</td>\n",
       "      <td>9</td>\n",
       "      <td>571.45</td>\n",
       "    </tr>\n",
       "    <tr>\n",
       "      <th>6</th>\n",
       "      <td>Fiber optic</td>\n",
       "      <td>1</td>\n",
       "      <td>1</td>\n",
       "      <td>1</td>\n",
       "      <td>0</td>\n",
       "      <td>109.70</td>\n",
       "      <td>71</td>\n",
       "      <td>7904.25</td>\n",
       "    </tr>\n",
       "    <tr>\n",
       "      <th>9</th>\n",
       "      <td>DSL</td>\n",
       "      <td>1</td>\n",
       "      <td>1</td>\n",
       "      <td>1</td>\n",
       "      <td>0</td>\n",
       "      <td>90.45</td>\n",
       "      <td>65</td>\n",
       "      <td>5957.90</td>\n",
       "    </tr>\n",
       "    <tr>\n",
       "      <th>11</th>\n",
       "      <td>Fiber optic</td>\n",
       "      <td>1</td>\n",
       "      <td>1</td>\n",
       "      <td>1</td>\n",
       "      <td>0</td>\n",
       "      <td>116.80</td>\n",
       "      <td>72</td>\n",
       "      <td>8456.75</td>\n",
       "    </tr>\n",
       "    <tr>\n",
       "      <th>...</th>\n",
       "      <td>...</td>\n",
       "      <td>...</td>\n",
       "      <td>...</td>\n",
       "      <td>...</td>\n",
       "      <td>...</td>\n",
       "      <td>...</td>\n",
       "      <td>...</td>\n",
       "      <td>...</td>\n",
       "    </tr>\n",
       "    <tr>\n",
       "      <th>7019</th>\n",
       "      <td>Fiber optic</td>\n",
       "      <td>1</td>\n",
       "      <td>1</td>\n",
       "      <td>1</td>\n",
       "      <td>0</td>\n",
       "      <td>106.70</td>\n",
       "      <td>71</td>\n",
       "      <td>7382.25</td>\n",
       "    </tr>\n",
       "    <tr>\n",
       "      <th>7020</th>\n",
       "      <td>Fiber optic</td>\n",
       "      <td>1</td>\n",
       "      <td>1</td>\n",
       "      <td>1</td>\n",
       "      <td>1</td>\n",
       "      <td>96.80</td>\n",
       "      <td>21</td>\n",
       "      <td>2030.30</td>\n",
       "    </tr>\n",
       "    <tr>\n",
       "      <th>7027</th>\n",
       "      <td>Fiber optic</td>\n",
       "      <td>1</td>\n",
       "      <td>1</td>\n",
       "      <td>1</td>\n",
       "      <td>0</td>\n",
       "      <td>108.90</td>\n",
       "      <td>34</td>\n",
       "      <td>3625.20</td>\n",
       "    </tr>\n",
       "    <tr>\n",
       "      <th>7031</th>\n",
       "      <td>Fiber optic</td>\n",
       "      <td>1</td>\n",
       "      <td>1</td>\n",
       "      <td>1</td>\n",
       "      <td>0</td>\n",
       "      <td>99.15</td>\n",
       "      <td>64</td>\n",
       "      <td>6171.20</td>\n",
       "    </tr>\n",
       "    <tr>\n",
       "      <th>7035</th>\n",
       "      <td>Fiber optic</td>\n",
       "      <td>1</td>\n",
       "      <td>1</td>\n",
       "      <td>1</td>\n",
       "      <td>0</td>\n",
       "      <td>94.05</td>\n",
       "      <td>7</td>\n",
       "      <td>633.45</td>\n",
       "    </tr>\n",
       "  </tbody>\n",
       "</table>\n",
       "<p>1740 rows × 8 columns</p>\n",
       "</div>"
      ],
      "text/plain": [
       "     internet_service_type  phone_service  streaming_tv  streaming_movies  \\\n",
       "3              Fiber optic              1             1                 1   \n",
       "5                      DSL              1             1                 1   \n",
       "6              Fiber optic              1             1                 1   \n",
       "9                      DSL              1             1                 1   \n",
       "11             Fiber optic              1             1                 1   \n",
       "...                    ...            ...           ...               ...   \n",
       "7019           Fiber optic              1             1                 1   \n",
       "7020           Fiber optic              1             1                 1   \n",
       "7027           Fiber optic              1             1                 1   \n",
       "7031           Fiber optic              1             1                 1   \n",
       "7035           Fiber optic              1             1                 1   \n",
       "\n",
       "      churn  monthly_charges  tenure  total_charges  \n",
       "3         1            98.00      13        1237.85  \n",
       "5         0            69.40       9         571.45  \n",
       "6         0           109.70      71        7904.25  \n",
       "9         0            90.45      65        5957.90  \n",
       "11        0           116.80      72        8456.75  \n",
       "...     ...              ...     ...            ...  \n",
       "7019      0           106.70      71        7382.25  \n",
       "7020      1            96.80      21        2030.30  \n",
       "7027      0           108.90      34        3625.20  \n",
       "7031      0            99.15      64        6171.20  \n",
       "7035      0            94.05       7         633.45  \n",
       "\n",
       "[1740 rows x 8 columns]"
      ]
     },
     "execution_count": 46,
     "metadata": {},
     "output_type": "execute_result"
    }
   ],
   "source": [
    "all_services = filtered_ct[(filtered_ct['phone_service'] == 1) & ((filtered_ct['internet_service_type'] == 'DSL') | (filtered_ct['internet_service_type'] == 'Fiber optic')) & (filtered_ct['streaming_tv'] == 1) & (filtered_ct['streaming_movies'] == 1)]\n",
    "all_services"
   ]
  },
  {
   "cell_type": "markdown",
   "id": "77bb8785",
   "metadata": {},
   "source": [
    "okay so there are no customers who do not pay for any of the services. To zoom in more, lets just look at streaming services. "
   ]
  },
  {
   "cell_type": "code",
   "execution_count": 47,
   "id": "6b40d5bf",
   "metadata": {},
   "outputs": [],
   "source": [
    "not_all_services = filtered_ct[~((filtered_ct['phone_service'] == 1) & ((filtered_ct['internet_service_type'] == 'DSL') | (filtered_ct['internet_service_type'] == 'Fiber optic')) & (filtered_ct['streaming_tv'] == 1) & (filtered_ct['streaming_movies'] == 1))]\n",
    "all_services = filtered_ct[(filtered_ct['phone_service'] == 1) & ((filtered_ct['internet_service_type'] == 'DSL') | (filtered_ct['internet_service_type'] == 'Fiber optic')) & (filtered_ct['streaming_tv'] == 1) & (filtered_ct['streaming_movies'] == 1)]"
   ]
  },
  {
   "cell_type": "code",
   "execution_count": 48,
   "id": "bb05ff34",
   "metadata": {},
   "outputs": [
    {
     "data": {
      "text/html": [
       "<div>\n",
       "<style scoped>\n",
       "    .dataframe tbody tr th:only-of-type {\n",
       "        vertical-align: middle;\n",
       "    }\n",
       "\n",
       "    .dataframe tbody tr th {\n",
       "        vertical-align: top;\n",
       "    }\n",
       "\n",
       "    .dataframe thead th {\n",
       "        text-align: right;\n",
       "    }\n",
       "</style>\n",
       "<table border=\"1\" class=\"dataframe\">\n",
       "  <thead>\n",
       "    <tr style=\"text-align: right;\">\n",
       "      <th></th>\n",
       "      <th>internet_service_type</th>\n",
       "      <th>phone_service</th>\n",
       "      <th>streaming_tv</th>\n",
       "      <th>streaming_movies</th>\n",
       "      <th>churn</th>\n",
       "      <th>monthly_charges</th>\n",
       "      <th>tenure</th>\n",
       "      <th>total_charges</th>\n",
       "    </tr>\n",
       "  </thead>\n",
       "  <tbody>\n",
       "    <tr>\n",
       "      <th>0</th>\n",
       "      <td>DSL</td>\n",
       "      <td>1</td>\n",
       "      <td>1</td>\n",
       "      <td>0</td>\n",
       "      <td>0</td>\n",
       "      <td>65.60</td>\n",
       "      <td>9</td>\n",
       "      <td>593.30</td>\n",
       "    </tr>\n",
       "    <tr>\n",
       "      <th>1</th>\n",
       "      <td>DSL</td>\n",
       "      <td>1</td>\n",
       "      <td>0</td>\n",
       "      <td>1</td>\n",
       "      <td>0</td>\n",
       "      <td>59.90</td>\n",
       "      <td>9</td>\n",
       "      <td>542.40</td>\n",
       "    </tr>\n",
       "    <tr>\n",
       "      <th>2</th>\n",
       "      <td>Fiber optic</td>\n",
       "      <td>1</td>\n",
       "      <td>0</td>\n",
       "      <td>0</td>\n",
       "      <td>1</td>\n",
       "      <td>73.90</td>\n",
       "      <td>4</td>\n",
       "      <td>280.85</td>\n",
       "    </tr>\n",
       "    <tr>\n",
       "      <th>4</th>\n",
       "      <td>Fiber optic</td>\n",
       "      <td>1</td>\n",
       "      <td>1</td>\n",
       "      <td>0</td>\n",
       "      <td>1</td>\n",
       "      <td>83.90</td>\n",
       "      <td>3</td>\n",
       "      <td>267.40</td>\n",
       "    </tr>\n",
       "    <tr>\n",
       "      <th>7</th>\n",
       "      <td>Fiber optic</td>\n",
       "      <td>1</td>\n",
       "      <td>0</td>\n",
       "      <td>0</td>\n",
       "      <td>0</td>\n",
       "      <td>84.65</td>\n",
       "      <td>63</td>\n",
       "      <td>5377.80</td>\n",
       "    </tr>\n",
       "    <tr>\n",
       "      <th>...</th>\n",
       "      <td>...</td>\n",
       "      <td>...</td>\n",
       "      <td>...</td>\n",
       "      <td>...</td>\n",
       "      <td>...</td>\n",
       "      <td>...</td>\n",
       "      <td>...</td>\n",
       "      <td>...</td>\n",
       "    </tr>\n",
       "    <tr>\n",
       "      <th>7038</th>\n",
       "      <td>DSL</td>\n",
       "      <td>1</td>\n",
       "      <td>0</td>\n",
       "      <td>0</td>\n",
       "      <td>0</td>\n",
       "      <td>55.15</td>\n",
       "      <td>13</td>\n",
       "      <td>742.90</td>\n",
       "    </tr>\n",
       "    <tr>\n",
       "      <th>7039</th>\n",
       "      <td>Fiber optic</td>\n",
       "      <td>1</td>\n",
       "      <td>0</td>\n",
       "      <td>1</td>\n",
       "      <td>1</td>\n",
       "      <td>85.10</td>\n",
       "      <td>22</td>\n",
       "      <td>1873.70</td>\n",
       "    </tr>\n",
       "    <tr>\n",
       "      <th>7040</th>\n",
       "      <td>DSL</td>\n",
       "      <td>1</td>\n",
       "      <td>0</td>\n",
       "      <td>0</td>\n",
       "      <td>0</td>\n",
       "      <td>50.30</td>\n",
       "      <td>2</td>\n",
       "      <td>92.75</td>\n",
       "    </tr>\n",
       "    <tr>\n",
       "      <th>7041</th>\n",
       "      <td>DSL</td>\n",
       "      <td>1</td>\n",
       "      <td>0</td>\n",
       "      <td>1</td>\n",
       "      <td>0</td>\n",
       "      <td>67.85</td>\n",
       "      <td>67</td>\n",
       "      <td>4627.65</td>\n",
       "    </tr>\n",
       "    <tr>\n",
       "      <th>7042</th>\n",
       "      <td>DSL</td>\n",
       "      <td>0</td>\n",
       "      <td>1</td>\n",
       "      <td>1</td>\n",
       "      <td>0</td>\n",
       "      <td>59.00</td>\n",
       "      <td>63</td>\n",
       "      <td>3707.60</td>\n",
       "    </tr>\n",
       "  </tbody>\n",
       "</table>\n",
       "<p>5303 rows × 8 columns</p>\n",
       "</div>"
      ],
      "text/plain": [
       "     internet_service_type  phone_service  streaming_tv  streaming_movies  \\\n",
       "0                      DSL              1             1                 0   \n",
       "1                      DSL              1             0                 1   \n",
       "2              Fiber optic              1             0                 0   \n",
       "4              Fiber optic              1             1                 0   \n",
       "7              Fiber optic              1             0                 0   \n",
       "...                    ...            ...           ...               ...   \n",
       "7038                   DSL              1             0                 0   \n",
       "7039           Fiber optic              1             0                 1   \n",
       "7040                   DSL              1             0                 0   \n",
       "7041                   DSL              1             0                 1   \n",
       "7042                   DSL              0             1                 1   \n",
       "\n",
       "      churn  monthly_charges  tenure  total_charges  \n",
       "0         0            65.60       9         593.30  \n",
       "1         0            59.90       9         542.40  \n",
       "2         1            73.90       4         280.85  \n",
       "4         1            83.90       3         267.40  \n",
       "7         0            84.65      63        5377.80  \n",
       "...     ...              ...     ...            ...  \n",
       "7038      0            55.15      13         742.90  \n",
       "7039      1            85.10      22        1873.70  \n",
       "7040      0            50.30       2          92.75  \n",
       "7041      0            67.85      67        4627.65  \n",
       "7042      0            59.00      63        3707.60  \n",
       "\n",
       "[5303 rows x 8 columns]"
      ]
     },
     "execution_count": 48,
     "metadata": {},
     "output_type": "execute_result"
    }
   ],
   "source": [
    "filtered_ct[~((filtered_ct['phone_service'] == 1) & ((filtered_ct['internet_service_type'] == 'DSL') | (filtered_ct['internet_service_type'] == 'Fiber optic')) & (filtered_ct['streaming_tv'] == 1) & (filtered_ct['streaming_movies'] == 1))]"
   ]
  },
  {
   "cell_type": "code",
   "execution_count": 49,
   "id": "803caf02",
   "metadata": {},
   "outputs": [],
   "source": [
    "not_all_charges = not_all_services.total_charges \n",
    "all_charges = all_services.total_charges"
   ]
  },
  {
   "cell_type": "markdown",
   "id": "7e468490",
   "metadata": {},
   "source": [
    "$H_O$: The mean of total charges of those who pay for all services is less or equal to the mean of total charges of those who do not. \n",
    "\n",
    "$H_A$: The mean of total charges of those who pay for all services is greater than the mean of total charges of those who do not. "
   ]
  },
  {
   "cell_type": "code",
   "execution_count": 50,
   "id": "8eedfca2",
   "metadata": {},
   "outputs": [],
   "source": [
    "# Lets check for variance!"
   ]
  },
  {
   "cell_type": "code",
   "execution_count": 51,
   "id": "3a674ead",
   "metadata": {},
   "outputs": [
    {
     "data": {
      "image/png": "[encoded data removed]",
      "text/plain": [
       "<Figure size 640x480 with 1 Axes>"
      ]
     },
     "metadata": {},
     "output_type": "display_data"
    }
   ],
   "source": [
    "plt.hist(all_charges)\n",
    "plt.title('Histogram of Total Charges for Customers with Phone, Internet, and Streaming Services')\n",
    "plt.xlabel('Bins of Total Charges')\n",
    "plt.ylabel('Count of Customers')\n",
    "plt.show()"
   ]
  },
  {
   "cell_type": "code",
   "execution_count": 52,
   "id": "0f0f8003",
   "metadata": {},
   "outputs": [
    {
     "data": {
      "image/png": "[encoded data removed]",
      "text/plain": [
       "<Figure size 640x480 with 1 Axes>"
      ]
     },
     "metadata": {},
     "output_type": "display_data"
    }
   ],
   "source": [
    "plt.hist(not_all_charges)\n",
    "plt.title('Histogram of Total Charges for Customers without one or more Services')\n",
    "plt.xlabel('Bins of Total Charges')\n",
    "plt.ylabel('Count of Customers')\n",
    "plt.show()"
   ]
  },
  {
   "cell_type": "markdown",
   "id": "6a1818cf",
   "metadata": {},
   "source": [
    "$H_O$: Total charges for both samples have equal variance.\n",
    "\n",
    "$H_A$: Total charges for both samples do NOT have equal variance."
   ]
  },
  {
   "cell_type": "code",
   "execution_count": 53,
   "id": "d8dfa3e4",
   "metadata": {},
   "outputs": [],
   "source": [
    "t_stat, p_val = stats.levene(not_all_charges, all_charges)"
   ]
  },
  {
   "cell_type": "code",
   "execution_count": 54,
   "id": "9f1d0953",
   "metadata": {},
   "outputs": [
    {
     "name": "stdout",
     "output_type": "stream",
     "text": [
      "With a p value of 2.754935227098051e-124, we must reject the null hypothesis; we cannot presume that these samples have equal variance.\n"
     ]
    }
   ],
   "source": [
    "if p_val < α:\n",
    "    print(f'With a p value of {p_val}, we must reject the null hypothesis; we cannot presume that these samples have equal variance.')\n",
    "else:\n",
    "        print(f'With a p value of {p_val}, we fail to reject the null hypothesis; we can presume that these samples have equal variance.')"
   ]
  },
  {
   "cell_type": "markdown",
   "id": "a1e42fce",
   "metadata": {},
   "source": [
    "The two samples have inequal variance and therefore we cannot conduct the means comaprison. "
   ]
  },
  {
   "cell_type": "markdown",
   "id": "b15cf62a",
   "metadata": {},
   "source": [
    "Question 3: Do those who pay for internet, phone, and streaming services have greater tenures than those who do not?\n",
    "\n",
    "Two independent samples, mean comparison testing, one tailed"
   ]
  },
  {
   "cell_type": "code",
   "execution_count": 55,
   "id": "658ade45",
   "metadata": {},
   "outputs": [],
   "source": [
    "not_all_tenure = not_all_services.tenure\n",
    "all_tenure = all_services.tenure"
   ]
  },
  {
   "cell_type": "markdown",
   "id": "dad3588d",
   "metadata": {},
   "source": [
    "Lets set out hypotheses:\n",
    "\n",
    "$H_O$: The mean of tenure of those who pay for all services is more than or equal to the mean of total charges of those who do not. \n",
    "\n",
    "$H_A$: The mean of total charges of those who pay for all services is less than the mean of total charges of those who do not. "
   ]
  },
  {
   "cell_type": "markdown",
   "id": "64de0c24",
   "metadata": {},
   "source": [
    "Lets check for variance!\n",
    "\n",
    "$H_O$: Tenure for both samples have equal variance.\n",
    "\n",
    "$H_A$: Tenure for both samples do NOT have equal variance."
   ]
  },
  {
   "cell_type": "code",
   "execution_count": 56,
   "id": "214be9b4",
   "metadata": {},
   "outputs": [],
   "source": [
    "t_stat, p_val = stats.levene(not_all_tenure, all_tenure)"
   ]
  },
  {
   "cell_type": "code",
   "execution_count": 57,
   "id": "38d03449",
   "metadata": {},
   "outputs": [
    {
     "name": "stdout",
     "output_type": "stream",
     "text": [
      "With a p value of 0.20602411457054742, we fail to reject the null hypothesis; we can presume that these samples have equal variance.\n"
     ]
    }
   ],
   "source": [
    "if p_val < α:\n",
    "    print(f'With a p value of {p_val}, we must reject the null hypothesis; we cannot presume that these samples have equal variance.')\n",
    "else:\n",
    "    print(f'With a p value of {p_val}, we fail to reject the null hypothesis; we can presume that these samples have equal variance.')"
   ]
  },
  {
   "cell_type": "markdown",
   "id": "c1b9387f",
   "metadata": {},
   "source": [
    "Great so our samples have equal variance and now we can move on to our testing."
   ]
  },
  {
   "cell_type": "code",
   "execution_count": 58,
   "id": "39b69378",
   "metadata": {},
   "outputs": [],
   "source": [
    "t_stat, p = stats.ttest_ind(not_all_tenure, all_tenure, equal_var=True)"
   ]
  },
  {
   "cell_type": "code",
   "execution_count": 59,
   "id": "1a8f3950",
   "metadata": {},
   "outputs": [
    {
     "name": "stdout",
     "output_type": "stream",
     "text": [
      "With a p value of 4.946213374299674e-137 and a t_statistic of -25.476763548310927 which is less than 0, we must reject the null hypothesis; we cannot presume that the tenure of those who pay for all services is greater than or equal the tenure of those who do not pay for all services.\n"
     ]
    }
   ],
   "source": [
    "if (p / 2 < α) and (t_stat < 0):\n",
    "    print(f'With a p value of {p} and a t_statistic of {t_stat} which is less than 0, we must reject the null hypothesis; we cannot presume that the tenure of those who pay for all services is greater than or equal the tenure of those who do not pay for all services.')\n",
    "else:\n",
    "    print(f'With a p value of {p_val}, we fail to reject the null hypothesis; we can presume that these samples have equal variance.')"
   ]
  },
  {
   "cell_type": "markdown",
   "id": "68de8bae",
   "metadata": {},
   "source": [
    "Conclusion: we can presume that the tenure of those who pay for all services is lower than those do not, so those with all services tend to stay with the company for less time than those who do not pay for all services. "
   ]
  },
  {
   "cell_type": "code",
   "execution_count": 60,
   "id": "1b3f201c",
   "metadata": {},
   "outputs": [
    {
     "data": {
      "text/plain": [
       "Fiber optic    3096\n",
       "DSL            2421\n",
       "None           1526\n",
       "Name: internet_service_type, dtype: int64"
      ]
     },
     "execution_count": 60,
     "metadata": {},
     "output_type": "execute_result"
    }
   ],
   "source": [
    "ct.internet_service_type.value_counts()"
   ]
  },
  {
   "cell_type": "code",
   "execution_count": 61,
   "id": "094d3e47",
   "metadata": {},
   "outputs": [
    {
     "name": "stdout",
     "output_type": "stream",
     "text": [
      "459\n"
     ]
    },
    {
     "data": {
      "text/plain": [
       "2421"
      ]
     },
     "execution_count": 61,
     "metadata": {},
     "output_type": "execute_result"
    }
   ],
   "source": [
    "print(len(ct[(ct.internet_service_type == 'DSL') & (ct.churn == 1)]))\n",
    "len(ct[ct.internet_service_type == 'DSL'])\n",
    "# So of those with DSL, 459 out of 2421 churned"
   ]
  },
  {
   "cell_type": "code",
   "execution_count": 62,
   "id": "e76fea4a",
   "metadata": {},
   "outputs": [
    {
     "name": "stdout",
     "output_type": "stream",
     "text": [
      "1297\n"
     ]
    },
    {
     "data": {
      "text/plain": [
       "3096"
      ]
     },
     "execution_count": 62,
     "metadata": {},
     "output_type": "execute_result"
    }
   ],
   "source": [
    "print(len(ct[(ct.internet_service_type == 'Fiber optic') & (ct.churn == 1)]))\n",
    "len(ct[ct.internet_service_type == 'Fiber optic'])\n",
    "# And of those with Fiber Optic, 1297 out of 3096 churned"
   ]
  },
  {
   "cell_type": "code",
   "execution_count": 63,
   "id": "14d769c0",
   "metadata": {},
   "outputs": [
    {
     "name": "stdout",
     "output_type": "stream",
     "text": [
      "814\n"
     ]
    },
    {
     "data": {
      "text/plain": [
       "1869"
      ]
     },
     "execution_count": 63,
     "metadata": {},
     "output_type": "execute_result"
    }
   ],
   "source": [
    "print(len(ct[(ct.streaming_tv == 1) & (ct.churn == 1)]))\n",
    "len(ct[ct.churn == 1])"
   ]
  },
  {
   "cell_type": "code",
   "execution_count": 64,
   "id": "b16413c4",
   "metadata": {},
   "outputs": [
    {
     "name": "stdout",
     "output_type": "stream",
     "text": [
      "818\n"
     ]
    },
    {
     "data": {
      "text/plain": [
       "1869"
      ]
     },
     "execution_count": 64,
     "metadata": {},
     "output_type": "execute_result"
    }
   ],
   "source": [
    "print(len(ct[(ct.streaming_movies == 1) & (ct.churn == 1)]))\n",
    "len(ct[ct.churn == 1])"
   ]
  },
  {
   "cell_type": "markdown",
   "id": "40f1c75f",
   "metadata": {},
   "source": [
    "Question 4: Is there a relationship between customers who have dependents and churn?"
   ]
  },
  {
   "cell_type": "markdown",
   "id": "d3c91747",
   "metadata": {},
   "source": [
    "Two categorical samples, so we will conduct a chi squared test"
   ]
  },
  {
   "cell_type": "code",
   "execution_count": 65,
   "id": "e42d59e5",
   "metadata": {},
   "outputs": [],
   "source": [
    "ct_dependents = ct[['dependents', 'churn']]"
   ]
  },
  {
   "cell_type": "code",
   "execution_count": 66,
   "id": "9910202e",
   "metadata": {},
   "outputs": [
    {
     "data": {
      "image/png": "[encoded data removed]",
      "text/plain": [
       "<Figure size 640x480 with 1 Axes>"
      ]
     },
     "metadata": {},
     "output_type": "display_data"
    }
   ],
   "source": [
    "sns.barplot(data=ct_dependents, x='dependents', y='churn')\n",
    "plt.title('Churn Rates of Customers with Dependents vs Without Dependents')\n",
    "plt.xlabel('With Dependents')\n",
    "plt.ylabel('Rate of Churn')\n",
    "plt.show()"
   ]
  },
  {
   "cell_type": "code",
   "execution_count": null,
   "id": "962adf91",
   "metadata": {},
   "outputs": [],
   "source": []
  },
  {
   "cell_type": "code",
   "execution_count": 67,
   "id": "96ec6aea",
   "metadata": {},
   "outputs": [
    {
     "data": {
      "text/html": [
       "<div>\n",
       "<style scoped>\n",
       "    .dataframe tbody tr th:only-of-type {\n",
       "        vertical-align: middle;\n",
       "    }\n",
       "\n",
       "    .dataframe tbody tr th {\n",
       "        vertical-align: top;\n",
       "    }\n",
       "\n",
       "    .dataframe thead th {\n",
       "        text-align: right;\n",
       "    }\n",
       "</style>\n",
       "<table border=\"1\" class=\"dataframe\">\n",
       "  <thead>\n",
       "    <tr style=\"text-align: right;\">\n",
       "      <th>churn</th>\n",
       "      <th>0</th>\n",
       "      <th>1</th>\n",
       "    </tr>\n",
       "    <tr>\n",
       "      <th>dependents</th>\n",
       "      <th></th>\n",
       "      <th></th>\n",
       "    </tr>\n",
       "  </thead>\n",
       "  <tbody>\n",
       "    <tr>\n",
       "      <th>0</th>\n",
       "      <td>3390</td>\n",
       "      <td>1543</td>\n",
       "    </tr>\n",
       "    <tr>\n",
       "      <th>1</th>\n",
       "      <td>1784</td>\n",
       "      <td>326</td>\n",
       "    </tr>\n",
       "  </tbody>\n",
       "</table>\n",
       "</div>"
      ],
      "text/plain": [
       "churn          0     1\n",
       "dependents            \n",
       "0           3390  1543\n",
       "1           1784   326"
      ]
     },
     "execution_count": 67,
     "metadata": {},
     "output_type": "execute_result"
    }
   ],
   "source": [
    "observed = pd.crosstab(ct.dependents, ct.churn)\n",
    "observed"
   ]
  },
  {
   "cell_type": "markdown",
   "id": "cc997b23",
   "metadata": {},
   "source": [
    "$H_O$: The variables with dependents and churn are independent of each other. \n",
    "\n",
    "$H_A$: The variables with dependents and churn are dependent upon each other. "
   ]
  },
  {
   "cell_type": "code",
   "execution_count": 68,
   "id": "101dce28",
   "metadata": {},
   "outputs": [],
   "source": [
    "chi2, p, _, expected = stats.chi2_contingency(observed)"
   ]
  },
  {
   "cell_type": "code",
   "execution_count": 69,
   "id": "bdbd9ede",
   "metadata": {},
   "outputs": [
    {
     "name": "stdout",
     "output_type": "stream",
     "text": [
      "The p value (4.9249216612154196e-43) is less than our alpha so we reject the null hypothesis, and we cannot with confidence conclude that churn and having dependents are independent of eachother.\n"
     ]
    }
   ],
   "source": [
    "if p < α:\n",
    "    print(f'The p value ({p}) is less than our alpha so we reject the null hypothesis, and we cannot with confidence conclude that churn and having dependents are independent of eachother.')\n",
    "else:\n",
    "    print(f'The p value ({p} is greater than or equal to the alpha, and therefore we fail to reject the null hypothesis and can say with confident that churn and having dependents are independent variables.')"
   ]
  },
  {
   "cell_type": "markdown",
   "id": "66ffad2f",
   "metadata": {},
   "source": [
    "Conclusion: So we can presume that having dependents is indicative whether or not a customer will churn. It seems like if a customer has dependents, they are more likely to NOT churn. "
   ]
  },
  {
   "cell_type": "markdown",
   "id": "77341d79",
   "metadata": {},
   "source": [
    "# MODELING"
   ]
  },
  {
   "cell_type": "code",
   "execution_count": 70,
   "id": "c19e88a9",
   "metadata": {},
   "outputs": [
    {
     "name": "stdout",
     "output_type": "stream",
     "text": [
      "<class 'pandas.core.frame.DataFrame'>\n",
      "Int64Index: 7043 entries, 0 to 7042\n",
      "Data columns (total 25 columns):\n",
      " #   Column                                Non-Null Count  Dtype  \n",
      "---  ------                                --------------  -----  \n",
      " 0   customer_id                           7043 non-null   object \n",
      " 1   senior_citizen                        7043 non-null   int64  \n",
      " 2   partner                               7043 non-null   int64  \n",
      " 3   dependents                            7043 non-null   int64  \n",
      " 4   tenure                                7043 non-null   int64  \n",
      " 5   phone_service                         7043 non-null   int64  \n",
      " 6   multiple_lines                        7043 non-null   int64  \n",
      " 7   online_security                       7043 non-null   int64  \n",
      " 8   online_backup                         7043 non-null   int64  \n",
      " 9   device_protection                     7043 non-null   int64  \n",
      " 10  tech_support                          7043 non-null   int64  \n",
      " 11  streaming_tv                          7043 non-null   int64  \n",
      " 12  streaming_movies                      7043 non-null   int64  \n",
      " 13  paperless_billing                     7043 non-null   int64  \n",
      " 14  monthly_charges                       7043 non-null   float64\n",
      " 15  total_charges                         7043 non-null   float64\n",
      " 16  churn                                 7043 non-null   int64  \n",
      " 17  gender_Male                           7043 non-null   uint8  \n",
      " 18  contract_type_One year                7043 non-null   uint8  \n",
      " 19  contract_type_Two year                7043 non-null   uint8  \n",
      " 20  internet_service_type_Fiber optic     7043 non-null   uint8  \n",
      " 21  internet_service_type_None            7043 non-null   uint8  \n",
      " 22  payment_type_Credit card (automatic)  7043 non-null   uint8  \n",
      " 23  payment_type_Electronic check         7043 non-null   uint8  \n",
      " 24  payment_type_Mailed check             7043 non-null   uint8  \n",
      "dtypes: float64(2), int64(14), object(1), uint8(8)\n",
      "memory usage: 1.0+ MB\n"
     ]
    }
   ],
   "source": [
    "modeling_ct = ct.drop(columns=(['signup_date', 'time_with_telco', 'gender', 'contract_type', 'internet_service_type', 'payment_type', 'churn_month']))\n",
    "modeling_ct.info()"
   ]
  },
  {
   "cell_type": "markdown",
   "id": "bcbc7829",
   "metadata": {},
   "source": [
    "### Baseline"
   ]
  },
  {
   "cell_type": "markdown",
   "id": "d212e2ab",
   "metadata": {},
   "source": [
    "Im going to create my baseline model now, so Im going to see which of the outcomes for churn is the mode and then use that as my baseline outcome."
   ]
  },
  {
   "cell_type": "code",
   "execution_count": 71,
   "id": "29dec2bf",
   "metadata": {},
   "outputs": [
    {
     "data": {
      "text/plain": [
       "Index(['customer_id', 'senior_citizen', 'partner', 'dependents', 'tenure',\n",
       "       'phone_service', 'multiple_lines', 'online_security', 'online_backup',\n",
       "       'device_protection', 'tech_support', 'streaming_tv', 'streaming_movies',\n",
       "       'paperless_billing', 'monthly_charges', 'total_charges', 'churn',\n",
       "       'gender_Male', 'contract_type_One year', 'contract_type_Two year',\n",
       "       'internet_service_type_Fiber optic', 'internet_service_type_None',\n",
       "       'payment_type_Credit card (automatic)', 'payment_type_Electronic check',\n",
       "       'payment_type_Mailed check'],\n",
       "      dtype='object')"
      ]
     },
     "execution_count": 71,
     "metadata": {},
     "output_type": "execute_result"
    }
   ],
   "source": [
    "modeling_ct.columns"
   ]
  },
  {
   "cell_type": "code",
   "execution_count": 72,
   "id": "fbd307d0",
   "metadata": {},
   "outputs": [
    {
     "data": {
      "text/plain": [
       "0    5174\n",
       "1    1869\n",
       "Name: churn, dtype: int64"
      ]
     },
     "execution_count": 72,
     "metadata": {},
     "output_type": "execute_result"
    }
   ],
   "source": [
    "modeling_ct.churn.value_counts()\n",
    "# Looks like staying with the company is the mode, baseline = 0"
   ]
  },
  {
   "cell_type": "code",
   "execution_count": 73,
   "id": "44239658",
   "metadata": {},
   "outputs": [],
   "source": [
    "modeling_ct['baseline'] = 0"
   ]
  },
  {
   "cell_type": "markdown",
   "id": "e935ce5d",
   "metadata": {},
   "source": [
    "I will call my split_data function from my prepare.py file as we are gearing up to start modeling."
   ]
  },
  {
   "cell_type": "code",
   "execution_count": 74,
   "id": "b5a5e859",
   "metadata": {},
   "outputs": [
    {
     "name": "stdout",
     "output_type": "stream",
     "text": [
      "(7043, 26)\n",
      "(5634, 26)\n",
      "(1409, 26)\n"
     ]
    }
   ],
   "source": [
    "train, test, validate = prepare.split_data(modeling_ct, 'churn')"
   ]
  },
  {
   "cell_type": "code",
   "execution_count": 75,
   "id": "2952fbc7",
   "metadata": {},
   "outputs": [],
   "source": [
    "from sklearn.metrics import accuracy_score"
   ]
  },
  {
   "cell_type": "code",
   "execution_count": 76,
   "id": "fd311258",
   "metadata": {},
   "outputs": [
    {
     "data": {
      "text/plain": [
       "0.7346301292063041"
      ]
     },
     "execution_count": 76,
     "metadata": {},
     "output_type": "execute_result"
    }
   ],
   "source": [
    "baseline_accuracy = accuracy_score(modeling_ct.churn, modeling_ct.baseline)\n",
    "baseline_accuracy"
   ]
  },
  {
   "cell_type": "code",
   "execution_count": 77,
   "id": "96fede47",
   "metadata": {},
   "outputs": [],
   "source": [
    "# now we will make variables that will spearate our features from our target on our\n",
    "# datasets"
   ]
  },
  {
   "cell_type": "code",
   "execution_count": 78,
   "id": "12fa921d",
   "metadata": {},
   "outputs": [],
   "source": [
    "# sns.pairplot(train, hue='churn', corner=True)\n",
    "# plt.show()"
   ]
  },
  {
   "cell_type": "code",
   "execution_count": 79,
   "id": "74ba62f0",
   "metadata": {},
   "outputs": [],
   "source": [
    "X_cols = train.columns.to_list()\n",
    "y_cols = 'churn'"
   ]
  },
  {
   "cell_type": "code",
   "execution_count": 80,
   "id": "4cc0f502",
   "metadata": {},
   "outputs": [],
   "source": [
    "# Then we will take the target column out of the features list\n",
    "X_cols.remove('churn')\n",
    "X_cols.remove('customer_id')"
   ]
  },
  {
   "cell_type": "code",
   "execution_count": 81,
   "id": "5cca8de0",
   "metadata": {},
   "outputs": [
    {
     "data": {
      "text/plain": [
       "['senior_citizen',\n",
       " 'partner',\n",
       " 'dependents',\n",
       " 'tenure',\n",
       " 'phone_service',\n",
       " 'multiple_lines',\n",
       " 'online_security',\n",
       " 'online_backup',\n",
       " 'device_protection',\n",
       " 'tech_support',\n",
       " 'streaming_tv',\n",
       " 'streaming_movies',\n",
       " 'paperless_billing',\n",
       " 'monthly_charges',\n",
       " 'total_charges',\n",
       " 'gender_Male',\n",
       " 'contract_type_One year',\n",
       " 'contract_type_Two year',\n",
       " 'internet_service_type_Fiber optic',\n",
       " 'internet_service_type_None',\n",
       " 'payment_type_Credit card (automatic)',\n",
       " 'payment_type_Electronic check',\n",
       " 'payment_type_Mailed check',\n",
       " 'baseline']"
      ]
     },
     "execution_count": 81,
     "metadata": {},
     "output_type": "execute_result"
    }
   ],
   "source": [
    "X_cols"
   ]
  },
  {
   "cell_type": "code",
   "execution_count": 82,
   "id": "578d4fb2",
   "metadata": {},
   "outputs": [],
   "source": [
    "# now lets sparse our datasets with the correct columns\n",
    "\n",
    "X_train = train[X_cols]\n",
    "y_train = train[y_cols]\n",
    "X_val = validate[X_cols]\n",
    "y_val = validate[y_cols]\n",
    "X_test = test[X_cols]\n",
    "y_test = test[y_cols]"
   ]
  },
  {
   "cell_type": "markdown",
   "id": "aacf8536",
   "metadata": {},
   "source": [
    "### Logistic Regression Models"
   ]
  },
  {
   "cell_type": "markdown",
   "id": "f4410dce",
   "metadata": {},
   "source": [
    "My first model is going to be a logistic regression as we are dealing with a binary target."
   ]
  },
  {
   "cell_type": "code",
   "execution_count": 83,
   "id": "991e4ee7",
   "metadata": {},
   "outputs": [
    {
     "name": "stderr",
     "output_type": "stream",
     "text": [
      "/opt/homebrew/anaconda3/lib/python3.9/site-packages/sklearn/linear_model/_logistic.py:444: ConvergenceWarning: lbfgs failed to converge (status=1):\n",
      "STOP: TOTAL NO. of ITERATIONS REACHED LIMIT.\n",
      "\n",
      "Increase the number of iterations (max_iter) or scale the data as shown in:\n",
      "    https://scikit-learn.org/stable/modules/preprocessing.html\n",
      "Please also refer to the documentation for alternative solver options:\n",
      "    https://scikit-learn.org/stable/modules/linear_model.html#logistic-regression\n",
      "  n_iter_i = _check_optimize_result(\n"
     ]
    },
    {
     "data": {
      "text/plain": [
       "0.8201876743596247"
      ]
     },
     "execution_count": 83,
     "metadata": {},
     "output_type": "execute_result"
    }
   ],
   "source": [
    "# make the thing\n",
    "lr1 = LogisticRegression()\n",
    "\n",
    "# fit the thing\n",
    "lr1.fit(X_train, y_train)\n",
    "\n",
    "# use the thing\n",
    "lr1.score(X_train, y_train)"
   ]
  },
  {
   "cell_type": "markdown",
   "id": "4c197c5a",
   "metadata": {},
   "source": [
    "From our exploration, in our bivariate graphing we concluded that senior citizenship, partner, dependents, online security, tech support, streaming tv, streaming movies, paperless billing, contract type, internet service type, and payment type all showed different distributions when compared to churn. Lets make a subset with those features and see how it compares. "
   ]
  },
  {
   "cell_type": "code",
   "execution_count": 84,
   "id": "d3f5de64",
   "metadata": {},
   "outputs": [],
   "source": [
    "subset = ['senior_citizen', 'partner', 'dependents', 'online_security', 'tech_support', 'streaming_tv', 'streaming_movies', 'paperless_billing', 'contract_type_One year', 'contract_type_Two year',\n",
    "       'internet_service_type_Fiber optic', 'internet_service_type_None',\n",
    "       'payment_type_Credit card (automatic)', 'payment_type_Electronic check',\n",
    "       'payment_type_Mailed check']"
   ]
  },
  {
   "cell_type": "code",
   "execution_count": 85,
   "id": "b85b0422",
   "metadata": {},
   "outputs": [
    {
     "data": {
      "text/plain": [
       "0.7945726604108547"
      ]
     },
     "execution_count": 85,
     "metadata": {},
     "output_type": "execute_result"
    }
   ],
   "source": [
    "lr2 = LogisticRegression()\n",
    "lr2.fit(X_train[subset], y_train)\n",
    "lr2.score(X_train[subset], y_train)"
   ]
  },
  {
   "cell_type": "markdown",
   "id": "31dd551e",
   "metadata": {},
   "source": [
    "HMM Seems like using the selected columns lowered the accuracy.\n",
    "\n",
    "During our hypothesis testing, we concluded that dependents, total charges, and tenure are all dependent on churn, so lets make a model with only those features."
   ]
  },
  {
   "cell_type": "code",
   "execution_count": 86,
   "id": "0908bb33",
   "metadata": {},
   "outputs": [],
   "source": [
    "dependent_subset = ['dependents', 'total_charges', 'tenure']"
   ]
  },
  {
   "cell_type": "code",
   "execution_count": 87,
   "id": "b0a102bb",
   "metadata": {},
   "outputs": [
    {
     "data": {
      "text/plain": [
       "0.7722546284554908"
      ]
     },
     "execution_count": 87,
     "metadata": {},
     "output_type": "execute_result"
    }
   ],
   "source": [
    "lr3 = LogisticRegression()\n",
    "lr3.fit(X_train[dependent_subset], y_train)\n",
    "lr3.score(X_train[dependent_subset], y_train)"
   ]
  },
  {
   "cell_type": "markdown",
   "id": "8f891571",
   "metadata": {},
   "source": [
    "HMMM Seems that these features do even worse on the train target set."
   ]
  },
  {
   "cell_type": "markdown",
   "id": "9a659626",
   "metadata": {},
   "source": [
    "### Decision Tree Models"
   ]
  },
  {
   "cell_type": "code",
   "execution_count": 88,
   "id": "96436292",
   "metadata": {},
   "outputs": [],
   "source": [
    "from sklearn.tree import DecisionTreeClassifier, plot_tree, export_text\n",
    "from sklearn.metrics import classification_report\n",
    "from sklearn.metrics import confusion_matrix\n",
    "from sklearn.metrics import precision_recall_fscore_support"
   ]
  },
  {
   "cell_type": "code",
   "execution_count": 89,
   "id": "3cf5e421",
   "metadata": {},
   "outputs": [
    {
     "data": {
      "text/plain": [
       "0.9982247020035506"
      ]
     },
     "execution_count": 89,
     "metadata": {},
     "output_type": "execute_result"
    }
   ],
   "source": [
    "# Make the thing\n",
    "dt1 = DecisionTreeClassifier()\n",
    "# fit the thing\n",
    "dt1.fit(X_train, y_train)\n",
    "\n",
    "# Score the thing\n",
    "dt1.score(X_train, y_train)\n",
    "# wow look at it go with no max_depth!"
   ]
  },
  {
   "cell_type": "code",
   "execution_count": 90,
   "id": "5c706702",
   "metadata": {},
   "outputs": [],
   "source": [
    "# lets add a max depth \n",
    "\n",
    "model_dict = {}\n",
    "model = {}\n",
    "\n",
    "for i in range(2, 15):\n",
    "    clf = DecisionTreeClassifier(max_depth=i)\n",
    "    clf.fit(train[X_cols], train[y_cols])\n",
    "    model_dict[f'dt_depth_{i}'] = {}\n",
    "    model_dict[f'dt_depth_{i}']['model'] = clf\n",
    "    model_dict[f'dt_depth_{i}']['train_score'] = \\\n",
    "    clf.score(train[X_cols], train[y_cols])\n",
    "    model_dict[f'dt_depth_{i}']['validate_score'] = \\\n",
    "    clf.score(X_val, y_val)\n",
    "    model_dict[f'dt_depth_{i}']['val_diff'] = \\\n",
    "    clf.score(train[X_cols], train[y_cols]) - clf.score(X_val, y_val)"
   ]
  },
  {
   "cell_type": "code",
   "execution_count": 91,
   "id": "0e737858",
   "metadata": {},
   "outputs": [
    {
     "data": {
      "text/html": [
       "<div>\n",
       "<style scoped>\n",
       "    .dataframe tbody tr th:only-of-type {\n",
       "        vertical-align: middle;\n",
       "    }\n",
       "\n",
       "    .dataframe tbody tr th {\n",
       "        vertical-align: top;\n",
       "    }\n",
       "\n",
       "    .dataframe thead th {\n",
       "        text-align: right;\n",
       "    }\n",
       "</style>\n",
       "<table border=\"1\" class=\"dataframe\">\n",
       "  <thead>\n",
       "    <tr style=\"text-align: right;\">\n",
       "      <th></th>\n",
       "      <th>model</th>\n",
       "      <th>train_score</th>\n",
       "      <th>validate_score</th>\n",
       "      <th>val_diff</th>\n",
       "    </tr>\n",
       "  </thead>\n",
       "  <tbody>\n",
       "    <tr>\n",
       "      <th>dt_depth_2</th>\n",
       "      <td>DecisionTreeClassifier(max_depth=2)</td>\n",
       "      <td>0.801674</td>\n",
       "      <td>0.782377</td>\n",
       "      <td>0.019297</td>\n",
       "    </tr>\n",
       "    <tr>\n",
       "      <th>dt_depth_3</th>\n",
       "      <td>DecisionTreeClassifier(max_depth=3)</td>\n",
       "      <td>0.801674</td>\n",
       "      <td>0.782377</td>\n",
       "      <td>0.019297</td>\n",
       "    </tr>\n",
       "    <tr>\n",
       "      <th>dt_depth_4</th>\n",
       "      <td>DecisionTreeClassifier(max_depth=4)</td>\n",
       "      <td>0.807</td>\n",
       "      <td>0.780603</td>\n",
       "      <td>0.026397</td>\n",
       "    </tr>\n",
       "    <tr>\n",
       "      <th>dt_depth_5</th>\n",
       "      <td>DecisionTreeClassifier(max_depth=5)</td>\n",
       "      <td>0.820441</td>\n",
       "      <td>0.781195</td>\n",
       "      <td>0.039247</td>\n",
       "    </tr>\n",
       "    <tr>\n",
       "      <th>dt_depth_6</th>\n",
       "      <td>DecisionTreeClassifier(max_depth=6)</td>\n",
       "      <td>0.827289</td>\n",
       "      <td>0.776464</td>\n",
       "      <td>0.050825</td>\n",
       "    </tr>\n",
       "    <tr>\n",
       "      <th>dt_depth_7</th>\n",
       "      <td>DecisionTreeClassifier(max_depth=7)</td>\n",
       "      <td>0.841998</td>\n",
       "      <td>0.775281</td>\n",
       "      <td>0.066718</td>\n",
       "    </tr>\n",
       "    <tr>\n",
       "      <th>dt_depth_8</th>\n",
       "      <td>DecisionTreeClassifier(max_depth=8)</td>\n",
       "      <td>0.85823</td>\n",
       "      <td>0.761088</td>\n",
       "      <td>0.097142</td>\n",
       "    </tr>\n",
       "    <tr>\n",
       "      <th>dt_depth_9</th>\n",
       "      <td>DecisionTreeClassifier(max_depth=9)</td>\n",
       "      <td>0.880801</td>\n",
       "      <td>0.756357</td>\n",
       "      <td>0.124444</td>\n",
       "    </tr>\n",
       "    <tr>\n",
       "      <th>dt_depth_10</th>\n",
       "      <td>DecisionTreeClassifier(max_depth=10)</td>\n",
       "      <td>0.902105</td>\n",
       "      <td>0.740982</td>\n",
       "      <td>0.161123</td>\n",
       "    </tr>\n",
       "    <tr>\n",
       "      <th>dt_depth_11</th>\n",
       "      <td>DecisionTreeClassifier(max_depth=11)</td>\n",
       "      <td>0.925184</td>\n",
       "      <td>0.751035</td>\n",
       "      <td>0.174149</td>\n",
       "    </tr>\n",
       "    <tr>\n",
       "      <th>dt_depth_12</th>\n",
       "      <td>DecisionTreeClassifier(max_depth=12)</td>\n",
       "      <td>0.942937</td>\n",
       "      <td>0.738616</td>\n",
       "      <td>0.204321</td>\n",
       "    </tr>\n",
       "    <tr>\n",
       "      <th>dt_depth_13</th>\n",
       "      <td>DecisionTreeClassifier(max_depth=13)</td>\n",
       "      <td>0.95511</td>\n",
       "      <td>0.737433</td>\n",
       "      <td>0.217677</td>\n",
       "    </tr>\n",
       "    <tr>\n",
       "      <th>dt_depth_14</th>\n",
       "      <td>DecisionTreeClassifier(max_depth=14)</td>\n",
       "      <td>0.967791</td>\n",
       "      <td>0.725015</td>\n",
       "      <td>0.242776</td>\n",
       "    </tr>\n",
       "  </tbody>\n",
       "</table>\n",
       "</div>"
      ],
      "text/plain": [
       "                                            model train_score validate_score  \\\n",
       "dt_depth_2    DecisionTreeClassifier(max_depth=2)    0.801674       0.782377   \n",
       "dt_depth_3    DecisionTreeClassifier(max_depth=3)    0.801674       0.782377   \n",
       "dt_depth_4    DecisionTreeClassifier(max_depth=4)       0.807       0.780603   \n",
       "dt_depth_5    DecisionTreeClassifier(max_depth=5)    0.820441       0.781195   \n",
       "dt_depth_6    DecisionTreeClassifier(max_depth=6)    0.827289       0.776464   \n",
       "dt_depth_7    DecisionTreeClassifier(max_depth=7)    0.841998       0.775281   \n",
       "dt_depth_8    DecisionTreeClassifier(max_depth=8)     0.85823       0.761088   \n",
       "dt_depth_9    DecisionTreeClassifier(max_depth=9)    0.880801       0.756357   \n",
       "dt_depth_10  DecisionTreeClassifier(max_depth=10)    0.902105       0.740982   \n",
       "dt_depth_11  DecisionTreeClassifier(max_depth=11)    0.925184       0.751035   \n",
       "dt_depth_12  DecisionTreeClassifier(max_depth=12)    0.942937       0.738616   \n",
       "dt_depth_13  DecisionTreeClassifier(max_depth=13)     0.95511       0.737433   \n",
       "dt_depth_14  DecisionTreeClassifier(max_depth=14)    0.967791       0.725015   \n",
       "\n",
       "             val_diff  \n",
       "dt_depth_2   0.019297  \n",
       "dt_depth_3   0.019297  \n",
       "dt_depth_4   0.026397  \n",
       "dt_depth_5   0.039247  \n",
       "dt_depth_6   0.050825  \n",
       "dt_depth_7   0.066718  \n",
       "dt_depth_8   0.097142  \n",
       "dt_depth_9   0.124444  \n",
       "dt_depth_10  0.161123  \n",
       "dt_depth_11  0.174149  \n",
       "dt_depth_12  0.204321  \n",
       "dt_depth_13  0.217677  \n",
       "dt_depth_14  0.242776  "
      ]
     },
     "execution_count": 91,
     "metadata": {},
     "output_type": "execute_result"
    }
   ],
   "source": [
    "pd.DataFrame(model_dict).T"
   ]
  },
  {
   "cell_type": "code",
   "execution_count": 92,
   "id": "8ba5c7ba",
   "metadata": {},
   "outputs": [],
   "source": [
    "# Looks like our best Decision Tree Models are dt_depth_2 \n",
    "# and dt_depth_3!"
   ]
  },
  {
   "cell_type": "code",
   "execution_count": null,
   "id": "ec03dab3",
   "metadata": {},
   "outputs": [],
   "source": []
  },
  {
   "cell_type": "code",
   "execution_count": null,
   "id": "9023fa3f",
   "metadata": {},
   "outputs": [],
   "source": []
  },
  {
   "cell_type": "markdown",
   "id": "bde6740c",
   "metadata": {},
   "source": [
    "### Random Forest Models"
   ]
  },
  {
   "cell_type": "code",
   "execution_count": 93,
   "id": "34d3c595",
   "metadata": {},
   "outputs": [],
   "source": [
    "from sklearn.ensemble import RandomForestClassifier\n",
    "from sklearn.metrics import classification_report\n",
    "from sklearn.metrics import confusion_matrix"
   ]
  },
  {
   "cell_type": "code",
   "execution_count": 94,
   "id": "4d8e2c95",
   "metadata": {},
   "outputs": [],
   "source": [
    "# Make the things \n",
    "\n",
    "rf_models = {}\n",
    "\n",
    "for i in [pair for pair in zip (range(1, 10), range(10, 1, -1))]:\n",
    "    # make the things\n",
    "    clf = RandomForestClassifier(min_samples_leaf=i[0],\n",
    "                                max_depth=i[1])\n",
    "    # fit the things\n",
    "    clf.fit(X_train, y_train)\n",
    "    #Before we can use the things, we have to name and store the things \n",
    "    #to be able to call them\n",
    "    rf_models[f'{clf}{i}_model'] = {\n",
    "        'model': clf,\n",
    "        'train_score': round(clf.score(X_train, y_train), 5),\n",
    "        'validate_score': round(clf.score(X_val, y_val), 5),\n",
    "        'val_diff': round(clf.score(X_train, y_train), 5) - round(clf.score(X_val, y_val), 5)\n",
    "    \n",
    "    }"
   ]
  },
  {
   "cell_type": "code",
   "execution_count": 95,
   "id": "17df7761",
   "metadata": {},
   "outputs": [
    {
     "data": {
      "text/html": [
       "<div>\n",
       "<style scoped>\n",
       "    .dataframe tbody tr th:only-of-type {\n",
       "        vertical-align: middle;\n",
       "    }\n",
       "\n",
       "    .dataframe tbody tr th {\n",
       "        vertical-align: top;\n",
       "    }\n",
       "\n",
       "    .dataframe thead th {\n",
       "        text-align: right;\n",
       "    }\n",
       "</style>\n",
       "<table border=\"1\" class=\"dataframe\">\n",
       "  <thead>\n",
       "    <tr style=\"text-align: right;\">\n",
       "      <th></th>\n",
       "      <th>model</th>\n",
       "      <th>train_score</th>\n",
       "      <th>validate_score</th>\n",
       "      <th>val_diff</th>\n",
       "    </tr>\n",
       "  </thead>\n",
       "  <tbody>\n",
       "    <tr>\n",
       "      <th>RandomForestClassifier(max_depth=10)(1, 10)_model</th>\n",
       "      <td>(DecisionTreeClassifier(max_depth=10, max_features='sqrt',\\n                       ran...</td>\n",
       "      <td>0.89526</td>\n",
       "      <td>0.79007</td>\n",
       "      <td>0.10519</td>\n",
       "    </tr>\n",
       "    <tr>\n",
       "      <th>RandomForestClassifier(max_depth=9, min_samples_leaf=2)(2, 9)_model</th>\n",
       "      <td>(DecisionTreeClassifier(max_depth=9, max_features='sqrt', min_samples_leaf=2,\\n       ...</td>\n",
       "      <td>0.86127</td>\n",
       "      <td>0.79302</td>\n",
       "      <td>0.06825</td>\n",
       "    </tr>\n",
       "    <tr>\n",
       "      <th>RandomForestClassifier(max_depth=8, min_samples_leaf=3)(3, 8)_model</th>\n",
       "      <td>(DecisionTreeClassifier(max_depth=8, max_features='sqrt', min_samples_leaf=3,\\n       ...</td>\n",
       "      <td>0.84656</td>\n",
       "      <td>0.79125</td>\n",
       "      <td>0.05531</td>\n",
       "    </tr>\n",
       "    <tr>\n",
       "      <th>RandomForestClassifier(max_depth=7, min_samples_leaf=4)(4, 7)_model</th>\n",
       "      <td>(DecisionTreeClassifier(max_depth=7, max_features='sqrt', min_samples_leaf=4,\\n       ...</td>\n",
       "      <td>0.83642</td>\n",
       "      <td>0.79184</td>\n",
       "      <td>0.04458</td>\n",
       "    </tr>\n",
       "    <tr>\n",
       "      <th>RandomForestClassifier(max_depth=6, min_samples_leaf=5)(5, 6)_model</th>\n",
       "      <td>(DecisionTreeClassifier(max_depth=6, max_features='sqrt', min_samples_leaf=5,\\n       ...</td>\n",
       "      <td>0.82374</td>\n",
       "      <td>0.78829</td>\n",
       "      <td>0.03545</td>\n",
       "    </tr>\n",
       "    <tr>\n",
       "      <th>RandomForestClassifier(max_depth=5, min_samples_leaf=6)(6, 5)_model</th>\n",
       "      <td>(DecisionTreeClassifier(max_depth=5, max_features='sqrt', min_samples_leaf=6,\\n       ...</td>\n",
       "      <td>0.81486</td>\n",
       "      <td>0.78652</td>\n",
       "      <td>0.02834</td>\n",
       "    </tr>\n",
       "    <tr>\n",
       "      <th>RandomForestClassifier(max_depth=4, min_samples_leaf=7)(7, 4)_model</th>\n",
       "      <td>(DecisionTreeClassifier(max_depth=4, max_features='sqrt', min_samples_leaf=7,\\n       ...</td>\n",
       "      <td>0.80852</td>\n",
       "      <td>0.78179</td>\n",
       "      <td>0.02673</td>\n",
       "    </tr>\n",
       "    <tr>\n",
       "      <th>RandomForestClassifier(max_depth=3, min_samples_leaf=8)(8, 3)_model</th>\n",
       "      <td>(DecisionTreeClassifier(max_depth=3, max_features='sqrt', min_samples_leaf=8,\\n       ...</td>\n",
       "      <td>0.79178</td>\n",
       "      <td>0.77587</td>\n",
       "      <td>0.01591</td>\n",
       "    </tr>\n",
       "    <tr>\n",
       "      <th>RandomForestClassifier(max_depth=2, min_samples_leaf=9)(9, 2)_model</th>\n",
       "      <td>(DecisionTreeClassifier(max_depth=2, max_features='sqrt', min_samples_leaf=9,\\n       ...</td>\n",
       "      <td>0.76439</td>\n",
       "      <td>0.75991</td>\n",
       "      <td>0.00448</td>\n",
       "    </tr>\n",
       "  </tbody>\n",
       "</table>\n",
       "</div>"
      ],
      "text/plain": [
       "                                                                                                                                                         model  \\\n",
       "RandomForestClassifier(max_depth=10)(1, 10)_model                    (DecisionTreeClassifier(max_depth=10, max_features='sqrt',\\n                       ran...   \n",
       "RandomForestClassifier(max_depth=9, min_samples_leaf=2)(2, 9)_model  (DecisionTreeClassifier(max_depth=9, max_features='sqrt', min_samples_leaf=2,\\n       ...   \n",
       "RandomForestClassifier(max_depth=8, min_samples_leaf=3)(3, 8)_model  (DecisionTreeClassifier(max_depth=8, max_features='sqrt', min_samples_leaf=3,\\n       ...   \n",
       "RandomForestClassifier(max_depth=7, min_samples_leaf=4)(4, 7)_model  (DecisionTreeClassifier(max_depth=7, max_features='sqrt', min_samples_leaf=4,\\n       ...   \n",
       "RandomForestClassifier(max_depth=6, min_samples_leaf=5)(5, 6)_model  (DecisionTreeClassifier(max_depth=6, max_features='sqrt', min_samples_leaf=5,\\n       ...   \n",
       "RandomForestClassifier(max_depth=5, min_samples_leaf=6)(6, 5)_model  (DecisionTreeClassifier(max_depth=5, max_features='sqrt', min_samples_leaf=6,\\n       ...   \n",
       "RandomForestClassifier(max_depth=4, min_samples_leaf=7)(7, 4)_model  (DecisionTreeClassifier(max_depth=4, max_features='sqrt', min_samples_leaf=7,\\n       ...   \n",
       "RandomForestClassifier(max_depth=3, min_samples_leaf=8)(8, 3)_model  (DecisionTreeClassifier(max_depth=3, max_features='sqrt', min_samples_leaf=8,\\n       ...   \n",
       "RandomForestClassifier(max_depth=2, min_samples_leaf=9)(9, 2)_model  (DecisionTreeClassifier(max_depth=2, max_features='sqrt', min_samples_leaf=9,\\n       ...   \n",
       "\n",
       "                                                                    train_score  \\\n",
       "RandomForestClassifier(max_depth=10)(1, 10)_model                       0.89526   \n",
       "RandomForestClassifier(max_depth=9, min_samples_leaf=2)(2, 9)_model     0.86127   \n",
       "RandomForestClassifier(max_depth=8, min_samples_leaf=3)(3, 8)_model     0.84656   \n",
       "RandomForestClassifier(max_depth=7, min_samples_leaf=4)(4, 7)_model     0.83642   \n",
       "RandomForestClassifier(max_depth=6, min_samples_leaf=5)(5, 6)_model     0.82374   \n",
       "RandomForestClassifier(max_depth=5, min_samples_leaf=6)(6, 5)_model     0.81486   \n",
       "RandomForestClassifier(max_depth=4, min_samples_leaf=7)(7, 4)_model     0.80852   \n",
       "RandomForestClassifier(max_depth=3, min_samples_leaf=8)(8, 3)_model     0.79178   \n",
       "RandomForestClassifier(max_depth=2, min_samples_leaf=9)(9, 2)_model     0.76439   \n",
       "\n",
       "                                                                    validate_score  \\\n",
       "RandomForestClassifier(max_depth=10)(1, 10)_model                          0.79007   \n",
       "RandomForestClassifier(max_depth=9, min_samples_leaf=2)(2, 9)_model        0.79302   \n",
       "RandomForestClassifier(max_depth=8, min_samples_leaf=3)(3, 8)_model        0.79125   \n",
       "RandomForestClassifier(max_depth=7, min_samples_leaf=4)(4, 7)_model        0.79184   \n",
       "RandomForestClassifier(max_depth=6, min_samples_leaf=5)(5, 6)_model        0.78829   \n",
       "RandomForestClassifier(max_depth=5, min_samples_leaf=6)(6, 5)_model        0.78652   \n",
       "RandomForestClassifier(max_depth=4, min_samples_leaf=7)(7, 4)_model        0.78179   \n",
       "RandomForestClassifier(max_depth=3, min_samples_leaf=8)(8, 3)_model        0.77587   \n",
       "RandomForestClassifier(max_depth=2, min_samples_leaf=9)(9, 2)_model        0.75991   \n",
       "\n",
       "                                                                    val_diff  \n",
       "RandomForestClassifier(max_depth=10)(1, 10)_model                    0.10519  \n",
       "RandomForestClassifier(max_depth=9, min_samples_leaf=2)(2, 9)_model  0.06825  \n",
       "RandomForestClassifier(max_depth=8, min_samples_leaf=3)(3, 8)_model  0.05531  \n",
       "RandomForestClassifier(max_depth=7, min_samples_leaf=4)(4, 7)_model  0.04458  \n",
       "RandomForestClassifier(max_depth=6, min_samples_leaf=5)(5, 6)_model  0.03545  \n",
       "RandomForestClassifier(max_depth=5, min_samples_leaf=6)(6, 5)_model  0.02834  \n",
       "RandomForestClassifier(max_depth=4, min_samples_leaf=7)(7, 4)_model  0.02673  \n",
       "RandomForestClassifier(max_depth=3, min_samples_leaf=8)(8, 3)_model  0.01591  \n",
       "RandomForestClassifier(max_depth=2, min_samples_leaf=9)(9, 2)_model  0.00448  "
      ]
     },
     "execution_count": 95,
     "metadata": {},
     "output_type": "execute_result"
    }
   ],
   "source": [
    "pd.DataFrame(rf_models).T"
   ]
  },
  {
   "cell_type": "markdown",
   "id": "d2a5c293",
   "metadata": {},
   "source": [
    "Of our Random Forest models, it looks like the best performers are model max_depth = 9 and min_samples_leaf=2 and model max_depth=8 and min_samples_leaf= 3. "
   ]
  },
  {
   "cell_type": "markdown",
   "id": "85db50f0",
   "metadata": {},
   "source": [
    "####  Models to be further evaluated:\n",
    "\n",
    "    From the Random Forest:\n",
    "    \n",
    "        - RandomForestClassifier(max_depth=8, min_samples_leaf=3)(3, 8)_model\n",
    "    \n",
    "    From the Decision Tree:\n",
    "        - DecisionTreeClassifier(max_depth=3)\t\n",
    "    \n",
    "    From Logistic Regression: \n",
    "        - lr1"
   ]
  },
  {
   "cell_type": "code",
   "execution_count": 96,
   "id": "a2b16100",
   "metadata": {},
   "outputs": [
    {
     "name": "stderr",
     "output_type": "stream",
     "text": [
      "/opt/homebrew/anaconda3/lib/python3.9/site-packages/sklearn/linear_model/_logistic.py:444: ConvergenceWarning: lbfgs failed to converge (status=1):\n",
      "STOP: TOTAL NO. of ITERATIONS REACHED LIMIT.\n",
      "\n",
      "Increase the number of iterations (max_iter) or scale the data as shown in:\n",
      "    https://scikit-learn.org/stable/modules/preprocessing.html\n",
      "Please also refer to the documentation for alternative solver options:\n",
      "    https://scikit-learn.org/stable/modules/linear_model.html#logistic-regression\n",
      "  n_iter_i = _check_optimize_result(\n"
     ]
    },
    {
     "data": {
      "text/html": [
       "<style>#sk-container-id-1 {color: black;background-color: white;}#sk-container-id-1 pre{padding: 0;}#sk-container-id-1 div.sk-toggleable {background-color: white;}#sk-container-id-1 label.sk-toggleable__label {cursor: pointer;display: block;width: 100%;margin-bottom: 0;padding: 0.3em;box-sizing: border-box;text-align: center;}#sk-container-id-1 label.sk-toggleable__label-arrow:before {content: \"▸\";float: left;margin-right: 0.25em;color: #696969;}#sk-container-id-1 label.sk-toggleable__label-arrow:hover:before {color: black;}#sk-container-id-1 div.sk-estimator:hover label.sk-toggleable__label-arrow:before {color: black;}#sk-container-id-1 div.sk-toggleable__content {max-height: 0;max-width: 0;overflow: hidden;text-align: left;background-color: #f0f8ff;}#sk-container-id-1 div.sk-toggleable__content pre {margin: 0.2em;color: black;border-radius: 0.25em;background-color: #f0f8ff;}#sk-container-id-1 input.sk-toggleable__control:checked~div.sk-toggleable__content {max-height: 200px;max-width: 100%;overflow: auto;}#sk-container-id-1 input.sk-toggleable__control:checked~label.sk-toggleable__label-arrow:before {content: \"▾\";}#sk-container-id-1 div.sk-estimator input.sk-toggleable__control:checked~label.sk-toggleable__label {background-color: #d4ebff;}#sk-container-id-1 div.sk-label input.sk-toggleable__control:checked~label.sk-toggleable__label {background-color: #d4ebff;}#sk-container-id-1 input.sk-hidden--visually {border: 0;clip: rect(1px 1px 1px 1px);clip: rect(1px, 1px, 1px, 1px);height: 1px;margin: -1px;overflow: hidden;padding: 0;position: absolute;width: 1px;}#sk-container-id-1 div.sk-estimator {font-family: monospace;background-color: #f0f8ff;border: 1px dotted black;border-radius: 0.25em;box-sizing: border-box;margin-bottom: 0.5em;}#sk-container-id-1 div.sk-estimator:hover {background-color: #d4ebff;}#sk-container-id-1 div.sk-parallel-item::after {content: \"\";width: 100%;border-bottom: 1px solid gray;flex-grow: 1;}#sk-container-id-1 div.sk-label:hover label.sk-toggleable__label {background-color: #d4ebff;}#sk-container-id-1 div.sk-serial::before {content: \"\";position: absolute;border-left: 1px solid gray;box-sizing: border-box;top: 0;bottom: 0;left: 50%;z-index: 0;}#sk-container-id-1 div.sk-serial {display: flex;flex-direction: column;align-items: center;background-color: white;padding-right: 0.2em;padding-left: 0.2em;position: relative;}#sk-container-id-1 div.sk-item {position: relative;z-index: 1;}#sk-container-id-1 div.sk-parallel {display: flex;align-items: stretch;justify-content: center;background-color: white;position: relative;}#sk-container-id-1 div.sk-item::before, #sk-container-id-1 div.sk-parallel-item::before {content: \"\";position: absolute;border-left: 1px solid gray;box-sizing: border-box;top: 0;bottom: 0;left: 50%;z-index: -1;}#sk-container-id-1 div.sk-parallel-item {display: flex;flex-direction: column;z-index: 1;position: relative;background-color: white;}#sk-container-id-1 div.sk-parallel-item:first-child::after {align-self: flex-end;width: 50%;}#sk-container-id-1 div.sk-parallel-item:last-child::after {align-self: flex-start;width: 50%;}#sk-container-id-1 div.sk-parallel-item:only-child::after {width: 0;}#sk-container-id-1 div.sk-dashed-wrapped {border: 1px dashed gray;margin: 0 0.4em 0.5em 0.4em;box-sizing: border-box;padding-bottom: 0.4em;background-color: white;}#sk-container-id-1 div.sk-label label {font-family: monospace;font-weight: bold;display: inline-block;line-height: 1.2em;}#sk-container-id-1 div.sk-label-container {text-align: center;}#sk-container-id-1 div.sk-container {/* jupyter's `normalize.less` sets `[hidden] { display: none; }` but bootstrap.min.css set `[hidden] { display: none !important; }` so we also need the `!important` here to be able to override the default hidden behavior on the sphinx rendered scikit-learn.org. See: https://github.com/scikit-learn/scikit-learn/issues/21755 */display: inline-block !important;position: relative;}#sk-container-id-1 div.sk-text-repr-fallback {display: none;}</style><div id=\"sk-container-id-1\" class=\"sk-top-container\"><div class=\"sk-text-repr-fallback\"><pre>LogisticRegression()</pre><b>In a Jupyter environment, please rerun this cell to show the HTML representation or trust the notebook. <br />On GitHub, the HTML representation is unable to render, please try loading this page with nbviewer.org.</b></div><div class=\"sk-container\" hidden><div class=\"sk-item\"><div class=\"sk-estimator sk-toggleable\"><input class=\"sk-toggleable__control sk-hidden--visually\" id=\"sk-estimator-id-1\" type=\"checkbox\" checked><label for=\"sk-estimator-id-1\" class=\"sk-toggleable__label sk-toggleable__label-arrow\">LogisticRegression</label><div class=\"sk-toggleable__content\"><pre>LogisticRegression()</pre></div></div></div></div></div>"
      ],
      "text/plain": [
       "LogisticRegression()"
      ]
     },
     "execution_count": 96,
     "metadata": {},
     "output_type": "execute_result"
    }
   ],
   "source": [
    "rf3_8 = RandomForestClassifier()\n",
    "rf3_8.fit(X_train, y_train)\n",
    "\n",
    "dt3 = DecisionTreeClassifier()\n",
    "dt3.fit(X_train, y_train)\n",
    "\n",
    "lr1 = LogisticRegression()\n",
    "lr1.fit(X_train, y_train)"
   ]
  },
  {
   "cell_type": "code",
   "execution_count": 97,
   "id": "05e5b066",
   "metadata": {},
   "outputs": [],
   "source": [
    "import evaluation"
   ]
  },
  {
   "cell_type": "markdown",
   "id": "6796b053",
   "metadata": {},
   "source": [
    "Now we will do some evaluations based on our test set!"
   ]
  },
  {
   "cell_type": "markdown",
   "id": "62e75bd4",
   "metadata": {},
   "source": [
    "#### rf3_8"
   ]
  },
  {
   "cell_type": "code",
   "execution_count": 98,
   "id": "3c26b279",
   "metadata": {},
   "outputs": [],
   "source": [
    "# Calculating y predictions based off of the train dataset\n",
    "rf3_8_train_preds = rf3_8.predict(X_train)"
   ]
  },
  {
   "cell_type": "code",
   "execution_count": 99,
   "id": "4a6e4a75",
   "metadata": {},
   "outputs": [
    {
     "name": "stdout",
     "output_type": "stream",
     "text": [
      "\n",
      "    Accuracy: 0.997717474004565\n",
      "    True Positive Rate: 0.9979310344827587\n",
      "    True Negative Rate: 0.99712368168744\n",
      "    False Positive Rate: 0.0028763183125599234\n",
      "    False Negative Rate: 0.0020689655172413794\n",
      "    Precision : 0.9989644459785986\n",
      "    f1 score: 0.9984474728307746\n",
      "    supports: 0: 2897 1: 1046\n",
      "    \n"
     ]
    }
   ],
   "source": [
    "# Evaluation metrics for rf3_8 on train set\n",
    "evaluation.get_metrics(y_train, rf3_8_train_preds, train)"
   ]
  },
  {
   "cell_type": "code",
   "execution_count": 100,
   "id": "eb681c93",
   "metadata": {},
   "outputs": [
    {
     "data": {
      "text/html": [
       "<div>\n",
       "<style scoped>\n",
       "    .dataframe tbody tr th:only-of-type {\n",
       "        vertical-align: middle;\n",
       "    }\n",
       "\n",
       "    .dataframe tbody tr th {\n",
       "        vertical-align: top;\n",
       "    }\n",
       "\n",
       "    .dataframe thead th {\n",
       "        text-align: right;\n",
       "    }\n",
       "</style>\n",
       "<table border=\"1\" class=\"dataframe\">\n",
       "  <thead>\n",
       "    <tr style=\"text-align: right;\">\n",
       "      <th></th>\n",
       "      <th>pred_0</th>\n",
       "      <th>pred_1</th>\n",
       "    </tr>\n",
       "  </thead>\n",
       "  <tbody>\n",
       "    <tr>\n",
       "      <th>actual_0</th>\n",
       "      <td>True Positive: 2894</td>\n",
       "      <td>False Positive: 3</td>\n",
       "    </tr>\n",
       "    <tr>\n",
       "      <th>actual_1</th>\n",
       "      <td>False Positive: 6</td>\n",
       "      <td>True Negative: 1040</td>\n",
       "    </tr>\n",
       "  </tbody>\n",
       "</table>\n",
       "</div>"
      ],
      "text/plain": [
       "                       pred_0               pred_1\n",
       "actual_0  True Positive: 2894    False Positive: 3\n",
       "actual_1    False Positive: 6  True Negative: 1040"
      ]
     },
     "execution_count": 100,
     "metadata": {},
     "output_type": "execute_result"
    }
   ],
   "source": [
    "# confusion report for rf3_8 on train set\n",
    "evaluation.conf_matrix(y_train, rf3_8_train_preds)"
   ]
  },
  {
   "cell_type": "code",
   "execution_count": 101,
   "id": "7046f6a5",
   "metadata": {},
   "outputs": [
    {
     "data": {
      "text/html": [
       "<div>\n",
       "<style scoped>\n",
       "    .dataframe tbody tr th:only-of-type {\n",
       "        vertical-align: middle;\n",
       "    }\n",
       "\n",
       "    .dataframe tbody tr th {\n",
       "        vertical-align: top;\n",
       "    }\n",
       "\n",
       "    .dataframe thead th {\n",
       "        text-align: right;\n",
       "    }\n",
       "</style>\n",
       "<table border=\"1\" class=\"dataframe\">\n",
       "  <thead>\n",
       "    <tr style=\"text-align: right;\">\n",
       "      <th></th>\n",
       "      <th>0</th>\n",
       "      <th>1</th>\n",
       "      <th>accuracy</th>\n",
       "      <th>macro avg</th>\n",
       "      <th>weighted avg</th>\n",
       "    </tr>\n",
       "  </thead>\n",
       "  <tbody>\n",
       "    <tr>\n",
       "      <th>precision</th>\n",
       "      <td>0.997931</td>\n",
       "      <td>0.997124</td>\n",
       "      <td>0.997717</td>\n",
       "      <td>0.997527</td>\n",
       "      <td>0.997717</td>\n",
       "    </tr>\n",
       "    <tr>\n",
       "      <th>recall</th>\n",
       "      <td>0.998964</td>\n",
       "      <td>0.994264</td>\n",
       "      <td>0.997717</td>\n",
       "      <td>0.996614</td>\n",
       "      <td>0.997717</td>\n",
       "    </tr>\n",
       "    <tr>\n",
       "      <th>f1-score</th>\n",
       "      <td>0.998447</td>\n",
       "      <td>0.995692</td>\n",
       "      <td>0.997717</td>\n",
       "      <td>0.997070</td>\n",
       "      <td>0.997716</td>\n",
       "    </tr>\n",
       "    <tr>\n",
       "      <th>support</th>\n",
       "      <td>2897.000000</td>\n",
       "      <td>1046.000000</td>\n",
       "      <td>0.997717</td>\n",
       "      <td>3943.000000</td>\n",
       "      <td>3943.000000</td>\n",
       "    </tr>\n",
       "  </tbody>\n",
       "</table>\n",
       "</div>"
      ],
      "text/plain": [
       "                     0            1  accuracy    macro avg  weighted avg\n",
       "precision     0.997931     0.997124  0.997717     0.997527      0.997717\n",
       "recall        0.998964     0.994264  0.997717     0.996614      0.997717\n",
       "f1-score      0.998447     0.995692  0.997717     0.997070      0.997716\n",
       "support    2897.000000  1046.000000  0.997717  3943.000000   3943.000000"
      ]
     },
     "execution_count": 101,
     "metadata": {},
     "output_type": "execute_result"
    }
   ],
   "source": [
    "# classification report for rf3_8 on train set\n",
    "evaluation.class_report(y_train, rf3_8_train_preds)"
   ]
  },
  {
   "cell_type": "code",
   "execution_count": 102,
   "id": "bdec140c",
   "metadata": {},
   "outputs": [],
   "source": [
    "# Calculating y preds based off of the validate dataset"
   ]
  },
  {
   "cell_type": "code",
   "execution_count": 103,
   "id": "fb9b7934",
   "metadata": {},
   "outputs": [],
   "source": [
    "rf3_8_val_preds = rf3_8.predict(X_val)"
   ]
  },
  {
   "cell_type": "code",
   "execution_count": 104,
   "id": "4b90e552",
   "metadata": {},
   "outputs": [
    {
     "name": "stdout",
     "output_type": "stream",
     "text": [
      "\n",
      "    Accuracy: 0.7841513897102307\n",
      "    True Positive Rate: 0.8240946045824095\n",
      "    True Negative Rate: 0.6242603550295858\n",
      "    False Positive Rate: 0.3757396449704142\n",
      "    False Negative Rate: 0.17590539541759054\n",
      "    Precision : 0.8977455716586151\n",
      "    f1 score: 0.8593448940269749\n",
      "    supports: 0: 1242 1: 449\n",
      "    \n"
     ]
    }
   ],
   "source": [
    "# Evaluation metrics for rf3_8 on validate set\n",
    "evaluation.get_metrics(y_val, rf3_8_val_preds, validate)"
   ]
  },
  {
   "cell_type": "code",
   "execution_count": 105,
   "id": "48640f0a",
   "metadata": {},
   "outputs": [
    {
     "data": {
      "text/html": [
       "<div>\n",
       "<style scoped>\n",
       "    .dataframe tbody tr th:only-of-type {\n",
       "        vertical-align: middle;\n",
       "    }\n",
       "\n",
       "    .dataframe tbody tr th {\n",
       "        vertical-align: top;\n",
       "    }\n",
       "\n",
       "    .dataframe thead th {\n",
       "        text-align: right;\n",
       "    }\n",
       "</style>\n",
       "<table border=\"1\" class=\"dataframe\">\n",
       "  <thead>\n",
       "    <tr style=\"text-align: right;\">\n",
       "      <th></th>\n",
       "      <th>pred_0</th>\n",
       "      <th>pred_1</th>\n",
       "    </tr>\n",
       "  </thead>\n",
       "  <tbody>\n",
       "    <tr>\n",
       "      <th>actual_0</th>\n",
       "      <td>True Positive: 1115</td>\n",
       "      <td>False Positive: 127</td>\n",
       "    </tr>\n",
       "    <tr>\n",
       "      <th>actual_1</th>\n",
       "      <td>False Positive: 238</td>\n",
       "      <td>True Negative: 211</td>\n",
       "    </tr>\n",
       "  </tbody>\n",
       "</table>\n",
       "</div>"
      ],
      "text/plain": [
       "                       pred_0               pred_1\n",
       "actual_0  True Positive: 1115  False Positive: 127\n",
       "actual_1  False Positive: 238   True Negative: 211"
      ]
     },
     "execution_count": 105,
     "metadata": {},
     "output_type": "execute_result"
    }
   ],
   "source": [
    "# confusion report for rf3_8 on validate set\n",
    "evaluation.conf_matrix(y_val, rf3_8_val_preds)"
   ]
  },
  {
   "cell_type": "code",
   "execution_count": 106,
   "id": "bb70b3fe",
   "metadata": {},
   "outputs": [
    {
     "data": {
      "text/plain": [
       "array([[1115,  127],\n",
       "       [ 238,  211]])"
      ]
     },
     "execution_count": 106,
     "metadata": {},
     "output_type": "execute_result"
    }
   ],
   "source": [
    "confusion_matrix(y_val, rf3_8_val_preds)"
   ]
  },
  {
   "cell_type": "code",
   "execution_count": 107,
   "id": "382f1cdd",
   "metadata": {},
   "outputs": [
    {
     "data": {
      "text/plain": [
       "1326"
      ]
     },
     "execution_count": 107,
     "metadata": {},
     "output_type": "execute_result"
    }
   ],
   "source": [
    "(y_val == rf3_8_val_preds).sum()"
   ]
  },
  {
   "cell_type": "code",
   "execution_count": 108,
   "id": "fa8d6171",
   "metadata": {},
   "outputs": [
    {
     "data": {
      "text/html": [
       "<div>\n",
       "<style scoped>\n",
       "    .dataframe tbody tr th:only-of-type {\n",
       "        vertical-align: middle;\n",
       "    }\n",
       "\n",
       "    .dataframe tbody tr th {\n",
       "        vertical-align: top;\n",
       "    }\n",
       "\n",
       "    .dataframe thead th {\n",
       "        text-align: right;\n",
       "    }\n",
       "</style>\n",
       "<table border=\"1\" class=\"dataframe\">\n",
       "  <thead>\n",
       "    <tr style=\"text-align: right;\">\n",
       "      <th></th>\n",
       "      <th>0</th>\n",
       "      <th>1</th>\n",
       "      <th>accuracy</th>\n",
       "      <th>macro avg</th>\n",
       "      <th>weighted avg</th>\n",
       "    </tr>\n",
       "  </thead>\n",
       "  <tbody>\n",
       "    <tr>\n",
       "      <th>precision</th>\n",
       "      <td>0.824095</td>\n",
       "      <td>0.624260</td>\n",
       "      <td>0.784151</td>\n",
       "      <td>0.724177</td>\n",
       "      <td>0.771034</td>\n",
       "    </tr>\n",
       "    <tr>\n",
       "      <th>recall</th>\n",
       "      <td>0.897746</td>\n",
       "      <td>0.469933</td>\n",
       "      <td>0.784151</td>\n",
       "      <td>0.683839</td>\n",
       "      <td>0.784151</td>\n",
       "    </tr>\n",
       "    <tr>\n",
       "      <th>f1-score</th>\n",
       "      <td>0.859345</td>\n",
       "      <td>0.536213</td>\n",
       "      <td>0.784151</td>\n",
       "      <td>0.697779</td>\n",
       "      <td>0.773546</td>\n",
       "    </tr>\n",
       "    <tr>\n",
       "      <th>support</th>\n",
       "      <td>1242.000000</td>\n",
       "      <td>449.000000</td>\n",
       "      <td>0.784151</td>\n",
       "      <td>1691.000000</td>\n",
       "      <td>1691.000000</td>\n",
       "    </tr>\n",
       "  </tbody>\n",
       "</table>\n",
       "</div>"
      ],
      "text/plain": [
       "                     0           1  accuracy    macro avg  weighted avg\n",
       "precision     0.824095    0.624260  0.784151     0.724177      0.771034\n",
       "recall        0.897746    0.469933  0.784151     0.683839      0.784151\n",
       "f1-score      0.859345    0.536213  0.784151     0.697779      0.773546\n",
       "support    1242.000000  449.000000  0.784151  1691.000000   1691.000000"
      ]
     },
     "execution_count": 108,
     "metadata": {},
     "output_type": "execute_result"
    }
   ],
   "source": [
    "# classification report for rf3_8 on validate set\n",
    "evaluation.class_report(y_val, rf3_8_val_preds)"
   ]
  },
  {
   "cell_type": "markdown",
   "id": "3e3cb51e",
   "metadata": {},
   "source": [
    "### dt3"
   ]
  },
  {
   "cell_type": "code",
   "execution_count": 109,
   "id": "04bd46f0",
   "metadata": {},
   "outputs": [],
   "source": [
    "dt3_train_preds = dt3.predict(X_train)"
   ]
  },
  {
   "cell_type": "code",
   "execution_count": 110,
   "id": "da5235b8",
   "metadata": {},
   "outputs": [
    {
     "name": "stdout",
     "output_type": "stream",
     "text": [
      "\n",
      "    Accuracy: 0.9982247020035506\n",
      "    True Positive Rate: 0.9975895316804407\n",
      "    True Negative Rate: 1.0\n",
      "    False Positive Rate: 0.0\n",
      "    False Negative Rate: 0.0024104683195592287\n",
      "    Precision : 1.0\n",
      "    f1 score: 0.9987933114980176\n",
      "    supports: 0: 2897 1: 1046\n",
      "    \n"
     ]
    }
   ],
   "source": [
    "# Evaluation metrics for rt3 on train dataset\n",
    "evaluation.get_metrics(y_train, dt3_train_preds, train)"
   ]
  },
  {
   "cell_type": "code",
   "execution_count": 111,
   "id": "897ae515",
   "metadata": {},
   "outputs": [
    {
     "data": {
      "text/html": [
       "<div>\n",
       "<style scoped>\n",
       "    .dataframe tbody tr th:only-of-type {\n",
       "        vertical-align: middle;\n",
       "    }\n",
       "\n",
       "    .dataframe tbody tr th {\n",
       "        vertical-align: top;\n",
       "    }\n",
       "\n",
       "    .dataframe thead th {\n",
       "        text-align: right;\n",
       "    }\n",
       "</style>\n",
       "<table border=\"1\" class=\"dataframe\">\n",
       "  <thead>\n",
       "    <tr style=\"text-align: right;\">\n",
       "      <th></th>\n",
       "      <th>pred_0</th>\n",
       "      <th>pred_1</th>\n",
       "    </tr>\n",
       "  </thead>\n",
       "  <tbody>\n",
       "    <tr>\n",
       "      <th>actual_0</th>\n",
       "      <td>True Positive: 2897</td>\n",
       "      <td>False Positive: 0</td>\n",
       "    </tr>\n",
       "    <tr>\n",
       "      <th>actual_1</th>\n",
       "      <td>False Positive: 7</td>\n",
       "      <td>True Negative: 1039</td>\n",
       "    </tr>\n",
       "  </tbody>\n",
       "</table>\n",
       "</div>"
      ],
      "text/plain": [
       "                       pred_0               pred_1\n",
       "actual_0  True Positive: 2897    False Positive: 0\n",
       "actual_1    False Positive: 7  True Negative: 1039"
      ]
     },
     "execution_count": 111,
     "metadata": {},
     "output_type": "execute_result"
    }
   ],
   "source": [
    "# Confusion matrix for rt3 on train dataset\n",
    "evaluation.conf_matrix(y_train, dt3_train_preds)"
   ]
  },
  {
   "cell_type": "code",
   "execution_count": 112,
   "id": "6253139d",
   "metadata": {},
   "outputs": [
    {
     "data": {
      "text/html": [
       "<div>\n",
       "<style scoped>\n",
       "    .dataframe tbody tr th:only-of-type {\n",
       "        vertical-align: middle;\n",
       "    }\n",
       "\n",
       "    .dataframe tbody tr th {\n",
       "        vertical-align: top;\n",
       "    }\n",
       "\n",
       "    .dataframe thead th {\n",
       "        text-align: right;\n",
       "    }\n",
       "</style>\n",
       "<table border=\"1\" class=\"dataframe\">\n",
       "  <thead>\n",
       "    <tr style=\"text-align: right;\">\n",
       "      <th></th>\n",
       "      <th>0</th>\n",
       "      <th>1</th>\n",
       "      <th>accuracy</th>\n",
       "      <th>macro avg</th>\n",
       "      <th>weighted avg</th>\n",
       "    </tr>\n",
       "  </thead>\n",
       "  <tbody>\n",
       "    <tr>\n",
       "      <th>precision</th>\n",
       "      <td>0.997590</td>\n",
       "      <td>1.000000</td>\n",
       "      <td>0.998225</td>\n",
       "      <td>0.998795</td>\n",
       "      <td>0.998229</td>\n",
       "    </tr>\n",
       "    <tr>\n",
       "      <th>recall</th>\n",
       "      <td>1.000000</td>\n",
       "      <td>0.993308</td>\n",
       "      <td>0.998225</td>\n",
       "      <td>0.996654</td>\n",
       "      <td>0.998225</td>\n",
       "    </tr>\n",
       "    <tr>\n",
       "      <th>f1-score</th>\n",
       "      <td>0.998793</td>\n",
       "      <td>0.996643</td>\n",
       "      <td>0.998225</td>\n",
       "      <td>0.997718</td>\n",
       "      <td>0.998223</td>\n",
       "    </tr>\n",
       "    <tr>\n",
       "      <th>support</th>\n",
       "      <td>2897.000000</td>\n",
       "      <td>1046.000000</td>\n",
       "      <td>0.998225</td>\n",
       "      <td>3943.000000</td>\n",
       "      <td>3943.000000</td>\n",
       "    </tr>\n",
       "  </tbody>\n",
       "</table>\n",
       "</div>"
      ],
      "text/plain": [
       "                     0            1  accuracy    macro avg  weighted avg\n",
       "precision     0.997590     1.000000  0.998225     0.998795      0.998229\n",
       "recall        1.000000     0.993308  0.998225     0.996654      0.998225\n",
       "f1-score      0.998793     0.996643  0.998225     0.997718      0.998223\n",
       "support    2897.000000  1046.000000  0.998225  3943.000000   3943.000000"
      ]
     },
     "execution_count": 112,
     "metadata": {},
     "output_type": "execute_result"
    }
   ],
   "source": [
    "# Classification report for rt3 \n",
    "evaluation.class_report(y_train, dt3_train_preds)"
   ]
  },
  {
   "cell_type": "code",
   "execution_count": 113,
   "id": "7bee20ec",
   "metadata": {},
   "outputs": [],
   "source": [
    "# Calculating predictions on the validate dataset\n",
    "dt3_val_preds = dt3.predict(X_val)"
   ]
  },
  {
   "cell_type": "code",
   "execution_count": 114,
   "id": "589a8069",
   "metadata": {},
   "outputs": [
    {
     "name": "stdout",
     "output_type": "stream",
     "text": [
      "\n",
      "    Accuracy: 0.719692489651094\n",
      "    True Positive Rate: 0.8210702341137124\n",
      "    True Negative Rate: 0.47474747474747475\n",
      "    False Positive Rate: 0.5252525252525253\n",
      "    False Negative Rate: 0.17892976588628762\n",
      "    Precision : 0.7906602254428341\n",
      "    f1 score: 0.8055783429040196\n",
      "    supports: 0: 1242 1: 449\n",
      "    \n"
     ]
    }
   ],
   "source": [
    "# Evaluation metrics for rt3\n",
    "evaluation.get_metrics(y_val, dt3_val_preds, validate)"
   ]
  },
  {
   "cell_type": "code",
   "execution_count": 115,
   "id": "ee509b24",
   "metadata": {},
   "outputs": [
    {
     "data": {
      "text/html": [
       "<div>\n",
       "<style scoped>\n",
       "    .dataframe tbody tr th:only-of-type {\n",
       "        vertical-align: middle;\n",
       "    }\n",
       "\n",
       "    .dataframe tbody tr th {\n",
       "        vertical-align: top;\n",
       "    }\n",
       "\n",
       "    .dataframe thead th {\n",
       "        text-align: right;\n",
       "    }\n",
       "</style>\n",
       "<table border=\"1\" class=\"dataframe\">\n",
       "  <thead>\n",
       "    <tr style=\"text-align: right;\">\n",
       "      <th></th>\n",
       "      <th>pred_0</th>\n",
       "      <th>pred_1</th>\n",
       "    </tr>\n",
       "  </thead>\n",
       "  <tbody>\n",
       "    <tr>\n",
       "      <th>actual_0</th>\n",
       "      <td>True Positive: 982</td>\n",
       "      <td>False Positive: 260</td>\n",
       "    </tr>\n",
       "    <tr>\n",
       "      <th>actual_1</th>\n",
       "      <td>False Positive: 214</td>\n",
       "      <td>True Negative: 235</td>\n",
       "    </tr>\n",
       "  </tbody>\n",
       "</table>\n",
       "</div>"
      ],
      "text/plain": [
       "                       pred_0               pred_1\n",
       "actual_0   True Positive: 982  False Positive: 260\n",
       "actual_1  False Positive: 214   True Negative: 235"
      ]
     },
     "execution_count": 115,
     "metadata": {},
     "output_type": "execute_result"
    }
   ],
   "source": [
    "# Confustion matrix for rt3 validation predictions\n",
    "evaluation.conf_matrix(y_val, dt3_val_preds)"
   ]
  },
  {
   "cell_type": "code",
   "execution_count": 116,
   "id": "4bd2f8a7",
   "metadata": {},
   "outputs": [
    {
     "data": {
      "text/html": [
       "<div>\n",
       "<style scoped>\n",
       "    .dataframe tbody tr th:only-of-type {\n",
       "        vertical-align: middle;\n",
       "    }\n",
       "\n",
       "    .dataframe tbody tr th {\n",
       "        vertical-align: top;\n",
       "    }\n",
       "\n",
       "    .dataframe thead th {\n",
       "        text-align: right;\n",
       "    }\n",
       "</style>\n",
       "<table border=\"1\" class=\"dataframe\">\n",
       "  <thead>\n",
       "    <tr style=\"text-align: right;\">\n",
       "      <th></th>\n",
       "      <th>0</th>\n",
       "      <th>1</th>\n",
       "      <th>accuracy</th>\n",
       "      <th>macro avg</th>\n",
       "      <th>weighted avg</th>\n",
       "    </tr>\n",
       "  </thead>\n",
       "  <tbody>\n",
       "    <tr>\n",
       "      <th>precision</th>\n",
       "      <td>0.821070</td>\n",
       "      <td>0.474747</td>\n",
       "      <td>0.719692</td>\n",
       "      <td>0.647909</td>\n",
       "      <td>0.729113</td>\n",
       "    </tr>\n",
       "    <tr>\n",
       "      <th>recall</th>\n",
       "      <td>0.790660</td>\n",
       "      <td>0.523385</td>\n",
       "      <td>0.719692</td>\n",
       "      <td>0.657023</td>\n",
       "      <td>0.719692</td>\n",
       "    </tr>\n",
       "    <tr>\n",
       "      <th>f1-score</th>\n",
       "      <td>0.805578</td>\n",
       "      <td>0.497881</td>\n",
       "      <td>0.719692</td>\n",
       "      <td>0.651730</td>\n",
       "      <td>0.723878</td>\n",
       "    </tr>\n",
       "    <tr>\n",
       "      <th>support</th>\n",
       "      <td>1242.000000</td>\n",
       "      <td>449.000000</td>\n",
       "      <td>0.719692</td>\n",
       "      <td>1691.000000</td>\n",
       "      <td>1691.000000</td>\n",
       "    </tr>\n",
       "  </tbody>\n",
       "</table>\n",
       "</div>"
      ],
      "text/plain": [
       "                     0           1  accuracy    macro avg  weighted avg\n",
       "precision     0.821070    0.474747  0.719692     0.647909      0.729113\n",
       "recall        0.790660    0.523385  0.719692     0.657023      0.719692\n",
       "f1-score      0.805578    0.497881  0.719692     0.651730      0.723878\n",
       "support    1242.000000  449.000000  0.719692  1691.000000   1691.000000"
      ]
     },
     "execution_count": 116,
     "metadata": {},
     "output_type": "execute_result"
    }
   ],
   "source": [
    "# Classification report for rt3 validation predictions\n",
    "evaluation.class_report(y_val, dt3_val_preds)"
   ]
  },
  {
   "cell_type": "markdown",
   "id": "b957b1ca",
   "metadata": {},
   "source": [
    "### lr1"
   ]
  },
  {
   "cell_type": "code",
   "execution_count": 117,
   "id": "32706d81",
   "metadata": {},
   "outputs": [],
   "source": [
    "lr1_train_preds = lr1.predict(X_train)"
   ]
  },
  {
   "cell_type": "code",
   "execution_count": 118,
   "id": "0d98c867",
   "metadata": {},
   "outputs": [
    {
     "name": "stdout",
     "output_type": "stream",
     "text": [
      "\n",
      "    Accuracy: 0.8201876743596247\n",
      "    True Positive Rate: 0.859395532194481\n",
      "    True Negative Rate: 0.6874304783092324\n",
      "    False Positive Rate: 0.3125695216907675\n",
      "    False Negative Rate: 0.14060446780551905\n",
      "    Precision : 0.9030031066620642\n",
      "    f1 score: 0.8806598215788588\n",
      "    supports: 0: 2897 1: 1046\n",
      "    \n"
     ]
    }
   ],
   "source": [
    "evaluation.get_metrics(y_train, lr1_train_preds, train)"
   ]
  },
  {
   "cell_type": "code",
   "execution_count": 119,
   "id": "d1c09704",
   "metadata": {},
   "outputs": [
    {
     "data": {
      "text/html": [
       "<div>\n",
       "<style scoped>\n",
       "    .dataframe tbody tr th:only-of-type {\n",
       "        vertical-align: middle;\n",
       "    }\n",
       "\n",
       "    .dataframe tbody tr th {\n",
       "        vertical-align: top;\n",
       "    }\n",
       "\n",
       "    .dataframe thead th {\n",
       "        text-align: right;\n",
       "    }\n",
       "</style>\n",
       "<table border=\"1\" class=\"dataframe\">\n",
       "  <thead>\n",
       "    <tr style=\"text-align: right;\">\n",
       "      <th></th>\n",
       "      <th>pred_0</th>\n",
       "      <th>pred_1</th>\n",
       "    </tr>\n",
       "  </thead>\n",
       "  <tbody>\n",
       "    <tr>\n",
       "      <th>actual_0</th>\n",
       "      <td>True Positive: 2616</td>\n",
       "      <td>False Positive: 281</td>\n",
       "    </tr>\n",
       "    <tr>\n",
       "      <th>actual_1</th>\n",
       "      <td>False Positive: 428</td>\n",
       "      <td>True Negative: 618</td>\n",
       "    </tr>\n",
       "  </tbody>\n",
       "</table>\n",
       "</div>"
      ],
      "text/plain": [
       "                       pred_0               pred_1\n",
       "actual_0  True Positive: 2616  False Positive: 281\n",
       "actual_1  False Positive: 428   True Negative: 618"
      ]
     },
     "execution_count": 119,
     "metadata": {},
     "output_type": "execute_result"
    }
   ],
   "source": [
    "evaluation.conf_matrix(y_train, lr1_train_preds)"
   ]
  },
  {
   "cell_type": "code",
   "execution_count": 120,
   "id": "a22f8662",
   "metadata": {},
   "outputs": [
    {
     "data": {
      "text/html": [
       "<div>\n",
       "<style scoped>\n",
       "    .dataframe tbody tr th:only-of-type {\n",
       "        vertical-align: middle;\n",
       "    }\n",
       "\n",
       "    .dataframe tbody tr th {\n",
       "        vertical-align: top;\n",
       "    }\n",
       "\n",
       "    .dataframe thead th {\n",
       "        text-align: right;\n",
       "    }\n",
       "</style>\n",
       "<table border=\"1\" class=\"dataframe\">\n",
       "  <thead>\n",
       "    <tr style=\"text-align: right;\">\n",
       "      <th></th>\n",
       "      <th>0</th>\n",
       "      <th>1</th>\n",
       "      <th>accuracy</th>\n",
       "      <th>macro avg</th>\n",
       "      <th>weighted avg</th>\n",
       "    </tr>\n",
       "  </thead>\n",
       "  <tbody>\n",
       "    <tr>\n",
       "      <th>precision</th>\n",
       "      <td>0.859396</td>\n",
       "      <td>0.687430</td>\n",
       "      <td>0.820188</td>\n",
       "      <td>0.773413</td>\n",
       "      <td>0.813777</td>\n",
       "    </tr>\n",
       "    <tr>\n",
       "      <th>recall</th>\n",
       "      <td>0.903003</td>\n",
       "      <td>0.590822</td>\n",
       "      <td>0.820188</td>\n",
       "      <td>0.746913</td>\n",
       "      <td>0.820188</td>\n",
       "    </tr>\n",
       "    <tr>\n",
       "      <th>f1-score</th>\n",
       "      <td>0.880660</td>\n",
       "      <td>0.635476</td>\n",
       "      <td>0.820188</td>\n",
       "      <td>0.758068</td>\n",
       "      <td>0.815617</td>\n",
       "    </tr>\n",
       "    <tr>\n",
       "      <th>support</th>\n",
       "      <td>2897.000000</td>\n",
       "      <td>1046.000000</td>\n",
       "      <td>0.820188</td>\n",
       "      <td>3943.000000</td>\n",
       "      <td>3943.000000</td>\n",
       "    </tr>\n",
       "  </tbody>\n",
       "</table>\n",
       "</div>"
      ],
      "text/plain": [
       "                     0            1  accuracy    macro avg  weighted avg\n",
       "precision     0.859396     0.687430  0.820188     0.773413      0.813777\n",
       "recall        0.903003     0.590822  0.820188     0.746913      0.820188\n",
       "f1-score      0.880660     0.635476  0.820188     0.758068      0.815617\n",
       "support    2897.000000  1046.000000  0.820188  3943.000000   3943.000000"
      ]
     },
     "execution_count": 120,
     "metadata": {},
     "output_type": "execute_result"
    }
   ],
   "source": [
    "evaluation.class_report(y_train, lr1_train_preds)"
   ]
  },
  {
   "cell_type": "code",
   "execution_count": 121,
   "id": "58d2055b",
   "metadata": {},
   "outputs": [],
   "source": [
    "lr1_val_preds = lr1.predict(X_val)"
   ]
  },
  {
   "cell_type": "code",
   "execution_count": 122,
   "id": "fd744e2f",
   "metadata": {},
   "outputs": [
    {
     "name": "stdout",
     "output_type": "stream",
     "text": [
      "\n",
      "    Accuracy: 0.7894736842105263\n",
      "    True Positive Rate: 0.8361153262518968\n",
      "    True Negative Rate: 0.6246648793565683\n",
      "    False Positive Rate: 0.3753351206434316\n",
      "    False Negative Rate: 0.1638846737481032\n",
      "    Precision : 0.8872785829307569\n",
      "    f1 score: 0.8609374999999999\n",
      "    supports: 0: 1242 1: 449\n",
      "    \n"
     ]
    }
   ],
   "source": [
    "evaluation.get_metrics(y_val, lr1_val_preds, validate)"
   ]
  },
  {
   "cell_type": "code",
   "execution_count": 123,
   "id": "9f956b4f",
   "metadata": {},
   "outputs": [
    {
     "data": {
      "text/html": [
       "<div>\n",
       "<style scoped>\n",
       "    .dataframe tbody tr th:only-of-type {\n",
       "        vertical-align: middle;\n",
       "    }\n",
       "\n",
       "    .dataframe tbody tr th {\n",
       "        vertical-align: top;\n",
       "    }\n",
       "\n",
       "    .dataframe thead th {\n",
       "        text-align: right;\n",
       "    }\n",
       "</style>\n",
       "<table border=\"1\" class=\"dataframe\">\n",
       "  <thead>\n",
       "    <tr style=\"text-align: right;\">\n",
       "      <th></th>\n",
       "      <th>pred_0</th>\n",
       "      <th>pred_1</th>\n",
       "    </tr>\n",
       "  </thead>\n",
       "  <tbody>\n",
       "    <tr>\n",
       "      <th>actual_0</th>\n",
       "      <td>True Positive: 1102</td>\n",
       "      <td>False Positive: 140</td>\n",
       "    </tr>\n",
       "    <tr>\n",
       "      <th>actual_1</th>\n",
       "      <td>False Positive: 216</td>\n",
       "      <td>True Negative: 233</td>\n",
       "    </tr>\n",
       "  </tbody>\n",
       "</table>\n",
       "</div>"
      ],
      "text/plain": [
       "                       pred_0               pred_1\n",
       "actual_0  True Positive: 1102  False Positive: 140\n",
       "actual_1  False Positive: 216   True Negative: 233"
      ]
     },
     "execution_count": 123,
     "metadata": {},
     "output_type": "execute_result"
    }
   ],
   "source": [
    "evaluation.conf_matrix(y_val, lr1_val_preds)"
   ]
  },
  {
   "cell_type": "code",
   "execution_count": 124,
   "id": "79132df2",
   "metadata": {},
   "outputs": [
    {
     "data": {
      "text/html": [
       "<div>\n",
       "<style scoped>\n",
       "    .dataframe tbody tr th:only-of-type {\n",
       "        vertical-align: middle;\n",
       "    }\n",
       "\n",
       "    .dataframe tbody tr th {\n",
       "        vertical-align: top;\n",
       "    }\n",
       "\n",
       "    .dataframe thead th {\n",
       "        text-align: right;\n",
       "    }\n",
       "</style>\n",
       "<table border=\"1\" class=\"dataframe\">\n",
       "  <thead>\n",
       "    <tr style=\"text-align: right;\">\n",
       "      <th></th>\n",
       "      <th>0</th>\n",
       "      <th>1</th>\n",
       "      <th>accuracy</th>\n",
       "      <th>macro avg</th>\n",
       "      <th>weighted avg</th>\n",
       "    </tr>\n",
       "  </thead>\n",
       "  <tbody>\n",
       "    <tr>\n",
       "      <th>precision</th>\n",
       "      <td>0.836115</td>\n",
       "      <td>0.624665</td>\n",
       "      <td>0.789474</td>\n",
       "      <td>0.730390</td>\n",
       "      <td>0.779970</td>\n",
       "    </tr>\n",
       "    <tr>\n",
       "      <th>recall</th>\n",
       "      <td>0.887279</td>\n",
       "      <td>0.518931</td>\n",
       "      <td>0.789474</td>\n",
       "      <td>0.703105</td>\n",
       "      <td>0.789474</td>\n",
       "    </tr>\n",
       "    <tr>\n",
       "      <th>f1-score</th>\n",
       "      <td>0.860937</td>\n",
       "      <td>0.566910</td>\n",
       "      <td>0.789474</td>\n",
       "      <td>0.713924</td>\n",
       "      <td>0.782866</td>\n",
       "    </tr>\n",
       "    <tr>\n",
       "      <th>support</th>\n",
       "      <td>1242.000000</td>\n",
       "      <td>449.000000</td>\n",
       "      <td>0.789474</td>\n",
       "      <td>1691.000000</td>\n",
       "      <td>1691.000000</td>\n",
       "    </tr>\n",
       "  </tbody>\n",
       "</table>\n",
       "</div>"
      ],
      "text/plain": [
       "                     0           1  accuracy    macro avg  weighted avg\n",
       "precision     0.836115    0.624665  0.789474     0.730390      0.779970\n",
       "recall        0.887279    0.518931  0.789474     0.703105      0.789474\n",
       "f1-score      0.860937    0.566910  0.789474     0.713924      0.782866\n",
       "support    1242.000000  449.000000  0.789474  1691.000000   1691.000000"
      ]
     },
     "execution_count": 124,
     "metadata": {},
     "output_type": "execute_result"
    }
   ],
   "source": [
    "evaluation.class_report(y_val, lr1_val_preds)"
   ]
  },
  {
   "cell_type": "markdown",
   "id": "954a5bd6",
   "metadata": {},
   "source": [
    "For this particular question of trying to predict churn, I think the evaluation metric of F1 score."
   ]
  },
  {
   "cell_type": "code",
   "execution_count": 125,
   "id": "83559da7",
   "metadata": {},
   "outputs": [
    {
     "name": "stdout",
     "output_type": "stream",
     "text": [
      "\n",
      "        Evaluation Metrics on the Validate Dataset\n",
      "_____________________________________________________________\n",
      "\n",
      "    Random Forest Model, max_depth=8, min_samples_leaf=3:\n",
      "_____________________________________________________________\n",
      "\n",
      "    Accuracy: 0.7841513897102307\n",
      "    True Positive Rate: 0.8240946045824095\n",
      "    True Negative Rate: 0.6242603550295858\n",
      "    False Positive Rate: 0.3757396449704142\n",
      "    False Negative Rate: 0.17590539541759054\n",
      "    Precision : 0.8977455716586151\n",
      "    f1 score: 0.8593448940269749\n",
      "    supports: 0: 1242 1: 449\n",
      "    \n",
      "None\n",
      "_____________________________________________________________\n",
      "_____________________________________________________________\n",
      "\n",
      "                 Decision Tree , max_depth=3\n",
      "_____________________________________________________________\n",
      "\n",
      "    Accuracy: 0.719692489651094\n",
      "    True Positive Rate: 0.8210702341137124\n",
      "    True Negative Rate: 0.47474747474747475\n",
      "    False Positive Rate: 0.5252525252525253\n",
      "    False Negative Rate: 0.17892976588628762\n",
      "    Precision : 0.7906602254428341\n",
      "    f1 score: 0.8055783429040196\n",
      "    supports: 0: 1242 1: 449\n",
      "    \n",
      "None\n",
      "_____________________________________________________________\n",
      "_____________________________________________________________\n",
      "\n",
      "                  Logistic Regression Model\n",
      "_____________________________________________________________\n",
      "\n",
      "    Accuracy: 0.7894736842105263\n",
      "    True Positive Rate: 0.8361153262518968\n",
      "    True Negative Rate: 0.6246648793565683\n",
      "    False Positive Rate: 0.3753351206434316\n",
      "    False Negative Rate: 0.1638846737481032\n",
      "    Precision : 0.8872785829307569\n",
      "    f1 score: 0.8609374999999999\n",
      "    supports: 0: 1242 1: 449\n",
      "    \n",
      "None\n"
     ]
    }
   ],
   "source": [
    "print()\n",
    "print('        Evaluation Metrics on the Validate Dataset')\n",
    "print('_____________________________________________________________')\n",
    "print()\n",
    "print('    Random Forest Model, max_depth=8, min_samples_leaf=3:')\n",
    "print('_____________________________________________________________')\n",
    "print(evaluation.get_metrics(y_val, rf3_8_val_preds, validate))\n",
    "print('_____________________________________________________________')\n",
    "print('_____________________________________________________________')\n",
    "print()\n",
    "print('                 Decision Tree , max_depth=3')\n",
    "print('_____________________________________________________________')\n",
    "print(evaluation.get_metrics(y_val, dt3_val_preds, validate))\n",
    "print('_____________________________________________________________')\n",
    "print('_____________________________________________________________')\n",
    "print()\n",
    "print('                  Logistic Regression Model')\n",
    "print('_____________________________________________________________')\n",
    "print(evaluation.get_metrics(y_val, lr1_val_preds, validate))"
   ]
  },
  {
   "cell_type": "markdown",
   "id": "85658dd8",
   "metadata": {},
   "source": [
    "#### NOW WE TEST ON OUR RANDOM FOREST :)"
   ]
  },
  {
   "cell_type": "code",
   "execution_count": 126,
   "id": "ac354b92",
   "metadata": {},
   "outputs": [],
   "source": [
    "rf3_8_test_preds = rf3_8.predict(X_test)"
   ]
  },
  {
   "cell_type": "code",
   "execution_count": 127,
   "id": "b7cbfa92",
   "metadata": {},
   "outputs": [
    {
     "name": "stdout",
     "output_type": "stream",
     "text": [
      "\n",
      "    Accuracy: 0.7757274662881476\n",
      "    True Positive Rate: 0.8277119416590701\n",
      "    True Negative Rate: 0.592948717948718\n",
      "    False Positive Rate: 0.40705128205128205\n",
      "    False Negative Rate: 0.1722880583409298\n",
      "    Precision : 0.8772946859903382\n",
      "    f1 score: 0.851782363977486\n",
      "    supports: 0: 1035 1: 374\n",
      "    \n"
     ]
    }
   ],
   "source": [
    "evaluation.get_metrics(y_test, rf3_8_test_preds, test)"
   ]
  },
  {
   "cell_type": "code",
   "execution_count": 128,
   "id": "5f39f55c",
   "metadata": {},
   "outputs": [
    {
     "data": {
      "text/html": [
       "<div>\n",
       "<style scoped>\n",
       "    .dataframe tbody tr th:only-of-type {\n",
       "        vertical-align: middle;\n",
       "    }\n",
       "\n",
       "    .dataframe tbody tr th {\n",
       "        vertical-align: top;\n",
       "    }\n",
       "\n",
       "    .dataframe thead th {\n",
       "        text-align: right;\n",
       "    }\n",
       "</style>\n",
       "<table border=\"1\" class=\"dataframe\">\n",
       "  <thead>\n",
       "    <tr style=\"text-align: right;\">\n",
       "      <th></th>\n",
       "      <th>pred_0</th>\n",
       "      <th>pred_1</th>\n",
       "    </tr>\n",
       "  </thead>\n",
       "  <tbody>\n",
       "    <tr>\n",
       "      <th>actual_0</th>\n",
       "      <td>True Positive: 908</td>\n",
       "      <td>False Positive: 127</td>\n",
       "    </tr>\n",
       "    <tr>\n",
       "      <th>actual_1</th>\n",
       "      <td>False Positive: 189</td>\n",
       "      <td>True Negative: 185</td>\n",
       "    </tr>\n",
       "  </tbody>\n",
       "</table>\n",
       "</div>"
      ],
      "text/plain": [
       "                       pred_0               pred_1\n",
       "actual_0   True Positive: 908  False Positive: 127\n",
       "actual_1  False Positive: 189   True Negative: 185"
      ]
     },
     "execution_count": 128,
     "metadata": {},
     "output_type": "execute_result"
    }
   ],
   "source": [
    "evaluation.conf_matrix(y_test, rf3_8_test_preds)"
   ]
  },
  {
   "cell_type": "code",
   "execution_count": 129,
   "id": "d1ae38a0",
   "metadata": {},
   "outputs": [
    {
     "data": {
      "text/html": [
       "<div>\n",
       "<style scoped>\n",
       "    .dataframe tbody tr th:only-of-type {\n",
       "        vertical-align: middle;\n",
       "    }\n",
       "\n",
       "    .dataframe tbody tr th {\n",
       "        vertical-align: top;\n",
       "    }\n",
       "\n",
       "    .dataframe thead th {\n",
       "        text-align: right;\n",
       "    }\n",
       "</style>\n",
       "<table border=\"1\" class=\"dataframe\">\n",
       "  <thead>\n",
       "    <tr style=\"text-align: right;\">\n",
       "      <th></th>\n",
       "      <th>0</th>\n",
       "      <th>1</th>\n",
       "      <th>accuracy</th>\n",
       "      <th>macro avg</th>\n",
       "      <th>weighted avg</th>\n",
       "    </tr>\n",
       "  </thead>\n",
       "  <tbody>\n",
       "    <tr>\n",
       "      <th>precision</th>\n",
       "      <td>0.827712</td>\n",
       "      <td>0.592949</td>\n",
       "      <td>0.775727</td>\n",
       "      <td>0.710330</td>\n",
       "      <td>0.765397</td>\n",
       "    </tr>\n",
       "    <tr>\n",
       "      <th>recall</th>\n",
       "      <td>0.877295</td>\n",
       "      <td>0.494652</td>\n",
       "      <td>0.775727</td>\n",
       "      <td>0.685974</td>\n",
       "      <td>0.775727</td>\n",
       "    </tr>\n",
       "    <tr>\n",
       "      <th>f1-score</th>\n",
       "      <td>0.851782</td>\n",
       "      <td>0.539359</td>\n",
       "      <td>0.775727</td>\n",
       "      <td>0.695570</td>\n",
       "      <td>0.768854</td>\n",
       "    </tr>\n",
       "    <tr>\n",
       "      <th>support</th>\n",
       "      <td>1035.000000</td>\n",
       "      <td>374.000000</td>\n",
       "      <td>0.775727</td>\n",
       "      <td>1409.000000</td>\n",
       "      <td>1409.000000</td>\n",
       "    </tr>\n",
       "  </tbody>\n",
       "</table>\n",
       "</div>"
      ],
      "text/plain": [
       "                     0           1  accuracy    macro avg  weighted avg\n",
       "precision     0.827712    0.592949  0.775727     0.710330      0.765397\n",
       "recall        0.877295    0.494652  0.775727     0.685974      0.775727\n",
       "f1-score      0.851782    0.539359  0.775727     0.695570      0.768854\n",
       "support    1035.000000  374.000000  0.775727  1409.000000   1409.000000"
      ]
     },
     "execution_count": 129,
     "metadata": {},
     "output_type": "execute_result"
    }
   ],
   "source": [
    "evaluation.class_report(y_test, rf3_8_test_preds)"
   ]
  },
  {
   "cell_type": "code",
   "execution_count": 151,
   "id": "cceedbd5",
   "metadata": {},
   "outputs": [],
   "source": [
    "account_nums = pd.DataFrame(ct['customer_id'])\n"
   ]
  },
  {
   "cell_type": "code",
   "execution_count": 215,
   "id": "6f9b907c",
   "metadata": {},
   "outputs": [
    {
     "data": {
      "text/html": [
       "<div>\n",
       "<style scoped>\n",
       "    .dataframe tbody tr th:only-of-type {\n",
       "        vertical-align: middle;\n",
       "    }\n",
       "\n",
       "    .dataframe tbody tr th {\n",
       "        vertical-align: top;\n",
       "    }\n",
       "\n",
       "    .dataframe thead th {\n",
       "        text-align: right;\n",
       "    }\n",
       "</style>\n",
       "<table border=\"1\" class=\"dataframe\">\n",
       "  <thead>\n",
       "    <tr style=\"text-align: right;\">\n",
       "      <th></th>\n",
       "      <th>churn</th>\n",
       "    </tr>\n",
       "  </thead>\n",
       "  <tbody>\n",
       "    <tr>\n",
       "      <th>1247</th>\n",
       "      <td>0</td>\n",
       "    </tr>\n",
       "    <tr>\n",
       "      <th>7011</th>\n",
       "      <td>0</td>\n",
       "    </tr>\n",
       "    <tr>\n",
       "      <th>2647</th>\n",
       "      <td>0</td>\n",
       "    </tr>\n",
       "    <tr>\n",
       "      <th>6149</th>\n",
       "      <td>0</td>\n",
       "    </tr>\n",
       "    <tr>\n",
       "      <th>5797</th>\n",
       "      <td>0</td>\n",
       "    </tr>\n",
       "    <tr>\n",
       "      <th>...</th>\n",
       "      <td>...</td>\n",
       "    </tr>\n",
       "    <tr>\n",
       "      <th>6534</th>\n",
       "      <td>0</td>\n",
       "    </tr>\n",
       "    <tr>\n",
       "      <th>2010</th>\n",
       "      <td>0</td>\n",
       "    </tr>\n",
       "    <tr>\n",
       "      <th>570</th>\n",
       "      <td>0</td>\n",
       "    </tr>\n",
       "    <tr>\n",
       "      <th>362</th>\n",
       "      <td>0</td>\n",
       "    </tr>\n",
       "    <tr>\n",
       "      <th>6910</th>\n",
       "      <td>0</td>\n",
       "    </tr>\n",
       "  </tbody>\n",
       "</table>\n",
       "<p>1409 rows × 1 columns</p>\n",
       "</div>"
      ],
      "text/plain": [
       "      churn\n",
       "1247      0\n",
       "7011      0\n",
       "2647      0\n",
       "6149      0\n",
       "5797      0\n",
       "...     ...\n",
       "6534      0\n",
       "2010      0\n",
       "570       0\n",
       "362       0\n",
       "6910      0\n",
       "\n",
       "[1409 rows x 1 columns]"
      ]
     },
     "execution_count": 215,
     "metadata": {},
     "output_type": "execute_result"
    }
   ],
   "source": [
    "y_test_df = pd.DataFrame(y_test)\n",
    "y_test_df"
   ]
  },
  {
   "cell_type": "code",
   "execution_count": 223,
   "id": "7e4615f4",
   "metadata": {},
   "outputs": [
    {
     "data": {
      "text/plain": [
       "<IntegerArray>\n",
       "[1, 0, 0, 0, 0, 0, 1, 0, 0, 0,\n",
       " ...\n",
       " 0, 0, 0, 1, 0, 0, 0, 0, 0, 0]\n",
       "Length: 1409, dtype: Int64"
      ]
     },
     "execution_count": 223,
     "metadata": {},
     "output_type": "execute_result"
    }
   ],
   "source": [
    "rf3_8_preds = pd.array(rf3_8_test_preds)\n",
    "rf3_8_preds"
   ]
  },
  {
   "cell_type": "code",
   "execution_count": 235,
   "id": "f30e9baf",
   "metadata": {},
   "outputs": [
    {
     "data": {
      "text/html": [
       "<div>\n",
       "<style scoped>\n",
       "    .dataframe tbody tr th:only-of-type {\n",
       "        vertical-align: middle;\n",
       "    }\n",
       "\n",
       "    .dataframe tbody tr th {\n",
       "        vertical-align: top;\n",
       "    }\n",
       "\n",
       "    .dataframe thead th {\n",
       "        text-align: right;\n",
       "    }\n",
       "</style>\n",
       "<table border=\"1\" class=\"dataframe\">\n",
       "  <thead>\n",
       "    <tr style=\"text-align: right;\">\n",
       "      <th></th>\n",
       "      <th>churn</th>\n",
       "      <th>rf3_8_preds</th>\n",
       "    </tr>\n",
       "  </thead>\n",
       "  <tbody>\n",
       "    <tr>\n",
       "      <th>1247</th>\n",
       "      <td>0</td>\n",
       "      <td>1</td>\n",
       "    </tr>\n",
       "    <tr>\n",
       "      <th>7011</th>\n",
       "      <td>0</td>\n",
       "      <td>0</td>\n",
       "    </tr>\n",
       "    <tr>\n",
       "      <th>2647</th>\n",
       "      <td>0</td>\n",
       "      <td>0</td>\n",
       "    </tr>\n",
       "    <tr>\n",
       "      <th>6149</th>\n",
       "      <td>0</td>\n",
       "      <td>0</td>\n",
       "    </tr>\n",
       "    <tr>\n",
       "      <th>5797</th>\n",
       "      <td>0</td>\n",
       "      <td>0</td>\n",
       "    </tr>\n",
       "    <tr>\n",
       "      <th>...</th>\n",
       "      <td>...</td>\n",
       "      <td>...</td>\n",
       "    </tr>\n",
       "    <tr>\n",
       "      <th>6534</th>\n",
       "      <td>0</td>\n",
       "      <td>0</td>\n",
       "    </tr>\n",
       "    <tr>\n",
       "      <th>2010</th>\n",
       "      <td>0</td>\n",
       "      <td>0</td>\n",
       "    </tr>\n",
       "    <tr>\n",
       "      <th>570</th>\n",
       "      <td>0</td>\n",
       "      <td>0</td>\n",
       "    </tr>\n",
       "    <tr>\n",
       "      <th>362</th>\n",
       "      <td>0</td>\n",
       "      <td>0</td>\n",
       "    </tr>\n",
       "    <tr>\n",
       "      <th>6910</th>\n",
       "      <td>0</td>\n",
       "      <td>0</td>\n",
       "    </tr>\n",
       "  </tbody>\n",
       "</table>\n",
       "<p>1409 rows × 2 columns</p>\n",
       "</div>"
      ],
      "text/plain": [
       "      churn  rf3_8_preds\n",
       "1247      0            1\n",
       "7011      0            0\n",
       "2647      0            0\n",
       "6149      0            0\n",
       "5797      0            0\n",
       "...     ...          ...\n",
       "6534      0            0\n",
       "2010      0            0\n",
       "570       0            0\n",
       "362       0            0\n",
       "6910      0            0\n",
       "\n",
       "[1409 rows x 2 columns]"
      ]
     },
     "execution_count": 235,
     "metadata": {},
     "output_type": "execute_result"
    }
   ],
   "source": [
    "y_test_df['rf3_8_preds'] = rf3_8_preds\n",
    "y_test_df"
   ]
  },
  {
   "cell_type": "code",
   "execution_count": 240,
   "id": "404d5fa6",
   "metadata": {},
   "outputs": [
    {
     "ename": "KeyError",
     "evalue": "\"['churn'] not found in axis\"",
     "output_type": "error",
     "traceback": [
      "\u001b[0;31m---------------------------------------------------------------------------\u001b[0m",
      "\u001b[0;31mKeyError\u001b[0m                                  Traceback (most recent call last)",
      "Input \u001b[0;32mIn [240]\u001b[0m, in \u001b[0;36m<cell line: 1>\u001b[0;34m()\u001b[0m\n\u001b[0;32m----> 1\u001b[0m \u001b[43mtest\u001b[49m\u001b[38;5;241;43m.\u001b[39;49m\u001b[43mdrop\u001b[49m\u001b[43m(\u001b[49m\u001b[43mcolumns\u001b[49m\u001b[38;5;241;43m=\u001b[39;49m\u001b[43m(\u001b[49m\u001b[38;5;124;43m'\u001b[39;49m\u001b[38;5;124;43mchurn\u001b[39;49m\u001b[38;5;124;43m'\u001b[39;49m\u001b[43m)\u001b[49m\u001b[43m,\u001b[49m\u001b[43m \u001b[49m\u001b[43minplace\u001b[49m\u001b[38;5;241;43m=\u001b[39;49m\u001b[38;5;28;43;01mTrue\u001b[39;49;00m\u001b[43m)\u001b[49m\n\u001b[1;32m      2\u001b[0m test\n",
      "File \u001b[0;32m/opt/homebrew/anaconda3/lib/python3.9/site-packages/pandas/util/_decorators.py:311\u001b[0m, in \u001b[0;36mdeprecate_nonkeyword_arguments.<locals>.decorate.<locals>.wrapper\u001b[0;34m(*args, **kwargs)\u001b[0m\n\u001b[1;32m    305\u001b[0m \u001b[38;5;28;01mif\u001b[39;00m \u001b[38;5;28mlen\u001b[39m(args) \u001b[38;5;241m>\u001b[39m num_allow_args:\n\u001b[1;32m    306\u001b[0m     warnings\u001b[38;5;241m.\u001b[39mwarn(\n\u001b[1;32m    307\u001b[0m         msg\u001b[38;5;241m.\u001b[39mformat(arguments\u001b[38;5;241m=\u001b[39marguments),\n\u001b[1;32m    308\u001b[0m         \u001b[38;5;167;01mFutureWarning\u001b[39;00m,\n\u001b[1;32m    309\u001b[0m         stacklevel\u001b[38;5;241m=\u001b[39mstacklevel,\n\u001b[1;32m    310\u001b[0m     )\n\u001b[0;32m--> 311\u001b[0m \u001b[38;5;28;01mreturn\u001b[39;00m \u001b[43mfunc\u001b[49m\u001b[43m(\u001b[49m\u001b[38;5;241;43m*\u001b[39;49m\u001b[43margs\u001b[49m\u001b[43m,\u001b[49m\u001b[43m \u001b[49m\u001b[38;5;241;43m*\u001b[39;49m\u001b[38;5;241;43m*\u001b[39;49m\u001b[43mkwargs\u001b[49m\u001b[43m)\u001b[49m\n",
      "File \u001b[0;32m/opt/homebrew/anaconda3/lib/python3.9/site-packages/pandas/core/frame.py:4957\u001b[0m, in \u001b[0;36mDataFrame.drop\u001b[0;34m(self, labels, axis, index, columns, level, inplace, errors)\u001b[0m\n\u001b[1;32m   4809\u001b[0m \u001b[38;5;129m@deprecate_nonkeyword_arguments\u001b[39m(version\u001b[38;5;241m=\u001b[39m\u001b[38;5;28;01mNone\u001b[39;00m, allowed_args\u001b[38;5;241m=\u001b[39m[\u001b[38;5;124m\"\u001b[39m\u001b[38;5;124mself\u001b[39m\u001b[38;5;124m\"\u001b[39m, \u001b[38;5;124m\"\u001b[39m\u001b[38;5;124mlabels\u001b[39m\u001b[38;5;124m\"\u001b[39m])\n\u001b[1;32m   4810\u001b[0m \u001b[38;5;28;01mdef\u001b[39;00m \u001b[38;5;21mdrop\u001b[39m(\n\u001b[1;32m   4811\u001b[0m     \u001b[38;5;28mself\u001b[39m,\n\u001b[0;32m   (...)\u001b[0m\n\u001b[1;32m   4818\u001b[0m     errors: \u001b[38;5;28mstr\u001b[39m \u001b[38;5;241m=\u001b[39m \u001b[38;5;124m\"\u001b[39m\u001b[38;5;124mraise\u001b[39m\u001b[38;5;124m\"\u001b[39m,\n\u001b[1;32m   4819\u001b[0m ):\n\u001b[1;32m   4820\u001b[0m     \u001b[38;5;124;03m\"\"\"\u001b[39;00m\n\u001b[1;32m   4821\u001b[0m \u001b[38;5;124;03m    Drop specified labels from rows or columns.\u001b[39;00m\n\u001b[1;32m   4822\u001b[0m \n\u001b[0;32m   (...)\u001b[0m\n\u001b[1;32m   4955\u001b[0m \u001b[38;5;124;03m            weight  1.0     0.8\u001b[39;00m\n\u001b[1;32m   4956\u001b[0m \u001b[38;5;124;03m    \"\"\"\u001b[39;00m\n\u001b[0;32m-> 4957\u001b[0m     \u001b[38;5;28;01mreturn\u001b[39;00m \u001b[38;5;28;43msuper\u001b[39;49m\u001b[43m(\u001b[49m\u001b[43m)\u001b[49m\u001b[38;5;241;43m.\u001b[39;49m\u001b[43mdrop\u001b[49m\u001b[43m(\u001b[49m\n\u001b[1;32m   4958\u001b[0m \u001b[43m        \u001b[49m\u001b[43mlabels\u001b[49m\u001b[38;5;241;43m=\u001b[39;49m\u001b[43mlabels\u001b[49m\u001b[43m,\u001b[49m\n\u001b[1;32m   4959\u001b[0m \u001b[43m        \u001b[49m\u001b[43maxis\u001b[49m\u001b[38;5;241;43m=\u001b[39;49m\u001b[43maxis\u001b[49m\u001b[43m,\u001b[49m\n\u001b[1;32m   4960\u001b[0m \u001b[43m        \u001b[49m\u001b[43mindex\u001b[49m\u001b[38;5;241;43m=\u001b[39;49m\u001b[43mindex\u001b[49m\u001b[43m,\u001b[49m\n\u001b[1;32m   4961\u001b[0m \u001b[43m        \u001b[49m\u001b[43mcolumns\u001b[49m\u001b[38;5;241;43m=\u001b[39;49m\u001b[43mcolumns\u001b[49m\u001b[43m,\u001b[49m\n\u001b[1;32m   4962\u001b[0m \u001b[43m        \u001b[49m\u001b[43mlevel\u001b[49m\u001b[38;5;241;43m=\u001b[39;49m\u001b[43mlevel\u001b[49m\u001b[43m,\u001b[49m\n\u001b[1;32m   4963\u001b[0m \u001b[43m        \u001b[49m\u001b[43minplace\u001b[49m\u001b[38;5;241;43m=\u001b[39;49m\u001b[43minplace\u001b[49m\u001b[43m,\u001b[49m\n\u001b[1;32m   4964\u001b[0m \u001b[43m        \u001b[49m\u001b[43merrors\u001b[49m\u001b[38;5;241;43m=\u001b[39;49m\u001b[43merrors\u001b[49m\u001b[43m,\u001b[49m\n\u001b[1;32m   4965\u001b[0m \u001b[43m    \u001b[49m\u001b[43m)\u001b[49m\n",
      "File \u001b[0;32m/opt/homebrew/anaconda3/lib/python3.9/site-packages/pandas/core/generic.py:4267\u001b[0m, in \u001b[0;36mNDFrame.drop\u001b[0;34m(self, labels, axis, index, columns, level, inplace, errors)\u001b[0m\n\u001b[1;32m   4265\u001b[0m \u001b[38;5;28;01mfor\u001b[39;00m axis, labels \u001b[38;5;129;01min\u001b[39;00m axes\u001b[38;5;241m.\u001b[39mitems():\n\u001b[1;32m   4266\u001b[0m     \u001b[38;5;28;01mif\u001b[39;00m labels \u001b[38;5;129;01mis\u001b[39;00m \u001b[38;5;129;01mnot\u001b[39;00m \u001b[38;5;28;01mNone\u001b[39;00m:\n\u001b[0;32m-> 4267\u001b[0m         obj \u001b[38;5;241m=\u001b[39m \u001b[43mobj\u001b[49m\u001b[38;5;241;43m.\u001b[39;49m\u001b[43m_drop_axis\u001b[49m\u001b[43m(\u001b[49m\u001b[43mlabels\u001b[49m\u001b[43m,\u001b[49m\u001b[43m \u001b[49m\u001b[43maxis\u001b[49m\u001b[43m,\u001b[49m\u001b[43m \u001b[49m\u001b[43mlevel\u001b[49m\u001b[38;5;241;43m=\u001b[39;49m\u001b[43mlevel\u001b[49m\u001b[43m,\u001b[49m\u001b[43m \u001b[49m\u001b[43merrors\u001b[49m\u001b[38;5;241;43m=\u001b[39;49m\u001b[43merrors\u001b[49m\u001b[43m)\u001b[49m\n\u001b[1;32m   4269\u001b[0m \u001b[38;5;28;01mif\u001b[39;00m inplace:\n\u001b[1;32m   4270\u001b[0m     \u001b[38;5;28mself\u001b[39m\u001b[38;5;241m.\u001b[39m_update_inplace(obj)\n",
      "File \u001b[0;32m/opt/homebrew/anaconda3/lib/python3.9/site-packages/pandas/core/generic.py:4311\u001b[0m, in \u001b[0;36mNDFrame._drop_axis\u001b[0;34m(self, labels, axis, level, errors, consolidate, only_slice)\u001b[0m\n\u001b[1;32m   4309\u001b[0m         new_axis \u001b[38;5;241m=\u001b[39m axis\u001b[38;5;241m.\u001b[39mdrop(labels, level\u001b[38;5;241m=\u001b[39mlevel, errors\u001b[38;5;241m=\u001b[39merrors)\n\u001b[1;32m   4310\u001b[0m     \u001b[38;5;28;01melse\u001b[39;00m:\n\u001b[0;32m-> 4311\u001b[0m         new_axis \u001b[38;5;241m=\u001b[39m \u001b[43maxis\u001b[49m\u001b[38;5;241;43m.\u001b[39;49m\u001b[43mdrop\u001b[49m\u001b[43m(\u001b[49m\u001b[43mlabels\u001b[49m\u001b[43m,\u001b[49m\u001b[43m \u001b[49m\u001b[43merrors\u001b[49m\u001b[38;5;241;43m=\u001b[39;49m\u001b[43merrors\u001b[49m\u001b[43m)\u001b[49m\n\u001b[1;32m   4312\u001b[0m     indexer \u001b[38;5;241m=\u001b[39m axis\u001b[38;5;241m.\u001b[39mget_indexer(new_axis)\n\u001b[1;32m   4314\u001b[0m \u001b[38;5;66;03m# Case for non-unique axis\u001b[39;00m\n\u001b[1;32m   4315\u001b[0m \u001b[38;5;28;01melse\u001b[39;00m:\n",
      "File \u001b[0;32m/opt/homebrew/anaconda3/lib/python3.9/site-packages/pandas/core/indexes/base.py:6661\u001b[0m, in \u001b[0;36mIndex.drop\u001b[0;34m(self, labels, errors)\u001b[0m\n\u001b[1;32m   6659\u001b[0m \u001b[38;5;28;01mif\u001b[39;00m mask\u001b[38;5;241m.\u001b[39many():\n\u001b[1;32m   6660\u001b[0m     \u001b[38;5;28;01mif\u001b[39;00m errors \u001b[38;5;241m!=\u001b[39m \u001b[38;5;124m\"\u001b[39m\u001b[38;5;124mignore\u001b[39m\u001b[38;5;124m\"\u001b[39m:\n\u001b[0;32m-> 6661\u001b[0m         \u001b[38;5;28;01mraise\u001b[39;00m \u001b[38;5;167;01mKeyError\u001b[39;00m(\u001b[38;5;124mf\u001b[39m\u001b[38;5;124m\"\u001b[39m\u001b[38;5;132;01m{\u001b[39;00m\u001b[38;5;28mlist\u001b[39m(labels[mask])\u001b[38;5;132;01m}\u001b[39;00m\u001b[38;5;124m not found in axis\u001b[39m\u001b[38;5;124m\"\u001b[39m)\n\u001b[1;32m   6662\u001b[0m     indexer \u001b[38;5;241m=\u001b[39m indexer[\u001b[38;5;241m~\u001b[39mmask]\n\u001b[1;32m   6663\u001b[0m \u001b[38;5;28;01mreturn\u001b[39;00m \u001b[38;5;28mself\u001b[39m\u001b[38;5;241m.\u001b[39mdelete(indexer)\n",
      "\u001b[0;31mKeyError\u001b[0m: \"['churn'] not found in axis\""
     ]
    }
   ],
   "source": [
    "test.drop(columns=('churn'), inplace=True)"
   ]
  },
  {
   "cell_type": "code",
   "execution_count": 241,
   "id": "ffd9773e",
   "metadata": {},
   "outputs": [
    {
     "data": {
      "text/plain": [
       "Index(['customer_id', 'senior_citizen', 'partner', 'dependents', 'tenure',\n",
       "       'phone_service', 'multiple_lines', 'online_security', 'online_backup',\n",
       "       'device_protection', 'tech_support', 'streaming_tv', 'streaming_movies',\n",
       "       'paperless_billing', 'monthly_charges', 'total_charges', 'gender_Male',\n",
       "       'contract_type_One year', 'contract_type_Two year',\n",
       "       'internet_service_type_Fiber optic', 'internet_service_type_None',\n",
       "       'payment_type_Credit card (automatic)', 'payment_type_Electronic check',\n",
       "       'payment_type_Mailed check', 'baseline'],\n",
       "      dtype='object')"
      ]
     },
     "execution_count": 241,
     "metadata": {},
     "output_type": "execute_result"
    }
   ],
   "source": [
    "test.columns"
   ]
  },
  {
   "cell_type": "code",
   "execution_count": 242,
   "id": "621ac5a0",
   "metadata": {},
   "outputs": [],
   "source": [
    "churn_predictions = pd.merge(y_test_df, test, left_index=True, right_index=True)"
   ]
  },
  {
   "cell_type": "code",
   "execution_count": 243,
   "id": "dd09c28e",
   "metadata": {},
   "outputs": [
    {
     "data": {
      "text/plain": [
       "['churn',\n",
       " 'rf3_8_preds',\n",
       " 'customer_id',\n",
       " 'senior_citizen',\n",
       " 'partner',\n",
       " 'dependents',\n",
       " 'tenure',\n",
       " 'phone_service',\n",
       " 'multiple_lines',\n",
       " 'online_security',\n",
       " 'online_backup',\n",
       " 'device_protection',\n",
       " 'tech_support',\n",
       " 'streaming_tv',\n",
       " 'streaming_movies',\n",
       " 'paperless_billing',\n",
       " 'monthly_charges',\n",
       " 'total_charges',\n",
       " 'gender_Male',\n",
       " 'contract_type_One year',\n",
       " 'contract_type_Two year',\n",
       " 'internet_service_type_Fiber optic',\n",
       " 'internet_service_type_None',\n",
       " 'payment_type_Credit card (automatic)',\n",
       " 'payment_type_Electronic check',\n",
       " 'payment_type_Mailed check',\n",
       " 'baseline']"
      ]
     },
     "execution_count": 243,
     "metadata": {},
     "output_type": "execute_result"
    }
   ],
   "source": [
    "churn_predictions.columns.to_list()"
   ]
  },
  {
   "cell_type": "code",
   "execution_count": 248,
   "id": "5f440178",
   "metadata": {},
   "outputs": [],
   "source": [
    "churn_predictions = churn_predictions.drop(columns=(['senior_citizen',\n",
    " 'partner',\n",
    " 'dependents',\n",
    " 'tenure',\n",
    " 'phone_service',\n",
    " 'multiple_lines',\n",
    " 'online_security',\n",
    " 'online_backup',\n",
    " 'device_protection',\n",
    " 'tech_support',\n",
    " 'streaming_tv',\n",
    " 'streaming_movies',\n",
    " 'paperless_billing',\n",
    " 'monthly_charges',\n",
    " 'total_charges',\n",
    " 'gender_Male',\n",
    " 'contract_type_One year',\n",
    " 'contract_type_Two year',\n",
    " 'internet_service_type_Fiber optic',\n",
    " 'internet_service_type_None',\n",
    " 'payment_type_Credit card (automatic)',\n",
    " 'payment_type_Electronic check',\n",
    " 'payment_type_Mailed check',\n",
    " 'baseline']))"
   ]
  },
  {
   "cell_type": "code",
   "execution_count": 249,
   "id": "c9b0fea1",
   "metadata": {},
   "outputs": [
    {
     "data": {
      "text/html": [
       "<div>\n",
       "<style scoped>\n",
       "    .dataframe tbody tr th:only-of-type {\n",
       "        vertical-align: middle;\n",
       "    }\n",
       "\n",
       "    .dataframe tbody tr th {\n",
       "        vertical-align: top;\n",
       "    }\n",
       "\n",
       "    .dataframe thead th {\n",
       "        text-align: right;\n",
       "    }\n",
       "</style>\n",
       "<table border=\"1\" class=\"dataframe\">\n",
       "  <thead>\n",
       "    <tr style=\"text-align: right;\">\n",
       "      <th></th>\n",
       "      <th>churn</th>\n",
       "      <th>rf3_8_preds</th>\n",
       "      <th>customer_id</th>\n",
       "    </tr>\n",
       "  </thead>\n",
       "  <tbody>\n",
       "    <tr>\n",
       "      <th>1247</th>\n",
       "      <td>0</td>\n",
       "      <td>1</td>\n",
       "      <td>1845-ZLLIG</td>\n",
       "    </tr>\n",
       "    <tr>\n",
       "      <th>7011</th>\n",
       "      <td>0</td>\n",
       "      <td>0</td>\n",
       "      <td>9945-PSVIP</td>\n",
       "    </tr>\n",
       "    <tr>\n",
       "      <th>2647</th>\n",
       "      <td>0</td>\n",
       "      <td>0</td>\n",
       "      <td>3761-FLYZI</td>\n",
       "    </tr>\n",
       "    <tr>\n",
       "      <th>6149</th>\n",
       "      <td>0</td>\n",
       "      <td>0</td>\n",
       "      <td>8711-LOBKY</td>\n",
       "    </tr>\n",
       "    <tr>\n",
       "      <th>5797</th>\n",
       "      <td>0</td>\n",
       "      <td>0</td>\n",
       "      <td>8164-OCKUJ</td>\n",
       "    </tr>\n",
       "    <tr>\n",
       "      <th>...</th>\n",
       "      <td>...</td>\n",
       "      <td>...</td>\n",
       "      <td>...</td>\n",
       "    </tr>\n",
       "    <tr>\n",
       "      <th>6534</th>\n",
       "      <td>0</td>\n",
       "      <td>0</td>\n",
       "      <td>9278-VZKCD</td>\n",
       "    </tr>\n",
       "    <tr>\n",
       "      <th>2010</th>\n",
       "      <td>0</td>\n",
       "      <td>0</td>\n",
       "      <td>2898-MRKPI</td>\n",
       "    </tr>\n",
       "    <tr>\n",
       "      <th>570</th>\n",
       "      <td>0</td>\n",
       "      <td>0</td>\n",
       "      <td>0839-QNXME</td>\n",
       "    </tr>\n",
       "    <tr>\n",
       "      <th>362</th>\n",
       "      <td>0</td>\n",
       "      <td>0</td>\n",
       "      <td>0531-ZZJWQ</td>\n",
       "    </tr>\n",
       "    <tr>\n",
       "      <th>6910</th>\n",
       "      <td>0</td>\n",
       "      <td>0</td>\n",
       "      <td>9805-FILKB</td>\n",
       "    </tr>\n",
       "  </tbody>\n",
       "</table>\n",
       "<p>1409 rows × 3 columns</p>\n",
       "</div>"
      ],
      "text/plain": [
       "      churn  rf3_8_preds customer_id\n",
       "1247      0            1  1845-ZLLIG\n",
       "7011      0            0  9945-PSVIP\n",
       "2647      0            0  3761-FLYZI\n",
       "6149      0            0  8711-LOBKY\n",
       "5797      0            0  8164-OCKUJ\n",
       "...     ...          ...         ...\n",
       "6534      0            0  9278-VZKCD\n",
       "2010      0            0  2898-MRKPI\n",
       "570       0            0  0839-QNXME\n",
       "362       0            0  0531-ZZJWQ\n",
       "6910      0            0  9805-FILKB\n",
       "\n",
       "[1409 rows x 3 columns]"
      ]
     },
     "execution_count": 249,
     "metadata": {},
     "output_type": "execute_result"
    }
   ],
   "source": [
    "churn_predictions"
   ]
  },
  {
   "cell_type": "code",
   "execution_count": 254,
   "id": "7f3b890c",
   "metadata": {},
   "outputs": [],
   "source": [
    "churn_predictions = churn_predictions.loc[:,['customer_id', 'churn', 'rf3_8_preds']]"
   ]
  },
  {
   "cell_type": "code",
   "execution_count": 256,
   "id": "9b205ebd",
   "metadata": {},
   "outputs": [
    {
     "data": {
      "text/plain": [
       "0    1035\n",
       "1     374\n",
       "Name: churn, dtype: int64"
      ]
     },
     "execution_count": 256,
     "metadata": {},
     "output_type": "execute_result"
    }
   ],
   "source": [
    "churn_predictions.churn.value_counts()"
   ]
  },
  {
   "cell_type": "code",
   "execution_count": 257,
   "id": "b039032a",
   "metadata": {},
   "outputs": [
    {
     "data": {
      "text/plain": [
       "0    1097\n",
       "1     312\n",
       "Name: rf3_8_preds, dtype: Int64"
      ]
     },
     "execution_count": 257,
     "metadata": {},
     "output_type": "execute_result"
    }
   ],
   "source": [
    "churn_predictions.rf3_8_preds.value_counts()"
   ]
  },
  {
   "cell_type": "code",
   "execution_count": 258,
   "id": "5391f5d3",
   "metadata": {},
   "outputs": [
    {
     "data": {
      "text/html": [
       "<div>\n",
       "<style scoped>\n",
       "    .dataframe tbody tr th:only-of-type {\n",
       "        vertical-align: middle;\n",
       "    }\n",
       "\n",
       "    .dataframe tbody tr th {\n",
       "        vertical-align: top;\n",
       "    }\n",
       "\n",
       "    .dataframe thead th {\n",
       "        text-align: right;\n",
       "    }\n",
       "</style>\n",
       "<table border=\"1\" class=\"dataframe\">\n",
       "  <thead>\n",
       "    <tr style=\"text-align: right;\">\n",
       "      <th>rf3_8_preds</th>\n",
       "      <th>0</th>\n",
       "      <th>1</th>\n",
       "    </tr>\n",
       "    <tr>\n",
       "      <th>churn</th>\n",
       "      <th></th>\n",
       "      <th></th>\n",
       "    </tr>\n",
       "  </thead>\n",
       "  <tbody>\n",
       "    <tr>\n",
       "      <th>0</th>\n",
       "      <td>908</td>\n",
       "      <td>127</td>\n",
       "    </tr>\n",
       "    <tr>\n",
       "      <th>1</th>\n",
       "      <td>189</td>\n",
       "      <td>185</td>\n",
       "    </tr>\n",
       "  </tbody>\n",
       "</table>\n",
       "</div>"
      ],
      "text/plain": [
       "rf3_8_preds    0    1\n",
       "churn                \n",
       "0            908  127\n",
       "1            189  185"
      ]
     },
     "execution_count": 258,
     "metadata": {},
     "output_type": "execute_result"
    }
   ],
   "source": [
    "pd.crosstab(churn_predictions.churn, churn_predictions.rf3_8_preds)"
   ]
  },
  {
   "cell_type": "code",
   "execution_count": 260,
   "id": "f753eac2",
   "metadata": {},
   "outputs": [
    {
     "data": {
      "text/html": [
       "<div>\n",
       "<style scoped>\n",
       "    .dataframe tbody tr th:only-of-type {\n",
       "        vertical-align: middle;\n",
       "    }\n",
       "\n",
       "    .dataframe tbody tr th {\n",
       "        vertical-align: top;\n",
       "    }\n",
       "\n",
       "    .dataframe thead th {\n",
       "        text-align: right;\n",
       "    }\n",
       "</style>\n",
       "<table border=\"1\" class=\"dataframe\">\n",
       "  <thead>\n",
       "    <tr style=\"text-align: right;\">\n",
       "      <th></th>\n",
       "      <th>customer_id</th>\n",
       "      <th>churn</th>\n",
       "      <th>rf3_8_preds</th>\n",
       "    </tr>\n",
       "  </thead>\n",
       "  <tbody>\n",
       "    <tr>\n",
       "      <th>1247</th>\n",
       "      <td>1845-ZLLIG</td>\n",
       "      <td>0</td>\n",
       "      <td>1</td>\n",
       "    </tr>\n",
       "    <tr>\n",
       "      <th>7011</th>\n",
       "      <td>9945-PSVIP</td>\n",
       "      <td>0</td>\n",
       "      <td>0</td>\n",
       "    </tr>\n",
       "    <tr>\n",
       "      <th>2647</th>\n",
       "      <td>3761-FLYZI</td>\n",
       "      <td>0</td>\n",
       "      <td>0</td>\n",
       "    </tr>\n",
       "    <tr>\n",
       "      <th>6149</th>\n",
       "      <td>8711-LOBKY</td>\n",
       "      <td>0</td>\n",
       "      <td>0</td>\n",
       "    </tr>\n",
       "    <tr>\n",
       "      <th>5797</th>\n",
       "      <td>8164-OCKUJ</td>\n",
       "      <td>0</td>\n",
       "      <td>0</td>\n",
       "    </tr>\n",
       "    <tr>\n",
       "      <th>...</th>\n",
       "      <td>...</td>\n",
       "      <td>...</td>\n",
       "      <td>...</td>\n",
       "    </tr>\n",
       "    <tr>\n",
       "      <th>6534</th>\n",
       "      <td>9278-VZKCD</td>\n",
       "      <td>0</td>\n",
       "      <td>0</td>\n",
       "    </tr>\n",
       "    <tr>\n",
       "      <th>2010</th>\n",
       "      <td>2898-MRKPI</td>\n",
       "      <td>0</td>\n",
       "      <td>0</td>\n",
       "    </tr>\n",
       "    <tr>\n",
       "      <th>570</th>\n",
       "      <td>0839-QNXME</td>\n",
       "      <td>0</td>\n",
       "      <td>0</td>\n",
       "    </tr>\n",
       "    <tr>\n",
       "      <th>362</th>\n",
       "      <td>0531-ZZJWQ</td>\n",
       "      <td>0</td>\n",
       "      <td>0</td>\n",
       "    </tr>\n",
       "    <tr>\n",
       "      <th>6910</th>\n",
       "      <td>9805-FILKB</td>\n",
       "      <td>0</td>\n",
       "      <td>0</td>\n",
       "    </tr>\n",
       "  </tbody>\n",
       "</table>\n",
       "<p>1409 rows × 3 columns</p>\n",
       "</div>"
      ],
      "text/plain": [
       "     customer_id  churn  rf3_8_preds\n",
       "1247  1845-ZLLIG      0            1\n",
       "7011  9945-PSVIP      0            0\n",
       "2647  3761-FLYZI      0            0\n",
       "6149  8711-LOBKY      0            0\n",
       "5797  8164-OCKUJ      0            0\n",
       "...          ...    ...          ...\n",
       "6534  9278-VZKCD      0            0\n",
       "2010  2898-MRKPI      0            0\n",
       "570   0839-QNXME      0            0\n",
       "362   0531-ZZJWQ      0            0\n",
       "6910  9805-FILKB      0            0\n",
       "\n",
       "[1409 rows x 3 columns]"
      ]
     },
     "execution_count": 260,
     "metadata": {},
     "output_type": "execute_result"
    }
   ],
   "source": [
    "churn_predictions"
   ]
  },
  {
   "cell_type": "code",
   "execution_count": 261,
   "id": "72dab226",
   "metadata": {},
   "outputs": [],
   "source": [
    "churn_predictions.to_csv('telco_churn_predictions.csv')"
   ]
  }
 ],
 "metadata": {
  "kernelspec": {
   "display_name": "Python 3 (ipykernel)",
   "language": "python",
   "name": "python3"
  },
  "language_info": {
   "codemirror_mode": {
    "name": "ipython",
    "version": 3
   },
   "file_extension": ".py",
   "mimetype": "text/x-python",
   "name": "python",
   "nbconvert_exporter": "python",
   "pygments_lexer": "ipython3",
   "version": "3.9.13"
  }
 },
 "nbformat": 4,
 "nbformat_minor": 5
}
